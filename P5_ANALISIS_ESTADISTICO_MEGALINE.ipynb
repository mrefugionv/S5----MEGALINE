{
  "cells": [
    {
      "cell_type": "markdown",
      "metadata": {
        "id": "view-in-github",
        "colab_type": "text"
      },
      "source": [
        "<a href=\"https://colab.research.google.com/github/mrefugionv/S5----MEGALINE/blob/main/P5_ANALISIS_ESTADISTICO_MEGALINE.ipynb\" target=\"_parent\"><img src=\"https://colab.research.google.com/assets/colab-badge.svg\" alt=\"Open In Colab\"/></a>"
      ]
    },
    {
      "cell_type": "markdown",
      "metadata": {
        "id": "3rYiDeEH0q0f"
      },
      "source": [
        "# ¿Cuál es la mejor tarifa?\n",
        "\n",
        "Trabajas como analista para el operador de telecomunicaciones Megaline. La empresa ofrece a sus clientes dos tarifas de prepago, Surf y Ultimate. El departamento comercial quiere saber cuál de las tarifas genera más ingresos para poder ajustar el presupuesto de publicidad.\n",
        "\n",
        "Vas a realizar un análisis preliminar de las tarifas basado en una selección de clientes relativamente pequeña. Tendrás los datos de 500 clientes de Megaline: quiénes son los clientes, de dónde son, qué tarifa usan, así como la cantidad de llamadas que hicieron y los mensajes de texto que enviaron en 2018. Tu trabajo es analizar el comportamiento de los clientes y determinar qué tarifa de prepago genera más ingresos."
      ]
    },
    {
      "cell_type": "markdown",
      "metadata": {
        "id": "VNddPNRQ0q0w"
      },
      "source": [
        "\n",
        "\n",
        "En este proyecto vamos a conocer si se pueden aprobar o rechazar las siguientes dos hipótesis para que la empresa Megaline pueda tomar decisiones en cuanto a sus campañas de publicidad:\n",
        "\n",
        "* El ingreso promedio de los usuarios de las tarifas Ultimate y Surf difiere.\n",
        "* El ingreso promedio de los usuarios en el área de estados Nueva York-Nueva Jersey es diferente al de los usuarios de otras regiones.\n",
        "\n",
        "Para ello, se realizaran los procesos de: importación de bases de datos, revisión general de las bases de datos , preparación de los datos ( corrección de tipos de datos, revisión de valores auscentes y duplicados), obtener una nuevo dataframe con la información necesaria , plantear las hipótesis nula y alternativa y así hacer las comparaciones para probar o rechazar estas hipótesis planteadas.\n",
        "\n",
        "El nuevo data frame debera incluir los siguientes datos por cada usuario:\n",
        "* El numero de llamadas cada mes\n",
        "* Los minutos utilizados en esas llamadas (los cuales se redondean en cada llamada)\n",
        "* La cantidad de mensajes SMS enviados por mes\n",
        "* El volumen de datos de internet utilizados por mes ( se redondea antes del cobro).\n",
        "* El ingreso mensual.\n",
        "* Si pertenecen al área de los estados Nueva York-Nueva Jersey o de otras regiones.\n"
      ]
    },
    {
      "cell_type": "markdown",
      "metadata": {
        "id": "MQi4IPy70q0y"
      },
      "source": [
        "## Inicialización"
      ]
    },
    {
      "cell_type": "code",
      "execution_count": null,
      "metadata": {
        "id": "MtYIuBxu0q0z",
        "trusted": true
      },
      "outputs": [],
      "source": [
        "# Cargar todas las librerías\n",
        "\n",
        "import pandas as pd                      # Manejo de dataframes\n",
        "from matplotlib import pyplot as plt    # Crear gráficos\n",
        "import seaborn as sns                   # Grafico de caja -bigotes\n",
        "import numpy as np                       # Trabajar con matrices\n",
        "from scipy import stats as st            # Calculos estadísticos\n",
        "import math as mt                        # funciones matematicas (ej. sqrt)\n"
      ]
    },
    {
      "cell_type": "markdown",
      "metadata": {
        "id": "4ysWWC5i0q00"
      },
      "source": [
        "## Cargar datos"
      ]
    },
    {
      "cell_type": "code",
      "execution_count": null,
      "metadata": {
        "id": "CCqPW7rS0q01",
        "trusted": true
      },
      "outputs": [],
      "source": [
        "# Carga los archivos de datos en diferentes DataFrames\n",
        "\n",
        "calls = pd.read_csv('datasets/megaline_calls.csv')\n",
        "internet = pd.read_csv('datasets/megaline_internet.csv')\n",
        "messages  = pd.read_csv('datasets/megaline_messages.csv')\n",
        "plans  = pd.read_csv('datasets/megaline_plans.csv')\n",
        "users  = pd.read_csv('datasets/megaline_users.csv')"
      ]
    },
    {
      "cell_type": "markdown",
      "metadata": {
        "id": "69qqoJ3r0q01"
      },
      "source": [
        "## Preparar los datos"
      ]
    },
    {
      "cell_type": "markdown",
      "metadata": {
        "id": "vUuZw80S0q01"
      },
      "source": [
        "Los datos para este proyecto se dividen en varias tablas. Explorar cada una para tener una comprensión inicial de los datos y realizar correcciones si son requeridas en cada tabla, es una buena práctica."
      ]
    },
    {
      "cell_type": "markdown",
      "metadata": {
        "id": "ohBhimvH0q01"
      },
      "source": [
        "### Tarifas"
      ]
    },
    {
      "cell_type": "code",
      "execution_count": null,
      "metadata": {
        "id": "GptqP3Q40q02",
        "trusted": true,
        "outputId": "4714305b-6378-4562-ae32-aefd975a669f"
      },
      "outputs": [
        {
          "name": "stdout",
          "output_type": "stream",
          "text": [
            "<class 'pandas.core.frame.DataFrame'>\n",
            "RangeIndex: 2 entries, 0 to 1\n",
            "Data columns (total 8 columns):\n",
            " #   Column                 Non-Null Count  Dtype  \n",
            "---  ------                 --------------  -----  \n",
            " 0   messages_included      2 non-null      int64  \n",
            " 1   mb_per_month_included  2 non-null      int64  \n",
            " 2   minutes_included       2 non-null      int64  \n",
            " 3   usd_monthly_pay        2 non-null      int64  \n",
            " 4   usd_per_gb             2 non-null      int64  \n",
            " 5   usd_per_message        2 non-null      float64\n",
            " 6   usd_per_minute         2 non-null      float64\n",
            " 7   plan_name              2 non-null      object \n",
            "dtypes: float64(2), int64(5), object(1)\n",
            "memory usage: 260.0+ bytes\n"
          ]
        }
      ],
      "source": [
        "# Imprime la información general/resumida sobre el DataFrame de las tarifas\n",
        "plans.info()"
      ]
    },
    {
      "cell_type": "code",
      "execution_count": null,
      "metadata": {
        "id": "64xzjwL70q02",
        "trusted": true,
        "outputId": "30e6b68a-77cd-420e-c71f-edab5c9c90b5"
      },
      "outputs": [
        {
          "data": {
            "text/html": [
              "<div>\n",
              "<style scoped>\n",
              "    .dataframe tbody tr th:only-of-type {\n",
              "        vertical-align: middle;\n",
              "    }\n",
              "\n",
              "    .dataframe tbody tr th {\n",
              "        vertical-align: top;\n",
              "    }\n",
              "\n",
              "    .dataframe thead th {\n",
              "        text-align: right;\n",
              "    }\n",
              "</style>\n",
              "<table border=\"1\" class=\"dataframe\">\n",
              "  <thead>\n",
              "    <tr style=\"text-align: right;\">\n",
              "      <th></th>\n",
              "      <th>messages_included</th>\n",
              "      <th>mb_per_month_included</th>\n",
              "      <th>minutes_included</th>\n",
              "      <th>usd_monthly_pay</th>\n",
              "      <th>usd_per_gb</th>\n",
              "      <th>usd_per_message</th>\n",
              "      <th>usd_per_minute</th>\n",
              "      <th>plan_name</th>\n",
              "    </tr>\n",
              "  </thead>\n",
              "  <tbody>\n",
              "    <tr>\n",
              "      <th>0</th>\n",
              "      <td>50</td>\n",
              "      <td>15360</td>\n",
              "      <td>500</td>\n",
              "      <td>20</td>\n",
              "      <td>10</td>\n",
              "      <td>0.03</td>\n",
              "      <td>0.03</td>\n",
              "      <td>surf</td>\n",
              "    </tr>\n",
              "    <tr>\n",
              "      <th>1</th>\n",
              "      <td>1000</td>\n",
              "      <td>30720</td>\n",
              "      <td>3000</td>\n",
              "      <td>70</td>\n",
              "      <td>7</td>\n",
              "      <td>0.01</td>\n",
              "      <td>0.01</td>\n",
              "      <td>ultimate</td>\n",
              "    </tr>\n",
              "  </tbody>\n",
              "</table>\n",
              "</div>"
            ],
            "text/plain": [
              "   messages_included  mb_per_month_included  minutes_included  \\\n",
              "0                 50                  15360               500   \n",
              "1               1000                  30720              3000   \n",
              "\n",
              "   usd_monthly_pay  usd_per_gb  usd_per_message  usd_per_minute plan_name  \n",
              "0               20          10             0.03            0.03      surf  \n",
              "1               70           7             0.01            0.01  ultimate  "
            ]
          },
          "execution_count": 6,
          "metadata": {},
          "output_type": "execute_result"
        }
      ],
      "source": [
        "# Imprime una muestra de los datos para las tarifas\n",
        "plans.head(2)    # Solo tenemos dos entradas, imprimimos ambas"
      ]
    },
    {
      "cell_type": "markdown",
      "metadata": {
        "id": "mEc_3_hs0q02"
      },
      "source": [
        "En la información general se muestra que tenemos unicamente dos entradas en esta tabla, que corresponde a los dos planes (cuyos valores en objetos string son: surf y ultimate), de cada uno se especifican:\n",
        "* Expresados en número enteros:  el numero de mensajes incluidos, los megabytes incluidos por mes, los minutos incluidos, el costo por mes en dolares estadounidenses y el costo de gygabyte extra en dolares.\n",
        "* Expresados en números flotantes: el costo por mensaje extra en dolares y el costo por minuto extra en dolares.\n",
        "No hay valores ausentes y los tipos de datos concuerdan con la información que representa.\n",
        "\n",
        "En la muestra de datos pordemos observar cada uno de los valores correspondientes, se muestra la tabla completa."
      ]
    },
    {
      "cell_type": "markdown",
      "metadata": {
        "id": "R3C05i1l0q03"
      },
      "source": [
        "#### Corregir datos"
      ]
    },
    {
      "cell_type": "markdown",
      "metadata": {
        "id": "bIi8StZI0q03"
      },
      "source": [
        "No es necesaria la correción de los datos. De acuerdo a la información dada la cual se muestra a continuación, no hay errores en los valores y los tipos de datos van acorde al valor que expresan.\n",
        "\n",
        "Surf\n",
        "Pago mensual: 20 dolares\n",
        "Minutos al mes : 500\n",
        "SMS al mes : 50 SMS\n",
        "Flujo de datos: 15 GB .\n",
        "Si se exceden los límites del paquete:\n",
        "1 minuto: 3 centavos.\n",
        "1 SMS: 3 centavos.\n",
        "1 GB de datos: 10 dolares.\n",
        "\n",
        "Ultimate\n",
        "Pago mensual: 70 dolares.\n",
        "Minutos al mes : 3000.\n",
        "SMS al mes : 1000 .\n",
        "Flujo de datos : 30 GB\n",
        "Si se exceden los límites del paquete:\n",
        "1 minuto: 1 centavo.\n",
        "1 SMS: 1 centavo.\n",
        "1 GB de datos: 7 dolares.\n",
        "\n",
        "La unica diferencia radica en que en la tabla el flujo de datos esta expresado en megabytes en lugar de gygabytes:\n",
        "* Surf : 15360 MG = 15 GB\n",
        "* Ultimate :  30720 MG = 30 GB\n"
      ]
    },
    {
      "cell_type": "markdown",
      "metadata": {
        "id": "LJir7bml0q03"
      },
      "source": [
        "#### Enriquecer los datos"
      ]
    },
    {
      "cell_type": "markdown",
      "metadata": {
        "id": "eqADpCfg0q04"
      },
      "source": [
        "No parece ser necesario enriquecer datos:\n",
        "* Los titulos de las columnas estan en formato snakecase y expresan de manera entendible que representa cada dato\n",
        "* No tenemos valores ausentes, ni duplicados.\n",
        "\n",
        "La unica observación a tomar en cuenta para hacer los cobros es que esta tabla refleja el flujo de datos incluidos en la tarifa en unidades de MB, y no en GB redondeados. Sin embargo no es necesario realizar esa conversión en esta tabla ya que esta tabla oficial de las tarifas y en el titulo de la columna se expresa explicitamente que el valor esta dado en MB."
      ]
    },
    {
      "cell_type": "markdown",
      "metadata": {
        "id": "1n2X6WXf0q04"
      },
      "source": [
        "### Usuarios/as"
      ]
    },
    {
      "cell_type": "code",
      "execution_count": null,
      "metadata": {
        "id": "2NgjWFqx0q05",
        "trusted": true,
        "outputId": "1d9eeed6-97aa-44ac-9aaa-c71dbb7d81eb"
      },
      "outputs": [
        {
          "name": "stdout",
          "output_type": "stream",
          "text": [
            "<class 'pandas.core.frame.DataFrame'>\n",
            "RangeIndex: 500 entries, 0 to 499\n",
            "Data columns (total 8 columns):\n",
            " #   Column      Non-Null Count  Dtype \n",
            "---  ------      --------------  ----- \n",
            " 0   user_id     500 non-null    int64 \n",
            " 1   first_name  500 non-null    object\n",
            " 2   last_name   500 non-null    object\n",
            " 3   age         500 non-null    int64 \n",
            " 4   city        500 non-null    object\n",
            " 5   reg_date    500 non-null    object\n",
            " 6   plan        500 non-null    object\n",
            " 7   churn_date  34 non-null     object\n",
            "dtypes: int64(2), object(6)\n",
            "memory usage: 31.4+ KB\n"
          ]
        }
      ],
      "source": [
        "# Imprime la información general/resumida sobre el DataFrame de usuarios\n",
        "\n",
        "users.info()"
      ]
    },
    {
      "cell_type": "code",
      "execution_count": null,
      "metadata": {
        "id": "1IN1L9uh0q05",
        "trusted": true,
        "outputId": "9975471d-eca8-4acd-8b9a-3fe9701974c8"
      },
      "outputs": [
        {
          "data": {
            "text/html": [
              "<div>\n",
              "<style scoped>\n",
              "    .dataframe tbody tr th:only-of-type {\n",
              "        vertical-align: middle;\n",
              "    }\n",
              "\n",
              "    .dataframe tbody tr th {\n",
              "        vertical-align: top;\n",
              "    }\n",
              "\n",
              "    .dataframe thead th {\n",
              "        text-align: right;\n",
              "    }\n",
              "</style>\n",
              "<table border=\"1\" class=\"dataframe\">\n",
              "  <thead>\n",
              "    <tr style=\"text-align: right;\">\n",
              "      <th></th>\n",
              "      <th>user_id</th>\n",
              "      <th>first_name</th>\n",
              "      <th>last_name</th>\n",
              "      <th>age</th>\n",
              "      <th>city</th>\n",
              "      <th>reg_date</th>\n",
              "      <th>plan</th>\n",
              "      <th>churn_date</th>\n",
              "    </tr>\n",
              "  </thead>\n",
              "  <tbody>\n",
              "    <tr>\n",
              "      <th>206</th>\n",
              "      <td>1206</td>\n",
              "      <td>Angelic</td>\n",
              "      <td>Singleton</td>\n",
              "      <td>21</td>\n",
              "      <td>Providence-Warwick, RI-MA MSA</td>\n",
              "      <td>2018-07-09</td>\n",
              "      <td>surf</td>\n",
              "      <td>NaN</td>\n",
              "    </tr>\n",
              "    <tr>\n",
              "      <th>44</th>\n",
              "      <td>1044</td>\n",
              "      <td>Devora</td>\n",
              "      <td>Galloway</td>\n",
              "      <td>74</td>\n",
              "      <td>Albuquerque, NM MSA</td>\n",
              "      <td>2018-08-30</td>\n",
              "      <td>surf</td>\n",
              "      <td>NaN</td>\n",
              "    </tr>\n",
              "    <tr>\n",
              "      <th>470</th>\n",
              "      <td>1470</td>\n",
              "      <td>Gerald</td>\n",
              "      <td>Reese</td>\n",
              "      <td>45</td>\n",
              "      <td>Washington-Arlington-Alexandria, DC-VA-MD-WV MSA</td>\n",
              "      <td>2018-04-21</td>\n",
              "      <td>surf</td>\n",
              "      <td>NaN</td>\n",
              "    </tr>\n",
              "    <tr>\n",
              "      <th>405</th>\n",
              "      <td>1405</td>\n",
              "      <td>Shella</td>\n",
              "      <td>Hunter</td>\n",
              "      <td>34</td>\n",
              "      <td>Indianapolis-Carmel-Anderson, IN MSA</td>\n",
              "      <td>2018-06-22</td>\n",
              "      <td>ultimate</td>\n",
              "      <td>NaN</td>\n",
              "    </tr>\n",
              "    <tr>\n",
              "      <th>106</th>\n",
              "      <td>1106</td>\n",
              "      <td>Eddy</td>\n",
              "      <td>Garrison</td>\n",
              "      <td>47</td>\n",
              "      <td>New York-Newark-Jersey City, NY-NJ-PA MSA</td>\n",
              "      <td>2018-05-10</td>\n",
              "      <td>surf</td>\n",
              "      <td>2018-11-14</td>\n",
              "    </tr>\n",
              "    <tr>\n",
              "      <th>261</th>\n",
              "      <td>1261</td>\n",
              "      <td>Dusti</td>\n",
              "      <td>Forbes</td>\n",
              "      <td>31</td>\n",
              "      <td>Kansas City, MO-KS MSA</td>\n",
              "      <td>2018-02-22</td>\n",
              "      <td>surf</td>\n",
              "      <td>NaN</td>\n",
              "    </tr>\n",
              "    <tr>\n",
              "      <th>228</th>\n",
              "      <td>1228</td>\n",
              "      <td>Jude</td>\n",
              "      <td>Hale</td>\n",
              "      <td>26</td>\n",
              "      <td>Detroit-Warren-Dearborn, MI MSA</td>\n",
              "      <td>2018-04-15</td>\n",
              "      <td>surf</td>\n",
              "      <td>NaN</td>\n",
              "    </tr>\n",
              "    <tr>\n",
              "      <th>427</th>\n",
              "      <td>1427</td>\n",
              "      <td>Zofia</td>\n",
              "      <td>Brock</td>\n",
              "      <td>64</td>\n",
              "      <td>Washington-Arlington-Alexandria, DC-VA-MD-WV MSA</td>\n",
              "      <td>2018-01-26</td>\n",
              "      <td>ultimate</td>\n",
              "      <td>NaN</td>\n",
              "    </tr>\n",
              "    <tr>\n",
              "      <th>149</th>\n",
              "      <td>1149</td>\n",
              "      <td>Jamaal</td>\n",
              "      <td>Camacho</td>\n",
              "      <td>54</td>\n",
              "      <td>San Francisco-Oakland-Berkeley, CA MSA</td>\n",
              "      <td>2018-03-03</td>\n",
              "      <td>surf</td>\n",
              "      <td>NaN</td>\n",
              "    </tr>\n",
              "    <tr>\n",
              "      <th>432</th>\n",
              "      <td>1432</td>\n",
              "      <td>Azucena</td>\n",
              "      <td>Goodwin</td>\n",
              "      <td>59</td>\n",
              "      <td>Salt Lake City, UT MSA</td>\n",
              "      <td>2018-10-03</td>\n",
              "      <td>ultimate</td>\n",
              "      <td>NaN</td>\n",
              "    </tr>\n",
              "    <tr>\n",
              "      <th>352</th>\n",
              "      <td>1352</td>\n",
              "      <td>Gavin</td>\n",
              "      <td>Galloway</td>\n",
              "      <td>48</td>\n",
              "      <td>Seattle-Tacoma-Bellevue, WA MSA</td>\n",
              "      <td>2018-09-08</td>\n",
              "      <td>ultimate</td>\n",
              "      <td>NaN</td>\n",
              "    </tr>\n",
              "    <tr>\n",
              "      <th>164</th>\n",
              "      <td>1164</td>\n",
              "      <td>Kam</td>\n",
              "      <td>Macias</td>\n",
              "      <td>31</td>\n",
              "      <td>Chicago-Naperville-Elgin, IL-IN-WI MSA</td>\n",
              "      <td>2018-02-17</td>\n",
              "      <td>ultimate</td>\n",
              "      <td>NaN</td>\n",
              "    </tr>\n",
              "    <tr>\n",
              "      <th>213</th>\n",
              "      <td>1213</td>\n",
              "      <td>Carl</td>\n",
              "      <td>Newman</td>\n",
              "      <td>47</td>\n",
              "      <td>San Diego-Chula Vista-Carlsbad, CA MSA</td>\n",
              "      <td>2018-11-25</td>\n",
              "      <td>ultimate</td>\n",
              "      <td>NaN</td>\n",
              "    </tr>\n",
              "    <tr>\n",
              "      <th>353</th>\n",
              "      <td>1353</td>\n",
              "      <td>Emerson</td>\n",
              "      <td>Whitfield</td>\n",
              "      <td>56</td>\n",
              "      <td>North Port-Sarasota-Bradenton, FL MSA</td>\n",
              "      <td>2018-03-27</td>\n",
              "      <td>surf</td>\n",
              "      <td>NaN</td>\n",
              "    </tr>\n",
              "    <tr>\n",
              "      <th>450</th>\n",
              "      <td>1450</td>\n",
              "      <td>Errol</td>\n",
              "      <td>Marquez</td>\n",
              "      <td>67</td>\n",
              "      <td>Bakersfield, CA MSA</td>\n",
              "      <td>2018-06-16</td>\n",
              "      <td>ultimate</td>\n",
              "      <td>NaN</td>\n",
              "    </tr>\n",
              "    <tr>\n",
              "      <th>468</th>\n",
              "      <td>1468</td>\n",
              "      <td>Johana</td>\n",
              "      <td>Kim</td>\n",
              "      <td>55</td>\n",
              "      <td>Denver-Aurora-Lakewood, CO MSA</td>\n",
              "      <td>2018-09-08</td>\n",
              "      <td>surf</td>\n",
              "      <td>NaN</td>\n",
              "    </tr>\n",
              "    <tr>\n",
              "      <th>250</th>\n",
              "      <td>1250</td>\n",
              "      <td>Milan</td>\n",
              "      <td>Sellers</td>\n",
              "      <td>57</td>\n",
              "      <td>Houston-The Woodlands-Sugar Land, TX MSA</td>\n",
              "      <td>2018-04-03</td>\n",
              "      <td>ultimate</td>\n",
              "      <td>NaN</td>\n",
              "    </tr>\n",
              "    <tr>\n",
              "      <th>481</th>\n",
              "      <td>1481</td>\n",
              "      <td>Roni</td>\n",
              "      <td>Frye</td>\n",
              "      <td>32</td>\n",
              "      <td>Urban Honolulu, HI MSA</td>\n",
              "      <td>2018-12-27</td>\n",
              "      <td>surf</td>\n",
              "      <td>NaN</td>\n",
              "    </tr>\n",
              "    <tr>\n",
              "      <th>425</th>\n",
              "      <td>1425</td>\n",
              "      <td>Latrisha</td>\n",
              "      <td>Larsen</td>\n",
              "      <td>19</td>\n",
              "      <td>Las Vegas-Henderson-Paradise, NV MSA</td>\n",
              "      <td>2018-09-20</td>\n",
              "      <td>surf</td>\n",
              "      <td>NaN</td>\n",
              "    </tr>\n",
              "    <tr>\n",
              "      <th>472</th>\n",
              "      <td>1472</td>\n",
              "      <td>Maximo</td>\n",
              "      <td>Mendoza</td>\n",
              "      <td>51</td>\n",
              "      <td>San Francisco-Oakland-Berkeley, CA MSA</td>\n",
              "      <td>2018-04-10</td>\n",
              "      <td>surf</td>\n",
              "      <td>NaN</td>\n",
              "    </tr>\n",
              "  </tbody>\n",
              "</table>\n",
              "</div>"
            ],
            "text/plain": [
              "     user_id first_name  last_name  age  \\\n",
              "206     1206    Angelic  Singleton   21   \n",
              "44      1044     Devora   Galloway   74   \n",
              "470     1470     Gerald      Reese   45   \n",
              "405     1405     Shella     Hunter   34   \n",
              "106     1106       Eddy   Garrison   47   \n",
              "261     1261      Dusti     Forbes   31   \n",
              "228     1228       Jude       Hale   26   \n",
              "427     1427      Zofia      Brock   64   \n",
              "149     1149     Jamaal    Camacho   54   \n",
              "432     1432    Azucena    Goodwin   59   \n",
              "352     1352      Gavin   Galloway   48   \n",
              "164     1164        Kam     Macias   31   \n",
              "213     1213       Carl     Newman   47   \n",
              "353     1353    Emerson  Whitfield   56   \n",
              "450     1450      Errol    Marquez   67   \n",
              "468     1468     Johana        Kim   55   \n",
              "250     1250      Milan    Sellers   57   \n",
              "481     1481       Roni       Frye   32   \n",
              "425     1425   Latrisha     Larsen   19   \n",
              "472     1472     Maximo    Mendoza   51   \n",
              "\n",
              "                                                 city    reg_date      plan  \\\n",
              "206                     Providence-Warwick, RI-MA MSA  2018-07-09      surf   \n",
              "44                                Albuquerque, NM MSA  2018-08-30      surf   \n",
              "470  Washington-Arlington-Alexandria, DC-VA-MD-WV MSA  2018-04-21      surf   \n",
              "405              Indianapolis-Carmel-Anderson, IN MSA  2018-06-22  ultimate   \n",
              "106         New York-Newark-Jersey City, NY-NJ-PA MSA  2018-05-10      surf   \n",
              "261                            Kansas City, MO-KS MSA  2018-02-22      surf   \n",
              "228                   Detroit-Warren-Dearborn, MI MSA  2018-04-15      surf   \n",
              "427  Washington-Arlington-Alexandria, DC-VA-MD-WV MSA  2018-01-26  ultimate   \n",
              "149            San Francisco-Oakland-Berkeley, CA MSA  2018-03-03      surf   \n",
              "432                            Salt Lake City, UT MSA  2018-10-03  ultimate   \n",
              "352                   Seattle-Tacoma-Bellevue, WA MSA  2018-09-08  ultimate   \n",
              "164            Chicago-Naperville-Elgin, IL-IN-WI MSA  2018-02-17  ultimate   \n",
              "213            San Diego-Chula Vista-Carlsbad, CA MSA  2018-11-25  ultimate   \n",
              "353             North Port-Sarasota-Bradenton, FL MSA  2018-03-27      surf   \n",
              "450                               Bakersfield, CA MSA  2018-06-16  ultimate   \n",
              "468                    Denver-Aurora-Lakewood, CO MSA  2018-09-08      surf   \n",
              "250          Houston-The Woodlands-Sugar Land, TX MSA  2018-04-03  ultimate   \n",
              "481                            Urban Honolulu, HI MSA  2018-12-27      surf   \n",
              "425              Las Vegas-Henderson-Paradise, NV MSA  2018-09-20      surf   \n",
              "472            San Francisco-Oakland-Berkeley, CA MSA  2018-04-10      surf   \n",
              "\n",
              "     churn_date  \n",
              "206         NaN  \n",
              "44          NaN  \n",
              "470         NaN  \n",
              "405         NaN  \n",
              "106  2018-11-14  \n",
              "261         NaN  \n",
              "228         NaN  \n",
              "427         NaN  \n",
              "149         NaN  \n",
              "432         NaN  \n",
              "352         NaN  \n",
              "164         NaN  \n",
              "213         NaN  \n",
              "353         NaN  \n",
              "450         NaN  \n",
              "468         NaN  \n",
              "250         NaN  \n",
              "481         NaN  \n",
              "425         NaN  \n",
              "472         NaN  "
            ]
          },
          "execution_count": 8,
          "metadata": {},
          "output_type": "execute_result"
        }
      ],
      "source": [
        "# Imprime una muestra de datos para usuarios\n",
        "\n",
        "users.sample(20) # Muestra aleatoria = representativa"
      ]
    },
    {
      "cell_type": "markdown",
      "metadata": {
        "id": "dCZoUq4f0q06"
      },
      "source": [
        "En la tabla de información podemos notar dos cosas:\n",
        "* El número de identificador de usuario esta dado por un número entero, se recomienda que los identificadores sean tipo string ya que no se realizan operaciones matemáticos con ellos, sino de comparación.\n",
        "* La mayor parte de los datos en la columna \"churn_date\" son nulos (solo 34 de 500 tienen valor), aquí hay que considerar una observación que nos hicieron al entregar las bases de datos: Esta columna se refiere a la fecha en la que el usuario dejó de usar el servicio (si el valor es ausente, la tarifa se estaba usando cuando fue extraída esta base de datos)."
      ]
    },
    {
      "cell_type": "markdown",
      "metadata": {
        "id": "BX5FQh_I0q06"
      },
      "source": [
        "#### Corregir los datos"
      ]
    },
    {
      "cell_type": "markdown",
      "metadata": {
        "id": "8OdKMwJv0q06"
      },
      "source": [
        "Se tranformara el tipo de dato de \"user_id\", de entero a string."
      ]
    },
    {
      "cell_type": "code",
      "execution_count": null,
      "metadata": {
        "id": "yUqX-K0C0q07",
        "trusted": true,
        "outputId": "627932ad-7eec-4292-f1c8-0969333da570"
      },
      "outputs": [
        {
          "name": "stdout",
          "output_type": "stream",
          "text": [
            "<class 'pandas.core.frame.DataFrame'>\n",
            "RangeIndex: 500 entries, 0 to 499\n",
            "Data columns (total 8 columns):\n",
            " #   Column      Non-Null Count  Dtype \n",
            "---  ------      --------------  ----- \n",
            " 0   user_id     500 non-null    object\n",
            " 1   first_name  500 non-null    object\n",
            " 2   last_name   500 non-null    object\n",
            " 3   age         500 non-null    int64 \n",
            " 4   city        500 non-null    object\n",
            " 5   reg_date    500 non-null    object\n",
            " 6   plan        500 non-null    object\n",
            " 7   churn_date  34 non-null     object\n",
            "dtypes: int64(1), object(7)\n",
            "memory usage: 31.4+ KB\n"
          ]
        }
      ],
      "source": [
        "users['user_id']= users['user_id'].astype('str')\n",
        "users.info()"
      ]
    },
    {
      "cell_type": "markdown",
      "metadata": {
        "id": "ycwuARJp0q07"
      },
      "source": [
        "#### Enriquecer los datos"
      ]
    },
    {
      "cell_type": "markdown",
      "metadata": {
        "id": "96NIh4CJ0q08"
      },
      "source": [
        "Podemos agregar una columna binomial que nos indique si el usuario pertenece al área de los estados de New York- Jersey o no, para después facilitar la prueba de la segunda hipótesis:\n",
        "* El ingreso promedio de los usuarios en el área de estados Nueva York-Nueva Jersey es diferente al de los usuarios de otras regiones"
      ]
    },
    {
      "cell_type": "code",
      "execution_count": null,
      "metadata": {
        "id": "iq0AaBS90q08",
        "trusted": true,
        "outputId": "3968d128-d6cf-45a0-faf8-1d0cdb6bd893"
      },
      "outputs": [
        {
          "name": "stdout",
          "output_type": "stream",
          "text": [
            "    user_id first_name   last_name  age  \\\n",
            "446    1446   Pasquale        Ball   52   \n",
            "63     1063   Larhonda     Hartman   60   \n",
            "335    1335       Gail     Coleman   61   \n",
            "378    1378   Mckinley     Clayton   22   \n",
            "469    1469       Rory       Nixon   75   \n",
            "427    1427      Zofia       Brock   64   \n",
            "61     1061     Maryam    Valencia   38   \n",
            "130    1130   Clarence  Cunningham   27   \n",
            "96     1096       Song       Cline   28   \n",
            "287    1287      Heide        Gill   74   \n",
            "23     1023       Jack     Delaney   70   \n",
            "276    1276     Karmen      Carney   20   \n",
            "250    1250      Milan     Sellers   57   \n",
            "240    1240      Drema       Lopez   61   \n",
            "79     1079      Brian      Mccall   48   \n",
            "75     1075     Salena       Bates   35   \n",
            "88     1088      Paris   Robertson   64   \n",
            "35     1035       Jeff    Cummings   67   \n",
            "390    1390    Deloras  Strickland   61   \n",
            "180    1180      Wonda        Hays   24   \n",
            "\n",
            "                                                 city    reg_date      plan  \\\n",
            "446              Austin-Round Rock-Georgetown, TX MSA  2018-09-10      surf   \n",
            "63          New York-Newark-Jersey City, NY-NJ-PA MSA  2018-11-05  ultimate   \n",
            "335               Dallas-Fort Worth-Arlington, TX MSA  2018-06-02      surf   \n",
            "378                    Denver-Aurora-Lakewood, CO MSA  2018-12-17      surf   \n",
            "469         New York-Newark-Jersey City, NY-NJ-PA MSA  2018-06-04      surf   \n",
            "427  Washington-Arlington-Alexandria, DC-VA-MD-WV MSA  2018-01-26  ultimate   \n",
            "61                                   Columbia, SC MSA  2018-03-08  ultimate   \n",
            "130   Philadelphia-Camden-Wilmington, PA-NJ-DE-MD MSA  2018-05-17      surf   \n",
            "96          New York-Newark-Jersey City, NY-NJ-PA MSA  2018-12-22  ultimate   \n",
            "287               Sacramento–Roseville–Folsom, CA MSA  2018-03-15      surf   \n",
            "23                    Omaha-Council Bluffs, NE-IA MSA  2018-07-06      surf   \n",
            "276                     Phoenix-Mesa-Chandler, AZ MSA  2018-02-14      surf   \n",
            "250          Houston-The Woodlands-Sugar Land, TX MSA  2018-04-03  ultimate   \n",
            "240                               Baton Rouge, LA MSA  2018-03-18      surf   \n",
            "79          New York-Newark-Jersey City, NY-NJ-PA MSA  2018-01-26      surf   \n",
            "75    Philadelphia-Camden-Wilmington, PA-NJ-DE-MD MSA  2018-08-06      surf   \n",
            "88                      Phoenix-Mesa-Chandler, AZ MSA  2018-05-27  ultimate   \n",
            "35              Charlotte-Concord-Gastonia, NC-SC MSA  2018-12-08      surf   \n",
            "390            Chicago-Naperville-Elgin, IL-IN-WI MSA  2018-03-11  ultimate   \n",
            "180         New York-Newark-Jersey City, NY-NJ-PA MSA  2018-12-01      surf   \n",
            "\n",
            "     churn_date  NY-NJ  \n",
            "446         NaN  False  \n",
            "63          NaN   True  \n",
            "335         NaN  False  \n",
            "378         NaN  False  \n",
            "469         NaN   True  \n",
            "427         NaN  False  \n",
            "61          NaN  False  \n",
            "130         NaN  False  \n",
            "96          NaN   True  \n",
            "287         NaN  False  \n",
            "23          NaN  False  \n",
            "276         NaN  False  \n",
            "250         NaN  False  \n",
            "240         NaN  False  \n",
            "79          NaN   True  \n",
            "75          NaN  False  \n",
            "88          NaN  False  \n",
            "35          NaN  False  \n",
            "390         NaN  False  \n",
            "180  2018-12-22   True  \n"
          ]
        }
      ],
      "source": [
        "NY_NJ = []\n",
        "\n",
        "for user in users['city']:\n",
        "    if user == 'New York-Newark-Jersey City, NY-NJ-PA MSA':\n",
        "        NY_NJ.append(True)\n",
        "    else:\n",
        "        NY_NJ.append(False)\n",
        "\n",
        "users['NY-NJ'] = NY_NJ\n",
        "\n",
        "print(users.sample(20))"
      ]
    },
    {
      "cell_type": "markdown",
      "metadata": {
        "id": "o7MeKCid0q08"
      },
      "source": [
        "### Llamadas"
      ]
    },
    {
      "cell_type": "code",
      "execution_count": null,
      "metadata": {
        "id": "6dDlnoDm0q08",
        "trusted": true,
        "outputId": "0a9e10ea-8481-4914-c01e-6ef81ea3ab4b"
      },
      "outputs": [
        {
          "name": "stdout",
          "output_type": "stream",
          "text": [
            "<class 'pandas.core.frame.DataFrame'>\n",
            "RangeIndex: 137735 entries, 0 to 137734\n",
            "Data columns (total 4 columns):\n",
            " #   Column     Non-Null Count   Dtype  \n",
            "---  ------     --------------   -----  \n",
            " 0   id         137735 non-null  object \n",
            " 1   user_id    137735 non-null  int64  \n",
            " 2   call_date  137735 non-null  object \n",
            " 3   duration   137735 non-null  float64\n",
            "dtypes: float64(1), int64(1), object(2)\n",
            "memory usage: 4.2+ MB\n"
          ]
        }
      ],
      "source": [
        "# Imprime la información general/resumida sobre el DataFrame de las llamadas\n",
        "calls.info()\n"
      ]
    },
    {
      "cell_type": "code",
      "execution_count": null,
      "metadata": {
        "id": "kuh1vlNB0q09",
        "trusted": true,
        "outputId": "f021e579-96fb-4b03-8391-6038a33c3a04"
      },
      "outputs": [
        {
          "data": {
            "text/html": [
              "<div>\n",
              "<style scoped>\n",
              "    .dataframe tbody tr th:only-of-type {\n",
              "        vertical-align: middle;\n",
              "    }\n",
              "\n",
              "    .dataframe tbody tr th {\n",
              "        vertical-align: top;\n",
              "    }\n",
              "\n",
              "    .dataframe thead th {\n",
              "        text-align: right;\n",
              "    }\n",
              "</style>\n",
              "<table border=\"1\" class=\"dataframe\">\n",
              "  <thead>\n",
              "    <tr style=\"text-align: right;\">\n",
              "      <th></th>\n",
              "      <th>id</th>\n",
              "      <th>user_id</th>\n",
              "      <th>call_date</th>\n",
              "      <th>duration</th>\n",
              "    </tr>\n",
              "  </thead>\n",
              "  <tbody>\n",
              "    <tr>\n",
              "      <th>0</th>\n",
              "      <td>1000_93</td>\n",
              "      <td>1000</td>\n",
              "      <td>2018-12-27</td>\n",
              "      <td>8.52</td>\n",
              "    </tr>\n",
              "    <tr>\n",
              "      <th>1</th>\n",
              "      <td>1000_145</td>\n",
              "      <td>1000</td>\n",
              "      <td>2018-12-27</td>\n",
              "      <td>13.66</td>\n",
              "    </tr>\n",
              "    <tr>\n",
              "      <th>2</th>\n",
              "      <td>1000_247</td>\n",
              "      <td>1000</td>\n",
              "      <td>2018-12-27</td>\n",
              "      <td>14.48</td>\n",
              "    </tr>\n",
              "    <tr>\n",
              "      <th>3</th>\n",
              "      <td>1000_309</td>\n",
              "      <td>1000</td>\n",
              "      <td>2018-12-28</td>\n",
              "      <td>5.76</td>\n",
              "    </tr>\n",
              "    <tr>\n",
              "      <th>4</th>\n",
              "      <td>1000_380</td>\n",
              "      <td>1000</td>\n",
              "      <td>2018-12-30</td>\n",
              "      <td>4.22</td>\n",
              "    </tr>\n",
              "  </tbody>\n",
              "</table>\n",
              "</div>"
            ],
            "text/plain": [
              "         id  user_id   call_date  duration\n",
              "0   1000_93     1000  2018-12-27      8.52\n",
              "1  1000_145     1000  2018-12-27     13.66\n",
              "2  1000_247     1000  2018-12-27     14.48\n",
              "3  1000_309     1000  2018-12-28      5.76\n",
              "4  1000_380     1000  2018-12-30      4.22"
            ]
          },
          "execution_count": 12,
          "metadata": {},
          "output_type": "execute_result"
        }
      ],
      "source": [
        "# Imprime una muestra de datos para las llamadas\n",
        "calls.head(5)\n"
      ]
    },
    {
      "cell_type": "markdown",
      "metadata": {
        "id": "DOAxYJSx0q09"
      },
      "source": [
        "En la información general de esta tabla podemos observar que:\n",
        "* No hay datos auscentes\n",
        "* El tipo de dato del 'user_id' es entero, usualmente los identificadores se manejan como strings por que no se realizan operaciones matemáticas con ellos.\n",
        "* El tipo de dato de la duración de llamada es flotante, de acuerdo a las indicaciones podemos convertirla entero redondeando hacia arriba. Se indico que : \" Para las llamadas, cada llamada individual se redondea: incluso si la llamada duró solo un segundo, se contará como un minuto.\"\n",
        "* El tipo de dato de la fecha se encuentra en objecto, habrá que asegurarnos de convertirlo a 'datetime'. Esta dado como yyyy-mm-dd.\n",
        "\n"
      ]
    },
    {
      "cell_type": "markdown",
      "metadata": {
        "id": "S7hzxmbX0q0-"
      },
      "source": [
        "#### Corregir los datos"
      ]
    },
    {
      "cell_type": "markdown",
      "metadata": {
        "id": "YxWyAjD20q0-"
      },
      "source": [
        "Se transforma 'user_id'a tipo string, 'duration' a entero, y 'call_date' a datetime64."
      ]
    },
    {
      "cell_type": "code",
      "execution_count": null,
      "metadata": {
        "id": "S2r8xA4f0q0-",
        "trusted": true,
        "outputId": "dabae327-983c-4941-936a-9d87302caefd"
      },
      "outputs": [
        {
          "name": "stdout",
          "output_type": "stream",
          "text": [
            "         id user_id  call_date  duration  rounded_duration\n",
            "0   1000_93    1000 2018-12-27      8.52                 9\n",
            "1  1000_145    1000 2018-12-27     13.66                14\n",
            "2  1000_247    1000 2018-12-27     14.48                15\n",
            "3  1000_309    1000 2018-12-28      5.76                 6\n",
            "4  1000_380    1000 2018-12-30      4.22                 5\n",
            "<class 'pandas.core.frame.DataFrame'>\n",
            "RangeIndex: 137735 entries, 0 to 137734\n",
            "Data columns (total 4 columns):\n",
            " #   Column            Non-Null Count   Dtype         \n",
            "---  ------            --------------   -----         \n",
            " 0   id                137735 non-null  object        \n",
            " 1   user_id           137735 non-null  object        \n",
            " 2   call_date         137735 non-null  datetime64[ns]\n",
            " 3   rounded_duration  137735 non-null  int64         \n",
            "dtypes: datetime64[ns](1), int64(1), object(2)\n",
            "memory usage: 4.2+ MB\n",
            "\n",
            "         id user_id  call_date  rounded_duration\n",
            "0   1000_93    1000 2018-12-27                 9\n",
            "1  1000_145    1000 2018-12-27                14\n",
            "2  1000_247    1000 2018-12-27                15\n",
            "3  1000_309    1000 2018-12-28                 6\n",
            "4  1000_380    1000 2018-12-30                 5\n"
          ]
        }
      ],
      "source": [
        "calls['user_id']= calls['user_id'].astype('str')\n",
        "calls['call_date']= pd.to_datetime(calls['call_date'], format= '%Y-%m-%d')\n",
        "\n",
        "rounded_duration = []\n",
        "for minutes in calls['duration']:\n",
        "    rounded = mt.ceil(minutes)\n",
        "    rounded_duration. append(rounded)\n",
        "\n",
        "calls['rounded_duration'] = rounded_duration\n",
        "print(calls.head(5))                             #Verificar que se hicieron los redondesos hacia arriba desde 0.01\n",
        "\n",
        "calls.drop(columns = 'duration', inplace=True)   #Eliminamos la duraci+on en flotantes, ya no nos sera util\n",
        "calls. info()\n",
        "print()\n",
        "print(calls.head(5))"
      ]
    },
    {
      "cell_type": "markdown",
      "metadata": {
        "id": "KrMgTrlG0q0_"
      },
      "source": [
        "#### Enriquecer los datos"
      ]
    },
    {
      "cell_type": "markdown",
      "metadata": {
        "id": "a9MbmEvE0q0_"
      },
      "source": [
        "\n",
        "Más adelante necesitaremos obtener los ingresos que hicieron los usuarios por mes para obtener las distribuciones de estos datos. Para ello será comveniente tener una columna que indique unicamente el mes de cada llamada, que llamaremos \"call_month, en lugar de toda la fecha. Esto facilitara el manejo de los datos para realizar los calculos de los cobros."
      ]
    },
    {
      "cell_type": "code",
      "execution_count": null,
      "metadata": {
        "id": "iZ1avpA_0q0_",
        "trusted": true,
        "outputId": "a6bee94e-c165-4933-dded-02df1bf0060a"
      },
      "outputs": [
        {
          "name": "stdout",
          "output_type": "stream",
          "text": [
            "              id user_id  call_date  rounded_duration  call_month\n",
            "106640  1377_192    1377 2018-08-08                10           8\n",
            "73885   1261_671    1261 2018-07-26                 1           7\n",
            "104683  1368_398    1368 2018-12-26                 6          12\n",
            "70605   1251_616    1251 2018-12-24                 9          12\n",
            "44776   1161_448    1161 2018-12-19                 7          12\n"
          ]
        }
      ],
      "source": [
        "calls['call_month'] = calls['call_date'].dt.month\n",
        "print(calls.sample(5))"
      ]
    },
    {
      "cell_type": "markdown",
      "metadata": {
        "id": "mOUZSi180q0_"
      },
      "source": [
        "### Mensajes"
      ]
    },
    {
      "cell_type": "code",
      "execution_count": null,
      "metadata": {
        "id": "R-bYJpdV0q1A",
        "trusted": true,
        "outputId": "d89d778f-3648-40e0-8806-708d17993594"
      },
      "outputs": [
        {
          "name": "stdout",
          "output_type": "stream",
          "text": [
            "<class 'pandas.core.frame.DataFrame'>\n",
            "RangeIndex: 76051 entries, 0 to 76050\n",
            "Data columns (total 3 columns):\n",
            " #   Column        Non-Null Count  Dtype \n",
            "---  ------        --------------  ----- \n",
            " 0   id            76051 non-null  object\n",
            " 1   user_id       76051 non-null  int64 \n",
            " 2   message_date  76051 non-null  object\n",
            "dtypes: int64(1), object(2)\n",
            "memory usage: 1.7+ MB\n"
          ]
        }
      ],
      "source": [
        "# Imprime la información general/resumida sobre el DataFrame de los mensajes\n",
        "\n",
        "messages.info()"
      ]
    },
    {
      "cell_type": "code",
      "execution_count": null,
      "metadata": {
        "id": "mCEl2iGE0q1A",
        "trusted": true,
        "outputId": "96eb9ff1-37a5-4013-e9eb-3503e554ba4f"
      },
      "outputs": [
        {
          "data": {
            "text/html": [
              "<div>\n",
              "<style scoped>\n",
              "    .dataframe tbody tr th:only-of-type {\n",
              "        vertical-align: middle;\n",
              "    }\n",
              "\n",
              "    .dataframe tbody tr th {\n",
              "        vertical-align: top;\n",
              "    }\n",
              "\n",
              "    .dataframe thead th {\n",
              "        text-align: right;\n",
              "    }\n",
              "</style>\n",
              "<table border=\"1\" class=\"dataframe\">\n",
              "  <thead>\n",
              "    <tr style=\"text-align: right;\">\n",
              "      <th></th>\n",
              "      <th>id</th>\n",
              "      <th>user_id</th>\n",
              "      <th>message_date</th>\n",
              "    </tr>\n",
              "  </thead>\n",
              "  <tbody>\n",
              "    <tr>\n",
              "      <th>34483</th>\n",
              "      <td>1219_25</td>\n",
              "      <td>1219</td>\n",
              "      <td>2018-11-22</td>\n",
              "    </tr>\n",
              "    <tr>\n",
              "      <th>45284</th>\n",
              "      <td>1304_269</td>\n",
              "      <td>1304</td>\n",
              "      <td>2018-11-13</td>\n",
              "    </tr>\n",
              "    <tr>\n",
              "      <th>66159</th>\n",
              "      <td>1433_99</td>\n",
              "      <td>1433</td>\n",
              "      <td>2018-11-14</td>\n",
              "    </tr>\n",
              "    <tr>\n",
              "      <th>9331</th>\n",
              "      <td>1069_194</td>\n",
              "      <td>1069</td>\n",
              "      <td>2018-11-16</td>\n",
              "    </tr>\n",
              "    <tr>\n",
              "      <th>21346</th>\n",
              "      <td>1132_648</td>\n",
              "      <td>1132</td>\n",
              "      <td>2018-11-11</td>\n",
              "    </tr>\n",
              "  </tbody>\n",
              "</table>\n",
              "</div>"
            ],
            "text/plain": [
              "             id  user_id message_date\n",
              "34483   1219_25     1219   2018-11-22\n",
              "45284  1304_269     1304   2018-11-13\n",
              "66159   1433_99     1433   2018-11-14\n",
              "9331   1069_194     1069   2018-11-16\n",
              "21346  1132_648     1132   2018-11-11"
            ]
          },
          "execution_count": 16,
          "metadata": {},
          "output_type": "execute_result"
        }
      ],
      "source": [
        "# Imprime una muestra de datos para los mensajes\n",
        "\n",
        "messages.sample(5)"
      ]
    },
    {
      "cell_type": "markdown",
      "metadata": {
        "id": "04xDj7KH0q1A"
      },
      "source": [
        "Observamos que:\n",
        "* No hay datos faltantes.\n",
        "* El 'user_id' esta dado como entero, una vez más podemos es combeniente tranformarlo a string.\n",
        "* Hay que asegurarnos de que la fecha este en formato 'datetime' (yyyy-mm-dd) para poder utilizar esa información."
      ]
    },
    {
      "cell_type": "markdown",
      "metadata": {
        "id": "Sprfak900q1B"
      },
      "source": [
        "#### Corregir los datos"
      ]
    },
    {
      "cell_type": "markdown",
      "metadata": {
        "id": "eGw7d9j10q1B"
      },
      "source": [
        "Tranformamos 'user_id' a string y 'message_date' a 'datetime'."
      ]
    },
    {
      "cell_type": "code",
      "execution_count": null,
      "metadata": {
        "id": "vsllvkoa0q1B",
        "trusted": true,
        "outputId": "71ed52f9-eee0-4408-8905-c195b0d0a823"
      },
      "outputs": [
        {
          "name": "stdout",
          "output_type": "stream",
          "text": [
            "<class 'pandas.core.frame.DataFrame'>\n",
            "RangeIndex: 76051 entries, 0 to 76050\n",
            "Data columns (total 3 columns):\n",
            " #   Column        Non-Null Count  Dtype         \n",
            "---  ------        --------------  -----         \n",
            " 0   id            76051 non-null  object        \n",
            " 1   user_id       76051 non-null  object        \n",
            " 2   message_date  76051 non-null  datetime64[ns]\n",
            "dtypes: datetime64[ns](1), object(2)\n",
            "memory usage: 1.7+ MB\n",
            "\n",
            "             id user_id message_date\n",
            "67375  1435_413    1435   2018-12-11\n",
            "3786   1038_139    1038   2018-11-27\n",
            "74931    1489_6    1489   2018-10-19\n",
            "31601   1196_84    1196   2018-03-20\n",
            "25579  1154_162    1154   2018-10-09\n"
          ]
        }
      ],
      "source": [
        "messages['user_id']= messages['user_id'].astype('str')\n",
        "messages['message_date']= pd.to_datetime(messages['message_date'], format= '%Y-%m-%d')\n",
        "\n",
        "messages.info()\n",
        "print()\n",
        "print(messages.sample(5))"
      ]
    },
    {
      "cell_type": "markdown",
      "metadata": {
        "id": "HvLid7iD0q1B"
      },
      "source": [
        "#### Enriquecer los datos"
      ]
    },
    {
      "cell_type": "markdown",
      "metadata": {
        "id": "8nhPFKIe0q1C"
      },
      "source": [
        "Los mensages enviados por usuario en cada mes tambien son parte del calculo de ingresos por usuario mensualmente, información necesaria para la prueba de las hipótesis. Por lo que en este caso también facilitara los calculos el tener una columna con solo el valor del mes en que se envio el mensaje: \"message_month\"."
      ]
    },
    {
      "cell_type": "code",
      "execution_count": null,
      "metadata": {
        "id": "zYEXZac10q1C",
        "trusted": true,
        "outputId": "ef24c668-0d43-4150-d17b-8b9e31b38f80"
      },
      "outputs": [
        {
          "name": "stdout",
          "output_type": "stream",
          "text": [
            "              id user_id message_date  message_month\n",
            "21658  1132_1101    1132   2018-11-03             11\n",
            "54796   1346_304    1346   2018-10-31             10\n",
            "66747   1434_283    1434   2018-11-24             11\n",
            "7340    1059_216    1059   2018-06-04              6\n",
            "36388    1242_60    1242   2018-12-13             12\n"
          ]
        }
      ],
      "source": [
        "messages['message_month'] = messages['message_date'].dt.month\n",
        "print(messages.sample(5))"
      ]
    },
    {
      "cell_type": "markdown",
      "metadata": {
        "id": "bStkaxn40q1C"
      },
      "source": [
        "### Internet"
      ]
    },
    {
      "cell_type": "code",
      "execution_count": null,
      "metadata": {
        "id": "e-Uz5qyn0q1C",
        "trusted": true,
        "outputId": "97c11a36-416e-42ef-8dd9-502d064abc30"
      },
      "outputs": [
        {
          "name": "stdout",
          "output_type": "stream",
          "text": [
            "<class 'pandas.core.frame.DataFrame'>\n",
            "RangeIndex: 104825 entries, 0 to 104824\n",
            "Data columns (total 4 columns):\n",
            " #   Column        Non-Null Count   Dtype  \n",
            "---  ------        --------------   -----  \n",
            " 0   id            104825 non-null  object \n",
            " 1   user_id       104825 non-null  int64  \n",
            " 2   session_date  104825 non-null  object \n",
            " 3   mb_used       104825 non-null  float64\n",
            "dtypes: float64(1), int64(1), object(2)\n",
            "memory usage: 3.2+ MB\n"
          ]
        }
      ],
      "source": [
        "# Imprime la información general/resumida sobre el DataFrame de internet\n",
        "\n",
        "internet.info()"
      ]
    },
    {
      "cell_type": "code",
      "execution_count": null,
      "metadata": {
        "id": "9r3x_XLw0q1C",
        "trusted": true,
        "outputId": "5562b9cb-20d4-40bd-a5f2-af4424aef91a"
      },
      "outputs": [
        {
          "data": {
            "text/html": [
              "<div>\n",
              "<style scoped>\n",
              "    .dataframe tbody tr th:only-of-type {\n",
              "        vertical-align: middle;\n",
              "    }\n",
              "\n",
              "    .dataframe tbody tr th {\n",
              "        vertical-align: top;\n",
              "    }\n",
              "\n",
              "    .dataframe thead th {\n",
              "        text-align: right;\n",
              "    }\n",
              "</style>\n",
              "<table border=\"1\" class=\"dataframe\">\n",
              "  <thead>\n",
              "    <tr style=\"text-align: right;\">\n",
              "      <th></th>\n",
              "      <th>id</th>\n",
              "      <th>user_id</th>\n",
              "      <th>session_date</th>\n",
              "      <th>mb_used</th>\n",
              "    </tr>\n",
              "  </thead>\n",
              "  <tbody>\n",
              "    <tr>\n",
              "      <th>96007</th>\n",
              "      <td>1448_153</td>\n",
              "      <td>1448</td>\n",
              "      <td>2018-10-24</td>\n",
              "      <td>0.00</td>\n",
              "    </tr>\n",
              "    <tr>\n",
              "      <th>43842</th>\n",
              "      <td>1194_260</td>\n",
              "      <td>1194</td>\n",
              "      <td>2018-11-19</td>\n",
              "      <td>720.44</td>\n",
              "    </tr>\n",
              "    <tr>\n",
              "      <th>47371</th>\n",
              "      <td>1211_248</td>\n",
              "      <td>1211</td>\n",
              "      <td>2018-12-07</td>\n",
              "      <td>1010.57</td>\n",
              "    </tr>\n",
              "    <tr>\n",
              "      <th>11455</th>\n",
              "      <td>1056_122</td>\n",
              "      <td>1056</td>\n",
              "      <td>2018-12-20</td>\n",
              "      <td>638.83</td>\n",
              "    </tr>\n",
              "    <tr>\n",
              "      <th>34886</th>\n",
              "      <td>1156_483</td>\n",
              "      <td>1156</td>\n",
              "      <td>2018-09-15</td>\n",
              "      <td>313.70</td>\n",
              "    </tr>\n",
              "  </tbody>\n",
              "</table>\n",
              "</div>"
            ],
            "text/plain": [
              "             id  user_id session_date  mb_used\n",
              "96007  1448_153     1448   2018-10-24     0.00\n",
              "43842  1194_260     1194   2018-11-19   720.44\n",
              "47371  1211_248     1211   2018-12-07  1010.57\n",
              "11455  1056_122     1056   2018-12-20   638.83\n",
              "34886  1156_483     1156   2018-09-15   313.70"
            ]
          },
          "execution_count": 20,
          "metadata": {},
          "output_type": "execute_result"
        }
      ],
      "source": [
        "# Imprime una muestra de datos para el tráfico de internet\n",
        "internet.sample(5)\n"
      ]
    },
    {
      "cell_type": "markdown",
      "metadata": {
        "id": "EzOG5ik30q1D"
      },
      "source": [
        "Con ayuda de la información general y la impresión de una muestra aleatoria de dataframe 'internet', podemos observar:\n",
        "* No hay datos auscentes.\n",
        "* El identificador de usuario esta dado como tipo de dato entero. Como no se ocupa para hacer calculos matemáticos, lo podemos convertir a string.\n",
        "* La fecha de sesión esta en dato tipo objeto, para hacer uso de esa información podemos cambiar estos valores a tipo de dato 'datetime' con formato yyyy-mm-dd.\n",
        "* Los MB utilizados esta en tipo de dato flotante. A diferencia del tiempo de las llamadas, la empresa redondea el valor de la cantidad de flujo de datos hasta el final del mes, es decir redodea la suma de todas las sesiones por lo que en este momento estos valores estan correctos como estan. La indicación recibida al respecto es:ara el tráfico web, las sesiones web individuales no se redondean. En vez de esto, el total del mes se redondea hacia arriba. Si alguien usa 1025 megabytes este mes, se le cobrarán 2 gigabytes."
      ]
    },
    {
      "cell_type": "markdown",
      "metadata": {
        "id": "yA0tkPFg0q1D"
      },
      "source": [
        "#### Corregir los datos"
      ]
    },
    {
      "cell_type": "markdown",
      "metadata": {
        "id": "zlZMuIEK0q1D"
      },
      "source": [
        "Convertimos 'user_id' a tipo str y 'session_date' a tipo 'datetime64'"
      ]
    },
    {
      "cell_type": "code",
      "execution_count": null,
      "metadata": {
        "id": "zVeanzdd0q1E",
        "trusted": true,
        "outputId": "4b41d8de-acaa-4a6b-c0db-8472582dcf10"
      },
      "outputs": [
        {
          "name": "stdout",
          "output_type": "stream",
          "text": [
            "<class 'pandas.core.frame.DataFrame'>\n",
            "RangeIndex: 104825 entries, 0 to 104824\n",
            "Data columns (total 4 columns):\n",
            " #   Column        Non-Null Count   Dtype         \n",
            "---  ------        --------------   -----         \n",
            " 0   id            104825 non-null  object        \n",
            " 1   user_id       104825 non-null  object        \n",
            " 2   session_date  104825 non-null  datetime64[ns]\n",
            " 3   mb_used       104825 non-null  float64       \n",
            "dtypes: datetime64[ns](1), float64(1), object(2)\n",
            "memory usage: 3.2+ MB\n",
            "\n",
            "             id user_id session_date  mb_used\n",
            "2371   1011_111    1011   2018-07-23   238.79\n",
            "14864  1067_228    1067   2018-11-08   197.21\n",
            "74021  1347_116    1347   2018-07-31     0.00\n",
            "30523   1140_66    1140   2018-08-16   455.53\n",
            "36136  1163_117    1163   2018-09-06   253.38\n"
          ]
        }
      ],
      "source": [
        "internet['user_id']= internet['user_id'].astype('str')\n",
        "internet['session_date']= pd.to_datetime(internet['session_date'], format= '%Y-%m-%d')\n",
        "\n",
        "internet.info()\n",
        "print()\n",
        "print(internet.sample(5))"
      ]
    },
    {
      "cell_type": "markdown",
      "metadata": {
        "id": "e8_mLF4a0q1E"
      },
      "source": [
        "#### Enriquecer los datos"
      ]
    },
    {
      "cell_type": "markdown",
      "metadata": {
        "id": "xhNdn2tE0q1E"
      },
      "source": [
        "Al igual que en las llamadas y los mensages, necesitamos para el flujo de internet los datos por mes por los que el crear una columna unicamente con el valor del mes de la sesion nos facilitara los siguientes pasos."
      ]
    },
    {
      "cell_type": "code",
      "execution_count": null,
      "metadata": {
        "id": "ESiYPIEK0q1E",
        "scrolled": true,
        "trusted": true,
        "outputId": "e0c74c24-02b6-4317-ed12-1f3f18609133"
      },
      "outputs": [
        {
          "name": "stdout",
          "output_type": "stream",
          "text": [
            "             id user_id session_date  mb_used  session_month\n",
            "12277  1059_390    1059   2018-09-23   460.47              9\n",
            "16135    1073_9    1073   2018-11-25     0.00             11\n",
            "6022    1033_83    1033   2018-10-09     0.00             10\n",
            "96694  1454_150    1454   2018-07-26   620.90              7\n",
            "37034  1166_200    1166   2018-11-02   295.87             11\n"
          ]
        }
      ],
      "source": [
        "internet['session_month'] = internet['session_date'].dt.month\n",
        "print(internet.sample(5))"
      ]
    },
    {
      "cell_type": "markdown",
      "metadata": {
        "id": "n4vFu62ZcDgH"
      },
      "source": [
        "El dato de los MB usados aun no son redondeados, ni convertidos a GB. Ese paso se hará hasta que se obtenga la suma total de los datos utilizados por cada usuario , de acuerdo a la manera en que la empresa calcula el total a pagar por usuario al mes."
      ]
    },
    {
      "cell_type": "markdown",
      "metadata": {
        "id": "3UA2cqIW0q1E"
      },
      "source": [
        "## Estudiar las condiciones de las tarifas"
      ]
    },
    {
      "cell_type": "markdown",
      "metadata": {
        "id": "T86Sqltq0q1F"
      },
      "source": [
        "Imprimimos nuevamente la información de las tarifas para recordar las condiciones con las que se cobran a los usuarios en función a su plan de suscripción."
      ]
    },
    {
      "cell_type": "code",
      "execution_count": null,
      "metadata": {
        "id": "i409op8p0q1F",
        "trusted": true,
        "outputId": "9c9bd35d-2fc7-4f09-a2f8-dc10772c3fda"
      },
      "outputs": [
        {
          "data": {
            "text/html": [
              "<div>\n",
              "<style scoped>\n",
              "    .dataframe tbody tr th:only-of-type {\n",
              "        vertical-align: middle;\n",
              "    }\n",
              "\n",
              "    .dataframe tbody tr th {\n",
              "        vertical-align: top;\n",
              "    }\n",
              "\n",
              "    .dataframe thead th {\n",
              "        text-align: right;\n",
              "    }\n",
              "</style>\n",
              "<table border=\"1\" class=\"dataframe\">\n",
              "  <thead>\n",
              "    <tr style=\"text-align: right;\">\n",
              "      <th></th>\n",
              "      <th>messages_included</th>\n",
              "      <th>mb_per_month_included</th>\n",
              "      <th>minutes_included</th>\n",
              "      <th>usd_monthly_pay</th>\n",
              "      <th>usd_per_gb</th>\n",
              "      <th>usd_per_message</th>\n",
              "      <th>usd_per_minute</th>\n",
              "      <th>plan_name</th>\n",
              "    </tr>\n",
              "  </thead>\n",
              "  <tbody>\n",
              "    <tr>\n",
              "      <th>0</th>\n",
              "      <td>50</td>\n",
              "      <td>15360</td>\n",
              "      <td>500</td>\n",
              "      <td>20</td>\n",
              "      <td>10</td>\n",
              "      <td>0.03</td>\n",
              "      <td>0.03</td>\n",
              "      <td>surf</td>\n",
              "    </tr>\n",
              "    <tr>\n",
              "      <th>1</th>\n",
              "      <td>1000</td>\n",
              "      <td>30720</td>\n",
              "      <td>3000</td>\n",
              "      <td>70</td>\n",
              "      <td>7</td>\n",
              "      <td>0.01</td>\n",
              "      <td>0.01</td>\n",
              "      <td>ultimate</td>\n",
              "    </tr>\n",
              "  </tbody>\n",
              "</table>\n",
              "</div>"
            ],
            "text/plain": [
              "   messages_included  mb_per_month_included  minutes_included  \\\n",
              "0                 50                  15360               500   \n",
              "1               1000                  30720              3000   \n",
              "\n",
              "   usd_monthly_pay  usd_per_gb  usd_per_message  usd_per_minute plan_name  \n",
              "0               20          10             0.03            0.03      surf  \n",
              "1               70           7             0.01            0.01  ultimate  "
            ]
          },
          "execution_count": 23,
          "metadata": {},
          "output_type": "execute_result"
        }
      ],
      "source": [
        "# Imprime las condiciones de la tarifa y asegúrate de que te quedan claras\n",
        "\n",
        "plans.head(2)\n"
      ]
    },
    {
      "cell_type": "markdown",
      "metadata": {
        "id": "hMR1tP5d0q1F"
      },
      "source": [
        "## Agregar datos por usuario\n",
        "\n",
        "Ahora obtendremos una nueva base de datos en las que se colocaran los datos por usuario y por periodo, para que solo haya un registro por usuario y por periodo."
      ]
    },
    {
      "cell_type": "code",
      "execution_count": null,
      "metadata": {
        "id": "A332cedB0q1G",
        "trusted": true
      },
      "outputs": [],
      "source": [
        "# Calcula el número de llamadas hechas por cada usuario al mes. Guarda el resultado.\n",
        "\n",
        "pivot_calls = calls.pivot_table (  #Utilizamos tablas dinámicas para agrupar\n",
        "index = 'user_id',                 #User id sera el indice que correpoonde a los valores de las filas\n",
        "columns = 'call_month',            # Queremos una columna por cada mes del año\n",
        "values = 'id',                     # En cada celda queremos que se coloque el número de llamada que hizo ...\n",
        "aggfunc = 'count'                  #... el usuario ese mes por eso contamos el numero de id de llamadas\n",
        ")\n",
        "\n",
        "#pivot_calls.info()\n",
        "#print()\n",
        "#print(pivot_calls.head())\n",
        "#print ()\n",
        "\n",
        "\n",
        "# Observamos que tenemos varios valores nulos, la razón: ese mes ese usuario no realizo llamadas por lo que\n",
        "#podemos indicar que esos valores nulos (NaN) corresponden a 0 .\n",
        "columns_to_replace = [1,2,3,4,5,6,7,8,9,10,11,12]\n",
        "for column in columns_to_replace:\n",
        "    pivot_calls[column].fillna(0)\n",
        "    pivot_calls[column]=pivot_calls[column].astype('int')  #Se tratan de valores enteros,\n",
        "#podemos convertirlos a este tipo en lugar de flotantes con fines de ahorro de memoria.\n",
        "\n",
        "# Renombramos columnas, para poder distinguir entre llamadas, minutos, mensajes, internet cuando combinemos ...\n",
        "#.. en una sola tabla todos los datos.\n",
        "new_columns = {1:'calls_m1',2:'calls_m2',3:'calls_m3',4:'calls_m4',5:'calls_m5',6:'calls_m6',\n",
        "               7:'calls_m7',8:'calls_m8',9:'calls_m9',10:'calls_m10',11:'calls_m11',12: 'calls_m12'}\n",
        "pivot_calls.rename(columns = new_columns)\n",
        "\n",
        "#pivot_calls.info()\n",
        "#print()\n",
        "#print(pivot_calls.head())\n"
      ]
    },
    {
      "cell_type": "code",
      "execution_count": null,
      "metadata": {
        "id": "aw2cmuql0q1G",
        "trusted": true
      },
      "outputs": [],
      "source": [
        "# Calcula la cantidad de minutos usados por cada usuario al mes. Guarda el resultado.\n",
        "\n",
        "pivot_min = calls.pivot_table(  #Utilizamos tablas dinámicas para agrupar\n",
        "index = 'user_id',                 #User id sera el indice que correpoonde a los valores de las filas\n",
        "columns = 'call_month',            # Queremos una columna por cada mes del año\n",
        "values = 'rounded_duration',              # En cada celda queremos que se coloque la duracion total de llamadas ...\n",
        "aggfunc = 'sum'                  #... del usuario en ese mes por eso sumamos la duracion de cada llamada de ese usuario\n",
        ")\n",
        "\n",
        "#pivot_min.info()\n",
        "#print()\n",
        "#print(pivot_min.head())\n",
        "#print ()\n",
        "\n",
        "\n",
        "# Observamos que tenemos varios valores nulos, la razón: ese mes ese usuario no realizo llamadas por lo que\n",
        "#podemos indicar que esos valores nulos (NaN) corresponden a 0 .\n",
        "columns_to_replace = [1,2,3,4,5,6,7,8,9,10,11,12]\n",
        "for column in columns_to_replace:\n",
        "    pivot_min[column].fillna(0)\n",
        "    pivot_min[column]=pivot_min[column].astype('int')  #Se tratan de valores enteros\n",
        "    #(recordando que ya estan redondeados),podemos convertirlos a tipo enteros en lugar de flotantes.\n",
        "\n",
        "# Renombramos columnas, para poder distinguir entre llamadas, minutos, mensajes, internet cuando combinemos ...\n",
        "#.. en una sola tabla todos los datos.\n",
        "new_columns = {1:'min_m1',2:'min_m2',3:'min_m3',4:'min_m4',5:'min_m5',6:'min_m6',\n",
        "               7:'min_m7',8:'min_m8',9:'min_m9',10:'min_m10',11:'min_m11',12: 'min_m12'}\n",
        "pivot_min.rename(columns = new_columns)\n",
        "\n",
        "#pivot_min.info()\n",
        "#print()\n",
        "#print(pivot_min.head())\n"
      ]
    },
    {
      "cell_type": "code",
      "execution_count": null,
      "metadata": {
        "id": "CcQvNHn60q1G",
        "trusted": true
      },
      "outputs": [],
      "source": [
        "# Calcula el número de mensajes enviados por cada usuario al mes. Guarda el resultado.\n",
        "\n",
        "pivot_sms = messages.pivot_table(  #Utilizamos tablas dinámicas para agrupar\n",
        "index = 'user_id',                 #User id sera el indice que correpoonde a los valores de las filas\n",
        "columns = 'message_month',            # Queremos una columna por cada mes del año\n",
        "values = 'id',           # En cada celda queremos que se coloque el numero de mensajes enviados ...\n",
        "aggfunc = 'count'                  #... por el usuario en ese mes por eso contamos los id de sms de ese usuario\n",
        ")\n",
        "\n",
        "#pivot_sms.info()\n",
        "#print()\n",
        "#print(pivot_sms.head())\n",
        "#print ()\n",
        "\n",
        "\n",
        "# Observamos que tenemos varios valores nulos, la razón: ese mes ese usuario no realizo llamadas por lo que\n",
        "#podemos indicar que esos valores nulos (NaN) corresponden a 0 .\n",
        "columns_to_replace = [1,2,3,4,5,6,7,8,9,10,11,12]\n",
        "for column in columns_to_replace:\n",
        "    pivot_sms[column].fillna(0)\n",
        "    pivot_sms[column]=pivot_sms[column].astype('int')  #Se tratan de valores enteros\n",
        "    #(ya que es resultado de conteo),podemos convertirlos a tipo enteros en lugar de flotantes.\n",
        "\n",
        "# Renombramos columnas, para poder distinguir entre llamadas, minutos, mensajes, internet cuando combinemos ...\n",
        "#.. en una sola tabla todos los datos.\n",
        "new_columns = {1:'sms_m1',2:'sms_m2',3:'sms_m3',4:'sms_m4',5:'sms_m5',6:'sms_m6',\n",
        "               7:'sms_m7',8:'sms_m8',9:'sms_m9',10:'sms_m10',11:'sms_m11',12: 'sms_m12'}\n",
        "pivot_sms.rename(columns = new_columns)\n",
        "\n",
        "#pivot_sms.info()\n",
        "#print()\n",
        "#print(pivot_sms.head())\n"
      ]
    },
    {
      "cell_type": "code",
      "execution_count": null,
      "metadata": {
        "id": "H1AqN2eG0q1H",
        "trusted": true
      },
      "outputs": [],
      "source": [
        "# Calcula el volumen del tráfico de Internet usado por cada usuario al mes. Guarda el resultado.\n",
        "#Se obtendran el valor redondeado de GB hacia arriba, una vez sumado el flujo de datos usado por ...\n",
        "#... cada usuario al mes, siguiendo el metodo de cobro de la empresa.\n",
        "\n",
        "pivot_gb = internet.pivot_table(  #Utilizamos tablas dinámicas para agrupar\n",
        "index = 'user_id',                 #User id sera el indice que correpoonde a los valores de las filas\n",
        "columns = 'session_month',            # Queremos una columna por cada mes del año\n",
        "values = 'mb_used',              # En cada celda queremos que se coloque el flujo total de datos usados ...\n",
        "aggfunc = 'sum'                  #...por el usuario en ese mes por eso sumamos la mb de cada sesion de ese usuario\n",
        ")\n",
        "\n",
        "#pivot_gb.info()\n",
        "#print()\n",
        "print(pivot_gb.head())\n",
        "#print ()\n",
        "\n",
        "\n",
        "# Observamos que tenemos varios valores nulos, la razón: ese mes ese usuario no realizo llamadas por lo que\n",
        "#podemos indicar que esos valores nulos (NaN) corresponden a 0 .\n",
        "columns_to_replace = [1,2,3,4,5,6,7,8,9,10,11,12]\n",
        "for column in columns_to_replace:\n",
        "    pivot_gb[column].fillna(0)\n",
        "    pivot_gb[column]=pivot_gb[column]/1000\n",
        "       # Como ya tenemos las sumas totales del mes por usuario, y siguiendo el método de cobro de la empresa,\n",
        "        #ya podemos en convertir a GB y redondear hacia arriba\n",
        "    rounded_gb = []\n",
        "    for gb in  pivot_gb[column]: #Recorre cada columna\n",
        "        rounded = mt.ceil(gb)      #redondea hacia arriba cada valor\n",
        "        rounded_gb.append(rounded)  #generamos lista\n",
        "    pivot_gb[column] = rounded_gb     #Asignamos la lista como la nueva columna del DF\n",
        "\n",
        "\n",
        "\n",
        "# Renombramos columnas, para poder distinguir entre llamadas, minutos, mensajes, internet cuando combinemos ...\n",
        "#.. en una sola tabla todos los datos.\n",
        "new_columns = {1:'gb_m1',2:'gb_m2',3:'gb_m3',4:'gb_m4',5:'gb_m5',6:'gb_m6',\n",
        "               7:'gb_m7',8:'gb_m8',9:'gb_m9',10:'gb_m10',11:'gb_m11',12: 'gb_m12'}\n",
        "pivot_gb.rename(columns = new_columns)\n",
        "\n",
        "#print()\n",
        "#pivot_gb.info()\n",
        "#print()\n",
        "#print(pivot_gb.head())\n"
      ]
    },
    {
      "cell_type": "markdown",
      "metadata": {
        "id": "VDfYXnj80q1H"
      },
      "source": [
        "Se juntan los datos agregados en un solo DataFrame para que haya un único registro que represente lo que consumió un usuario en un mes determinado."
      ]
    },
    {
      "cell_type": "code",
      "execution_count": null,
      "metadata": {
        "id": "FW99ykyf0q1H",
        "trusted": true,
        "outputId": "762b4780-52e1-4df6-e232-f23daf684c78"
      },
      "outputs": [
        {
          "name": "stdout",
          "output_type": "stream",
          "text": [
            "<class 'pandas.core.frame.DataFrame'>\n",
            "Index: 490 entries, 1000 to 1499\n",
            "Data columns (total 48 columns):\n",
            " #   Column     Non-Null Count  Dtype\n",
            "---  ------     --------------  -----\n",
            " 0   calls_m1   490 non-null    int64\n",
            " 1   calls_m2   490 non-null    int64\n",
            " 2   calls_m3   490 non-null    int64\n",
            " 3   calls_m4   490 non-null    int64\n",
            " 4   calls_m5   490 non-null    int64\n",
            " 5   calls_m6   490 non-null    int64\n",
            " 6   calls_m7   490 non-null    int64\n",
            " 7   calls_m8   490 non-null    int64\n",
            " 8   calls_m9   490 non-null    int64\n",
            " 9   calls_m10  490 non-null    int64\n",
            " 10  calls_m11  490 non-null    int64\n",
            " 11  calls_m12  490 non-null    int64\n",
            " 12  min_m1     490 non-null    int64\n",
            " 13  min_m2     490 non-null    int64\n",
            " 14  min_m3     490 non-null    int64\n",
            " 15  min_m4     490 non-null    int64\n",
            " 16  min_m5     490 non-null    int64\n",
            " 17  min_m6     490 non-null    int64\n",
            " 18  min_m7     490 non-null    int64\n",
            " 19  min_m8     490 non-null    int64\n",
            " 20  min_m9     490 non-null    int64\n",
            " 21  min_m10    490 non-null    int64\n",
            " 22  min_m11    490 non-null    int64\n",
            " 23  min_m12    490 non-null    int64\n",
            " 24  sms_m1     490 non-null    int64\n",
            " 25  sms_m2     490 non-null    int64\n",
            " 26  sms_m3     490 non-null    int64\n",
            " 27  sms_m4     490 non-null    int64\n",
            " 28  sms_m5     490 non-null    int64\n",
            " 29  sms_m6     490 non-null    int64\n",
            " 30  sms_m7     490 non-null    int64\n",
            " 31  sms_m8     490 non-null    int64\n",
            " 32  sms_m9     490 non-null    int64\n",
            " 33  sms_m10    490 non-null    int64\n",
            " 34  sms_m11    490 non-null    int64\n",
            " 35  sms_m12    490 non-null    int64\n",
            " 36  gb_m1      490 non-null    int64\n",
            " 37  gb_m2      490 non-null    int64\n",
            " 38  gb_m3      490 non-null    int64\n",
            " 39  gb_m4      490 non-null    int64\n",
            " 40  gb_m5      490 non-null    int64\n",
            " 41  gb_m6      490 non-null    int64\n",
            " 42  gb_m7      490 non-null    int64\n",
            " 43  gb_m8      490 non-null    int64\n",
            " 44  gb_m9      490 non-null    int64\n",
            " 45  gb_m10     490 non-null    int64\n",
            " 46  gb_m11     490 non-null    int64\n",
            " 47  gb_m12     490 non-null    int64\n",
            "dtypes: int64(48)\n",
            "memory usage: 187.6+ KB\n",
            "\n",
            "         calls_m1  calls_m2  calls_m3  calls_m4  calls_m5  calls_m6  calls_m7  \\\n",
            "user_id                                                                         \n",
            "1266            0         0         0         0         0         0         0   \n",
            "1342            0         0         0         0         0         0         0   \n",
            "1410            0         0         0         0         0         0         0   \n",
            "1190            0         0         0         0         0         0         0   \n",
            "1352            0         0         0         0         0         0         0   \n",
            "\n",
            "         calls_m8  calls_m9  calls_m10  ...  gb_m3  gb_m4  gb_m5  gb_m6  \\\n",
            "user_id                                 ...                               \n",
            "1266            0         0          0  ...      0      0      0      0   \n",
            "1342            0         0          0  ...      0      0      0      0   \n",
            "1410            0         0         59  ...      0      0      0      0   \n",
            "1190            0         0          0  ...      0      0      0      0   \n",
            "1352            0        84        103  ...      0      0      0      0   \n",
            "\n",
            "         gb_m7  gb_m8  gb_m9  gb_m10  gb_m11  gb_m12  \n",
            "user_id                                               \n",
            "1266         0      0      0       0       0      12  \n",
            "1342         0      0      0       0       0      11  \n",
            "1410         0      0      0      18      21      17  \n",
            "1190         0      0      0       0       0      15  \n",
            "1352         0      0     14      17      12      18  \n",
            "\n",
            "[5 rows x 48 columns]\n"
          ]
        },
        {
          "name": "stderr",
          "output_type": "stream",
          "text": [
            "C:\\Users\\cucum\\AppData\\Local\\Temp\\ipykernel_16084\\1839788104.py:19: FutureWarning: A value is trying to be set on a copy of a DataFrame or Series through chained assignment using an inplace method.\n",
            "The behavior will change in pandas 3.0. This inplace method will never work because the intermediate object on which we are setting values always behaves as a copy.\n",
            "\n",
            "For example, when doing 'df[col].method(value, inplace=True)', try using 'df.method({col: value}, inplace=True)' or df[col] = df[col].method(value) instead, to perform the operation inplace on the original object.\n",
            "\n",
            "\n",
            "  merged_DF[column].fillna(0,inplace=True)\n",
            "C:\\Users\\cucum\\AppData\\Local\\Temp\\ipykernel_16084\\1839788104.py:19: FutureWarning: A value is trying to be set on a copy of a DataFrame or Series through chained assignment using an inplace method.\n",
            "The behavior will change in pandas 3.0. This inplace method will never work because the intermediate object on which we are setting values always behaves as a copy.\n",
            "\n",
            "For example, when doing 'df[col].method(value, inplace=True)', try using 'df.method({col: value}, inplace=True)' or df[col] = df[col].method(value) instead, to perform the operation inplace on the original object.\n",
            "\n",
            "\n",
            "  merged_DF[column].fillna(0,inplace=True)\n",
            "C:\\Users\\cucum\\AppData\\Local\\Temp\\ipykernel_16084\\1839788104.py:19: FutureWarning: A value is trying to be set on a copy of a DataFrame or Series through chained assignment using an inplace method.\n",
            "The behavior will change in pandas 3.0. This inplace method will never work because the intermediate object on which we are setting values always behaves as a copy.\n",
            "\n",
            "For example, when doing 'df[col].method(value, inplace=True)', try using 'df.method({col: value}, inplace=True)' or df[col] = df[col].method(value) instead, to perform the operation inplace on the original object.\n",
            "\n",
            "\n",
            "  merged_DF[column].fillna(0,inplace=True)\n",
            "C:\\Users\\cucum\\AppData\\Local\\Temp\\ipykernel_16084\\1839788104.py:19: FutureWarning: A value is trying to be set on a copy of a DataFrame or Series through chained assignment using an inplace method.\n",
            "The behavior will change in pandas 3.0. This inplace method will never work because the intermediate object on which we are setting values always behaves as a copy.\n",
            "\n",
            "For example, when doing 'df[col].method(value, inplace=True)', try using 'df.method({col: value}, inplace=True)' or df[col] = df[col].method(value) instead, to perform the operation inplace on the original object.\n",
            "\n",
            "\n",
            "  merged_DF[column].fillna(0,inplace=True)\n",
            "C:\\Users\\cucum\\AppData\\Local\\Temp\\ipykernel_16084\\1839788104.py:19: FutureWarning: A value is trying to be set on a copy of a DataFrame or Series through chained assignment using an inplace method.\n",
            "The behavior will change in pandas 3.0. This inplace method will never work because the intermediate object on which we are setting values always behaves as a copy.\n",
            "\n",
            "For example, when doing 'df[col].method(value, inplace=True)', try using 'df.method({col: value}, inplace=True)' or df[col] = df[col].method(value) instead, to perform the operation inplace on the original object.\n",
            "\n",
            "\n",
            "  merged_DF[column].fillna(0,inplace=True)\n",
            "C:\\Users\\cucum\\AppData\\Local\\Temp\\ipykernel_16084\\1839788104.py:19: FutureWarning: A value is trying to be set on a copy of a DataFrame or Series through chained assignment using an inplace method.\n",
            "The behavior will change in pandas 3.0. This inplace method will never work because the intermediate object on which we are setting values always behaves as a copy.\n",
            "\n",
            "For example, when doing 'df[col].method(value, inplace=True)', try using 'df.method({col: value}, inplace=True)' or df[col] = df[col].method(value) instead, to perform the operation inplace on the original object.\n",
            "\n",
            "\n",
            "  merged_DF[column].fillna(0,inplace=True)\n",
            "C:\\Users\\cucum\\AppData\\Local\\Temp\\ipykernel_16084\\1839788104.py:19: FutureWarning: A value is trying to be set on a copy of a DataFrame or Series through chained assignment using an inplace method.\n",
            "The behavior will change in pandas 3.0. This inplace method will never work because the intermediate object on which we are setting values always behaves as a copy.\n",
            "\n",
            "For example, when doing 'df[col].method(value, inplace=True)', try using 'df.method({col: value}, inplace=True)' or df[col] = df[col].method(value) instead, to perform the operation inplace on the original object.\n",
            "\n",
            "\n",
            "  merged_DF[column].fillna(0,inplace=True)\n",
            "C:\\Users\\cucum\\AppData\\Local\\Temp\\ipykernel_16084\\1839788104.py:19: FutureWarning: A value is trying to be set on a copy of a DataFrame or Series through chained assignment using an inplace method.\n",
            "The behavior will change in pandas 3.0. This inplace method will never work because the intermediate object on which we are setting values always behaves as a copy.\n",
            "\n",
            "For example, when doing 'df[col].method(value, inplace=True)', try using 'df.method({col: value}, inplace=True)' or df[col] = df[col].method(value) instead, to perform the operation inplace on the original object.\n",
            "\n",
            "\n",
            "  merged_DF[column].fillna(0,inplace=True)\n",
            "C:\\Users\\cucum\\AppData\\Local\\Temp\\ipykernel_16084\\1839788104.py:19: FutureWarning: A value is trying to be set on a copy of a DataFrame or Series through chained assignment using an inplace method.\n",
            "The behavior will change in pandas 3.0. This inplace method will never work because the intermediate object on which we are setting values always behaves as a copy.\n",
            "\n",
            "For example, when doing 'df[col].method(value, inplace=True)', try using 'df.method({col: value}, inplace=True)' or df[col] = df[col].method(value) instead, to perform the operation inplace on the original object.\n",
            "\n",
            "\n",
            "  merged_DF[column].fillna(0,inplace=True)\n",
            "C:\\Users\\cucum\\AppData\\Local\\Temp\\ipykernel_16084\\1839788104.py:19: FutureWarning: A value is trying to be set on a copy of a DataFrame or Series through chained assignment using an inplace method.\n",
            "The behavior will change in pandas 3.0. This inplace method will never work because the intermediate object on which we are setting values always behaves as a copy.\n",
            "\n",
            "For example, when doing 'df[col].method(value, inplace=True)', try using 'df.method({col: value}, inplace=True)' or df[col] = df[col].method(value) instead, to perform the operation inplace on the original object.\n",
            "\n",
            "\n",
            "  merged_DF[column].fillna(0,inplace=True)\n",
            "C:\\Users\\cucum\\AppData\\Local\\Temp\\ipykernel_16084\\1839788104.py:19: FutureWarning: A value is trying to be set on a copy of a DataFrame or Series through chained assignment using an inplace method.\n",
            "The behavior will change in pandas 3.0. This inplace method will never work because the intermediate object on which we are setting values always behaves as a copy.\n",
            "\n",
            "For example, when doing 'df[col].method(value, inplace=True)', try using 'df.method({col: value}, inplace=True)' or df[col] = df[col].method(value) instead, to perform the operation inplace on the original object.\n",
            "\n",
            "\n",
            "  merged_DF[column].fillna(0,inplace=True)\n",
            "C:\\Users\\cucum\\AppData\\Local\\Temp\\ipykernel_16084\\1839788104.py:19: FutureWarning: A value is trying to be set on a copy of a DataFrame or Series through chained assignment using an inplace method.\n",
            "The behavior will change in pandas 3.0. This inplace method will never work because the intermediate object on which we are setting values always behaves as a copy.\n",
            "\n",
            "For example, when doing 'df[col].method(value, inplace=True)', try using 'df.method({col: value}, inplace=True)' or df[col] = df[col].method(value) instead, to perform the operation inplace on the original object.\n",
            "\n",
            "\n",
            "  merged_DF[column].fillna(0,inplace=True)\n",
            "C:\\Users\\cucum\\AppData\\Local\\Temp\\ipykernel_16084\\1839788104.py:19: FutureWarning: A value is trying to be set on a copy of a DataFrame or Series through chained assignment using an inplace method.\n",
            "The behavior will change in pandas 3.0. This inplace method will never work because the intermediate object on which we are setting values always behaves as a copy.\n",
            "\n",
            "For example, when doing 'df[col].method(value, inplace=True)', try using 'df.method({col: value}, inplace=True)' or df[col] = df[col].method(value) instead, to perform the operation inplace on the original object.\n",
            "\n",
            "\n",
            "  merged_DF[column].fillna(0,inplace=True)\n",
            "C:\\Users\\cucum\\AppData\\Local\\Temp\\ipykernel_16084\\1839788104.py:19: FutureWarning: A value is trying to be set on a copy of a DataFrame or Series through chained assignment using an inplace method.\n",
            "The behavior will change in pandas 3.0. This inplace method will never work because the intermediate object on which we are setting values always behaves as a copy.\n",
            "\n",
            "For example, when doing 'df[col].method(value, inplace=True)', try using 'df.method({col: value}, inplace=True)' or df[col] = df[col].method(value) instead, to perform the operation inplace on the original object.\n",
            "\n",
            "\n",
            "  merged_DF[column].fillna(0,inplace=True)\n",
            "C:\\Users\\cucum\\AppData\\Local\\Temp\\ipykernel_16084\\1839788104.py:19: FutureWarning: A value is trying to be set on a copy of a DataFrame or Series through chained assignment using an inplace method.\n",
            "The behavior will change in pandas 3.0. This inplace method will never work because the intermediate object on which we are setting values always behaves as a copy.\n",
            "\n",
            "For example, when doing 'df[col].method(value, inplace=True)', try using 'df.method({col: value}, inplace=True)' or df[col] = df[col].method(value) instead, to perform the operation inplace on the original object.\n",
            "\n",
            "\n",
            "  merged_DF[column].fillna(0,inplace=True)\n",
            "C:\\Users\\cucum\\AppData\\Local\\Temp\\ipykernel_16084\\1839788104.py:19: FutureWarning: A value is trying to be set on a copy of a DataFrame or Series through chained assignment using an inplace method.\n",
            "The behavior will change in pandas 3.0. This inplace method will never work because the intermediate object on which we are setting values always behaves as a copy.\n",
            "\n",
            "For example, when doing 'df[col].method(value, inplace=True)', try using 'df.method({col: value}, inplace=True)' or df[col] = df[col].method(value) instead, to perform the operation inplace on the original object.\n",
            "\n",
            "\n",
            "  merged_DF[column].fillna(0,inplace=True)\n",
            "C:\\Users\\cucum\\AppData\\Local\\Temp\\ipykernel_16084\\1839788104.py:19: FutureWarning: A value is trying to be set on a copy of a DataFrame or Series through chained assignment using an inplace method.\n",
            "The behavior will change in pandas 3.0. This inplace method will never work because the intermediate object on which we are setting values always behaves as a copy.\n",
            "\n",
            "For example, when doing 'df[col].method(value, inplace=True)', try using 'df.method({col: value}, inplace=True)' or df[col] = df[col].method(value) instead, to perform the operation inplace on the original object.\n",
            "\n",
            "\n",
            "  merged_DF[column].fillna(0,inplace=True)\n",
            "C:\\Users\\cucum\\AppData\\Local\\Temp\\ipykernel_16084\\1839788104.py:19: FutureWarning: A value is trying to be set on a copy of a DataFrame or Series through chained assignment using an inplace method.\n",
            "The behavior will change in pandas 3.0. This inplace method will never work because the intermediate object on which we are setting values always behaves as a copy.\n",
            "\n",
            "For example, when doing 'df[col].method(value, inplace=True)', try using 'df.method({col: value}, inplace=True)' or df[col] = df[col].method(value) instead, to perform the operation inplace on the original object.\n",
            "\n",
            "\n",
            "  merged_DF[column].fillna(0,inplace=True)\n",
            "C:\\Users\\cucum\\AppData\\Local\\Temp\\ipykernel_16084\\1839788104.py:19: FutureWarning: A value is trying to be set on a copy of a DataFrame or Series through chained assignment using an inplace method.\n",
            "The behavior will change in pandas 3.0. This inplace method will never work because the intermediate object on which we are setting values always behaves as a copy.\n",
            "\n",
            "For example, when doing 'df[col].method(value, inplace=True)', try using 'df.method({col: value}, inplace=True)' or df[col] = df[col].method(value) instead, to perform the operation inplace on the original object.\n",
            "\n",
            "\n",
            "  merged_DF[column].fillna(0,inplace=True)\n",
            "C:\\Users\\cucum\\AppData\\Local\\Temp\\ipykernel_16084\\1839788104.py:19: FutureWarning: A value is trying to be set on a copy of a DataFrame or Series through chained assignment using an inplace method.\n",
            "The behavior will change in pandas 3.0. This inplace method will never work because the intermediate object on which we are setting values always behaves as a copy.\n",
            "\n",
            "For example, when doing 'df[col].method(value, inplace=True)', try using 'df.method({col: value}, inplace=True)' or df[col] = df[col].method(value) instead, to perform the operation inplace on the original object.\n",
            "\n",
            "\n",
            "  merged_DF[column].fillna(0,inplace=True)\n",
            "C:\\Users\\cucum\\AppData\\Local\\Temp\\ipykernel_16084\\1839788104.py:19: FutureWarning: A value is trying to be set on a copy of a DataFrame or Series through chained assignment using an inplace method.\n",
            "The behavior will change in pandas 3.0. This inplace method will never work because the intermediate object on which we are setting values always behaves as a copy.\n",
            "\n",
            "For example, when doing 'df[col].method(value, inplace=True)', try using 'df.method({col: value}, inplace=True)' or df[col] = df[col].method(value) instead, to perform the operation inplace on the original object.\n",
            "\n",
            "\n",
            "  merged_DF[column].fillna(0,inplace=True)\n",
            "C:\\Users\\cucum\\AppData\\Local\\Temp\\ipykernel_16084\\1839788104.py:19: FutureWarning: A value is trying to be set on a copy of a DataFrame or Series through chained assignment using an inplace method.\n",
            "The behavior will change in pandas 3.0. This inplace method will never work because the intermediate object on which we are setting values always behaves as a copy.\n",
            "\n",
            "For example, when doing 'df[col].method(value, inplace=True)', try using 'df.method({col: value}, inplace=True)' or df[col] = df[col].method(value) instead, to perform the operation inplace on the original object.\n",
            "\n",
            "\n",
            "  merged_DF[column].fillna(0,inplace=True)\n",
            "C:\\Users\\cucum\\AppData\\Local\\Temp\\ipykernel_16084\\1839788104.py:19: FutureWarning: A value is trying to be set on a copy of a DataFrame or Series through chained assignment using an inplace method.\n",
            "The behavior will change in pandas 3.0. This inplace method will never work because the intermediate object on which we are setting values always behaves as a copy.\n",
            "\n",
            "For example, when doing 'df[col].method(value, inplace=True)', try using 'df.method({col: value}, inplace=True)' or df[col] = df[col].method(value) instead, to perform the operation inplace on the original object.\n",
            "\n",
            "\n",
            "  merged_DF[column].fillna(0,inplace=True)\n",
            "C:\\Users\\cucum\\AppData\\Local\\Temp\\ipykernel_16084\\1839788104.py:19: FutureWarning: A value is trying to be set on a copy of a DataFrame or Series through chained assignment using an inplace method.\n",
            "The behavior will change in pandas 3.0. This inplace method will never work because the intermediate object on which we are setting values always behaves as a copy.\n",
            "\n",
            "For example, when doing 'df[col].method(value, inplace=True)', try using 'df.method({col: value}, inplace=True)' or df[col] = df[col].method(value) instead, to perform the operation inplace on the original object.\n",
            "\n",
            "\n",
            "  merged_DF[column].fillna(0,inplace=True)\n",
            "C:\\Users\\cucum\\AppData\\Local\\Temp\\ipykernel_16084\\1839788104.py:19: FutureWarning: A value is trying to be set on a copy of a DataFrame or Series through chained assignment using an inplace method.\n",
            "The behavior will change in pandas 3.0. This inplace method will never work because the intermediate object on which we are setting values always behaves as a copy.\n",
            "\n",
            "For example, when doing 'df[col].method(value, inplace=True)', try using 'df.method({col: value}, inplace=True)' or df[col] = df[col].method(value) instead, to perform the operation inplace on the original object.\n",
            "\n",
            "\n",
            "  merged_DF[column].fillna(0,inplace=True)\n",
            "C:\\Users\\cucum\\AppData\\Local\\Temp\\ipykernel_16084\\1839788104.py:19: FutureWarning: A value is trying to be set on a copy of a DataFrame or Series through chained assignment using an inplace method.\n",
            "The behavior will change in pandas 3.0. This inplace method will never work because the intermediate object on which we are setting values always behaves as a copy.\n",
            "\n",
            "For example, when doing 'df[col].method(value, inplace=True)', try using 'df.method({col: value}, inplace=True)' or df[col] = df[col].method(value) instead, to perform the operation inplace on the original object.\n",
            "\n",
            "\n",
            "  merged_DF[column].fillna(0,inplace=True)\n",
            "C:\\Users\\cucum\\AppData\\Local\\Temp\\ipykernel_16084\\1839788104.py:19: FutureWarning: A value is trying to be set on a copy of a DataFrame or Series through chained assignment using an inplace method.\n",
            "The behavior will change in pandas 3.0. This inplace method will never work because the intermediate object on which we are setting values always behaves as a copy.\n",
            "\n",
            "For example, when doing 'df[col].method(value, inplace=True)', try using 'df.method({col: value}, inplace=True)' or df[col] = df[col].method(value) instead, to perform the operation inplace on the original object.\n",
            "\n",
            "\n",
            "  merged_DF[column].fillna(0,inplace=True)\n",
            "C:\\Users\\cucum\\AppData\\Local\\Temp\\ipykernel_16084\\1839788104.py:19: FutureWarning: A value is trying to be set on a copy of a DataFrame or Series through chained assignment using an inplace method.\n",
            "The behavior will change in pandas 3.0. This inplace method will never work because the intermediate object on which we are setting values always behaves as a copy.\n",
            "\n",
            "For example, when doing 'df[col].method(value, inplace=True)', try using 'df.method({col: value}, inplace=True)' or df[col] = df[col].method(value) instead, to perform the operation inplace on the original object.\n",
            "\n",
            "\n",
            "  merged_DF[column].fillna(0,inplace=True)\n",
            "C:\\Users\\cucum\\AppData\\Local\\Temp\\ipykernel_16084\\1839788104.py:19: FutureWarning: A value is trying to be set on a copy of a DataFrame or Series through chained assignment using an inplace method.\n",
            "The behavior will change in pandas 3.0. This inplace method will never work because the intermediate object on which we are setting values always behaves as a copy.\n",
            "\n",
            "For example, when doing 'df[col].method(value, inplace=True)', try using 'df.method({col: value}, inplace=True)' or df[col] = df[col].method(value) instead, to perform the operation inplace on the original object.\n",
            "\n",
            "\n",
            "  merged_DF[column].fillna(0,inplace=True)\n",
            "C:\\Users\\cucum\\AppData\\Local\\Temp\\ipykernel_16084\\1839788104.py:19: FutureWarning: A value is trying to be set on a copy of a DataFrame or Series through chained assignment using an inplace method.\n",
            "The behavior will change in pandas 3.0. This inplace method will never work because the intermediate object on which we are setting values always behaves as a copy.\n",
            "\n",
            "For example, when doing 'df[col].method(value, inplace=True)', try using 'df.method({col: value}, inplace=True)' or df[col] = df[col].method(value) instead, to perform the operation inplace on the original object.\n",
            "\n",
            "\n",
            "  merged_DF[column].fillna(0,inplace=True)\n",
            "C:\\Users\\cucum\\AppData\\Local\\Temp\\ipykernel_16084\\1839788104.py:19: FutureWarning: A value is trying to be set on a copy of a DataFrame or Series through chained assignment using an inplace method.\n",
            "The behavior will change in pandas 3.0. This inplace method will never work because the intermediate object on which we are setting values always behaves as a copy.\n",
            "\n",
            "For example, when doing 'df[col].method(value, inplace=True)', try using 'df.method({col: value}, inplace=True)' or df[col] = df[col].method(value) instead, to perform the operation inplace on the original object.\n",
            "\n",
            "\n",
            "  merged_DF[column].fillna(0,inplace=True)\n",
            "C:\\Users\\cucum\\AppData\\Local\\Temp\\ipykernel_16084\\1839788104.py:19: FutureWarning: A value is trying to be set on a copy of a DataFrame or Series through chained assignment using an inplace method.\n",
            "The behavior will change in pandas 3.0. This inplace method will never work because the intermediate object on which we are setting values always behaves as a copy.\n",
            "\n",
            "For example, when doing 'df[col].method(value, inplace=True)', try using 'df.method({col: value}, inplace=True)' or df[col] = df[col].method(value) instead, to perform the operation inplace on the original object.\n",
            "\n",
            "\n",
            "  merged_DF[column].fillna(0,inplace=True)\n",
            "C:\\Users\\cucum\\AppData\\Local\\Temp\\ipykernel_16084\\1839788104.py:19: FutureWarning: A value is trying to be set on a copy of a DataFrame or Series through chained assignment using an inplace method.\n",
            "The behavior will change in pandas 3.0. This inplace method will never work because the intermediate object on which we are setting values always behaves as a copy.\n",
            "\n",
            "For example, when doing 'df[col].method(value, inplace=True)', try using 'df.method({col: value}, inplace=True)' or df[col] = df[col].method(value) instead, to perform the operation inplace on the original object.\n",
            "\n",
            "\n",
            "  merged_DF[column].fillna(0,inplace=True)\n",
            "C:\\Users\\cucum\\AppData\\Local\\Temp\\ipykernel_16084\\1839788104.py:19: FutureWarning: A value is trying to be set on a copy of a DataFrame or Series through chained assignment using an inplace method.\n",
            "The behavior will change in pandas 3.0. This inplace method will never work because the intermediate object on which we are setting values always behaves as a copy.\n",
            "\n",
            "For example, when doing 'df[col].method(value, inplace=True)', try using 'df.method({col: value}, inplace=True)' or df[col] = df[col].method(value) instead, to perform the operation inplace on the original object.\n",
            "\n",
            "\n",
            "  merged_DF[column].fillna(0,inplace=True)\n",
            "C:\\Users\\cucum\\AppData\\Local\\Temp\\ipykernel_16084\\1839788104.py:19: FutureWarning: A value is trying to be set on a copy of a DataFrame or Series through chained assignment using an inplace method.\n",
            "The behavior will change in pandas 3.0. This inplace method will never work because the intermediate object on which we are setting values always behaves as a copy.\n",
            "\n",
            "For example, when doing 'df[col].method(value, inplace=True)', try using 'df.method({col: value}, inplace=True)' or df[col] = df[col].method(value) instead, to perform the operation inplace on the original object.\n",
            "\n",
            "\n",
            "  merged_DF[column].fillna(0,inplace=True)\n",
            "C:\\Users\\cucum\\AppData\\Local\\Temp\\ipykernel_16084\\1839788104.py:19: FutureWarning: A value is trying to be set on a copy of a DataFrame or Series through chained assignment using an inplace method.\n",
            "The behavior will change in pandas 3.0. This inplace method will never work because the intermediate object on which we are setting values always behaves as a copy.\n",
            "\n",
            "For example, when doing 'df[col].method(value, inplace=True)', try using 'df.method({col: value}, inplace=True)' or df[col] = df[col].method(value) instead, to perform the operation inplace on the original object.\n",
            "\n",
            "\n",
            "  merged_DF[column].fillna(0,inplace=True)\n",
            "C:\\Users\\cucum\\AppData\\Local\\Temp\\ipykernel_16084\\1839788104.py:19: FutureWarning: A value is trying to be set on a copy of a DataFrame or Series through chained assignment using an inplace method.\n",
            "The behavior will change in pandas 3.0. This inplace method will never work because the intermediate object on which we are setting values always behaves as a copy.\n",
            "\n",
            "For example, when doing 'df[col].method(value, inplace=True)', try using 'df.method({col: value}, inplace=True)' or df[col] = df[col].method(value) instead, to perform the operation inplace on the original object.\n",
            "\n",
            "\n",
            "  merged_DF[column].fillna(0,inplace=True)\n",
            "C:\\Users\\cucum\\AppData\\Local\\Temp\\ipykernel_16084\\1839788104.py:19: FutureWarning: A value is trying to be set on a copy of a DataFrame or Series through chained assignment using an inplace method.\n",
            "The behavior will change in pandas 3.0. This inplace method will never work because the intermediate object on which we are setting values always behaves as a copy.\n",
            "\n",
            "For example, when doing 'df[col].method(value, inplace=True)', try using 'df.method({col: value}, inplace=True)' or df[col] = df[col].method(value) instead, to perform the operation inplace on the original object.\n",
            "\n",
            "\n",
            "  merged_DF[column].fillna(0,inplace=True)\n",
            "C:\\Users\\cucum\\AppData\\Local\\Temp\\ipykernel_16084\\1839788104.py:19: FutureWarning: A value is trying to be set on a copy of a DataFrame or Series through chained assignment using an inplace method.\n",
            "The behavior will change in pandas 3.0. This inplace method will never work because the intermediate object on which we are setting values always behaves as a copy.\n",
            "\n",
            "For example, when doing 'df[col].method(value, inplace=True)', try using 'df.method({col: value}, inplace=True)' or df[col] = df[col].method(value) instead, to perform the operation inplace on the original object.\n",
            "\n",
            "\n",
            "  merged_DF[column].fillna(0,inplace=True)\n",
            "C:\\Users\\cucum\\AppData\\Local\\Temp\\ipykernel_16084\\1839788104.py:19: FutureWarning: A value is trying to be set on a copy of a DataFrame or Series through chained assignment using an inplace method.\n",
            "The behavior will change in pandas 3.0. This inplace method will never work because the intermediate object on which we are setting values always behaves as a copy.\n",
            "\n",
            "For example, when doing 'df[col].method(value, inplace=True)', try using 'df.method({col: value}, inplace=True)' or df[col] = df[col].method(value) instead, to perform the operation inplace on the original object.\n",
            "\n",
            "\n",
            "  merged_DF[column].fillna(0,inplace=True)\n",
            "C:\\Users\\cucum\\AppData\\Local\\Temp\\ipykernel_16084\\1839788104.py:19: FutureWarning: A value is trying to be set on a copy of a DataFrame or Series through chained assignment using an inplace method.\n",
            "The behavior will change in pandas 3.0. This inplace method will never work because the intermediate object on which we are setting values always behaves as a copy.\n",
            "\n",
            "For example, when doing 'df[col].method(value, inplace=True)', try using 'df.method({col: value}, inplace=True)' or df[col] = df[col].method(value) instead, to perform the operation inplace on the original object.\n",
            "\n",
            "\n",
            "  merged_DF[column].fillna(0,inplace=True)\n",
            "C:\\Users\\cucum\\AppData\\Local\\Temp\\ipykernel_16084\\1839788104.py:19: FutureWarning: A value is trying to be set on a copy of a DataFrame or Series through chained assignment using an inplace method.\n",
            "The behavior will change in pandas 3.0. This inplace method will never work because the intermediate object on which we are setting values always behaves as a copy.\n",
            "\n",
            "For example, when doing 'df[col].method(value, inplace=True)', try using 'df.method({col: value}, inplace=True)' or df[col] = df[col].method(value) instead, to perform the operation inplace on the original object.\n",
            "\n",
            "\n",
            "  merged_DF[column].fillna(0,inplace=True)\n",
            "C:\\Users\\cucum\\AppData\\Local\\Temp\\ipykernel_16084\\1839788104.py:19: FutureWarning: A value is trying to be set on a copy of a DataFrame or Series through chained assignment using an inplace method.\n",
            "The behavior will change in pandas 3.0. This inplace method will never work because the intermediate object on which we are setting values always behaves as a copy.\n",
            "\n",
            "For example, when doing 'df[col].method(value, inplace=True)', try using 'df.method({col: value}, inplace=True)' or df[col] = df[col].method(value) instead, to perform the operation inplace on the original object.\n",
            "\n",
            "\n",
            "  merged_DF[column].fillna(0,inplace=True)\n",
            "C:\\Users\\cucum\\AppData\\Local\\Temp\\ipykernel_16084\\1839788104.py:19: FutureWarning: A value is trying to be set on a copy of a DataFrame or Series through chained assignment using an inplace method.\n",
            "The behavior will change in pandas 3.0. This inplace method will never work because the intermediate object on which we are setting values always behaves as a copy.\n",
            "\n",
            "For example, when doing 'df[col].method(value, inplace=True)', try using 'df.method({col: value}, inplace=True)' or df[col] = df[col].method(value) instead, to perform the operation inplace on the original object.\n",
            "\n",
            "\n",
            "  merged_DF[column].fillna(0,inplace=True)\n",
            "C:\\Users\\cucum\\AppData\\Local\\Temp\\ipykernel_16084\\1839788104.py:19: FutureWarning: A value is trying to be set on a copy of a DataFrame or Series through chained assignment using an inplace method.\n",
            "The behavior will change in pandas 3.0. This inplace method will never work because the intermediate object on which we are setting values always behaves as a copy.\n",
            "\n",
            "For example, when doing 'df[col].method(value, inplace=True)', try using 'df.method({col: value}, inplace=True)' or df[col] = df[col].method(value) instead, to perform the operation inplace on the original object.\n",
            "\n",
            "\n",
            "  merged_DF[column].fillna(0,inplace=True)\n",
            "C:\\Users\\cucum\\AppData\\Local\\Temp\\ipykernel_16084\\1839788104.py:19: FutureWarning: A value is trying to be set on a copy of a DataFrame or Series through chained assignment using an inplace method.\n",
            "The behavior will change in pandas 3.0. This inplace method will never work because the intermediate object on which we are setting values always behaves as a copy.\n",
            "\n",
            "For example, when doing 'df[col].method(value, inplace=True)', try using 'df.method({col: value}, inplace=True)' or df[col] = df[col].method(value) instead, to perform the operation inplace on the original object.\n",
            "\n",
            "\n",
            "  merged_DF[column].fillna(0,inplace=True)\n",
            "C:\\Users\\cucum\\AppData\\Local\\Temp\\ipykernel_16084\\1839788104.py:19: FutureWarning: A value is trying to be set on a copy of a DataFrame or Series through chained assignment using an inplace method.\n",
            "The behavior will change in pandas 3.0. This inplace method will never work because the intermediate object on which we are setting values always behaves as a copy.\n",
            "\n",
            "For example, when doing 'df[col].method(value, inplace=True)', try using 'df.method({col: value}, inplace=True)' or df[col] = df[col].method(value) instead, to perform the operation inplace on the original object.\n",
            "\n",
            "\n",
            "  merged_DF[column].fillna(0,inplace=True)\n",
            "C:\\Users\\cucum\\AppData\\Local\\Temp\\ipykernel_16084\\1839788104.py:19: FutureWarning: A value is trying to be set on a copy of a DataFrame or Series through chained assignment using an inplace method.\n",
            "The behavior will change in pandas 3.0. This inplace method will never work because the intermediate object on which we are setting values always behaves as a copy.\n",
            "\n",
            "For example, when doing 'df[col].method(value, inplace=True)', try using 'df.method({col: value}, inplace=True)' or df[col] = df[col].method(value) instead, to perform the operation inplace on the original object.\n",
            "\n",
            "\n",
            "  merged_DF[column].fillna(0,inplace=True)\n"
          ]
        }
      ],
      "source": [
        "# Fusiona los datos de llamadas, minutos, mensajes e Internet con base en user_id y month\n",
        "\n",
        "merged_DF = pivot_calls.merge(pivot_min, on = 'user_id', how = 'outer') #Se fusiona con outer para asegurarnos de no perder información\n",
        "merged_DF = merged_DF.merge(pivot_sms, on = 'user_id', how = 'outer')\n",
        "merged_DF = merged_DF.merge(pivot_gb, on = 'user_id', how = 'outer')\n",
        "\n",
        "#Como son de diferentes tamaños los DF habra valores nulos, los podemos convertir a ceros.\n",
        "# Como todas las tablas anteriores representan numeros enteros, esta tambien podemos qasegurarnos que sean este tipo de dato.\n",
        "columns_to_replace = ['calls_m1','calls_m2','calls_m3','calls_m4','calls_m5','calls_m6','calls_m7',\n",
        "                      'calls_m8','calls_m9','calls_m10','calls_m11', 'calls_m12',\n",
        "                      'min_m1','min_m2','min_m3','min_m4','min_m5','min_m6','min_m7',\n",
        "                      'min_m8','min_m9','min_m10','min_m11', 'min_m12',\n",
        "                      'sms_m1','sms_m2','sms_m3','sms_m4','sms_m5','sms_m6','sms_m7',\n",
        "                      'sms_m8','sms_m9','sms_m10','sms_m11', 'sms_m12',\n",
        "                      'gb_m1','gb_m2','gb_m3','gb_m4','gb_m5','gb_m6','gb_m7',\n",
        "                      'gb_m8','gb_m9','gb_m10','gb_m11', 'gb_m12']\n",
        "\n",
        "for column in columns_to_replace:\n",
        "        merged_DF[column].fillna(0,inplace=True)\n",
        "        merged_DF[column]=merged_DF[column].astype('int')\n",
        "\n",
        "merged_DF.info()\n",
        "print()\n",
        "print(merged_DF.sample(5))\n"
      ]
    },
    {
      "cell_type": "code",
      "execution_count": null,
      "metadata": {
        "id": "0dNOXHag0q1H",
        "trusted": true,
        "outputId": "f1b64744-098b-489a-c88e-bab0ea11fc1d"
      },
      "outputs": [
        {
          "name": "stdout",
          "output_type": "stream",
          "text": [
            "<class 'pandas.core.frame.DataFrame'>\n",
            "RangeIndex: 490 entries, 0 to 489\n",
            "Data columns (total 51 columns):\n",
            " #   Column     Non-Null Count  Dtype \n",
            "---  ------     --------------  ----- \n",
            " 0   user_id    490 non-null    object\n",
            " 1   calls_m1   490 non-null    int64 \n",
            " 2   calls_m2   490 non-null    int64 \n",
            " 3   calls_m3   490 non-null    int64 \n",
            " 4   calls_m4   490 non-null    int64 \n",
            " 5   calls_m5   490 non-null    int64 \n",
            " 6   calls_m6   490 non-null    int64 \n",
            " 7   calls_m7   490 non-null    int64 \n",
            " 8   calls_m8   490 non-null    int64 \n",
            " 9   calls_m9   490 non-null    int64 \n",
            " 10  calls_m10  490 non-null    int64 \n",
            " 11  calls_m11  490 non-null    int64 \n",
            " 12  calls_m12  490 non-null    int64 \n",
            " 13  min_m1     490 non-null    int64 \n",
            " 14  min_m2     490 non-null    int64 \n",
            " 15  min_m3     490 non-null    int64 \n",
            " 16  min_m4     490 non-null    int64 \n",
            " 17  min_m5     490 non-null    int64 \n",
            " 18  min_m6     490 non-null    int64 \n",
            " 19  min_m7     490 non-null    int64 \n",
            " 20  min_m8     490 non-null    int64 \n",
            " 21  min_m9     490 non-null    int64 \n",
            " 22  min_m10    490 non-null    int64 \n",
            " 23  min_m11    490 non-null    int64 \n",
            " 24  min_m12    490 non-null    int64 \n",
            " 25  sms_m1     490 non-null    int64 \n",
            " 26  sms_m2     490 non-null    int64 \n",
            " 27  sms_m3     490 non-null    int64 \n",
            " 28  sms_m4     490 non-null    int64 \n",
            " 29  sms_m5     490 non-null    int64 \n",
            " 30  sms_m6     490 non-null    int64 \n",
            " 31  sms_m7     490 non-null    int64 \n",
            " 32  sms_m8     490 non-null    int64 \n",
            " 33  sms_m9     490 non-null    int64 \n",
            " 34  sms_m10    490 non-null    int64 \n",
            " 35  sms_m11    490 non-null    int64 \n",
            " 36  sms_m12    490 non-null    int64 \n",
            " 37  gb_m1      490 non-null    int64 \n",
            " 38  gb_m2      490 non-null    int64 \n",
            " 39  gb_m3      490 non-null    int64 \n",
            " 40  gb_m4      490 non-null    int64 \n",
            " 41  gb_m5      490 non-null    int64 \n",
            " 42  gb_m6      490 non-null    int64 \n",
            " 43  gb_m7      490 non-null    int64 \n",
            " 44  gb_m8      490 non-null    int64 \n",
            " 45  gb_m9      490 non-null    int64 \n",
            " 46  gb_m10     490 non-null    int64 \n",
            " 47  gb_m11     490 non-null    int64 \n",
            " 48  gb_m12     490 non-null    int64 \n",
            " 49  plan       490 non-null    object\n",
            " 50  NY-NJ      490 non-null    bool  \n",
            "dtypes: bool(1), int64(48), object(2)\n",
            "memory usage: 192.0+ KB\n",
            "\n",
            "  user_id  calls_m1  calls_m2  calls_m3  calls_m4  calls_m5  calls_m6  \\\n",
            "0    1000         0         0         0         0         0         0   \n",
            "1    1001         0         0         0         0         0         0   \n",
            "2    1002         0         0         0         0         0         0   \n",
            "3    1003         0         0         0         0         0         0   \n",
            "4    1004         0         0         0         0        21        44   \n",
            "\n",
            "   calls_m7  calls_m8  calls_m9  ...  gb_m5  gb_m6  gb_m7  gb_m8  gb_m9  \\\n",
            "0         0         0         0  ...      0      0      0      0      0   \n",
            "1         0        27        49  ...      0      0      0      7     14   \n",
            "2         0         0         0  ...      0      0      0      0      0   \n",
            "3         0         0         0  ...      0      0      0      0      0   \n",
            "4        49        49        42  ...      7     21     25     28     19   \n",
            "\n",
            "   gb_m10  gb_m11  gb_m12      plan  NY-NJ  \n",
            "0       0       0       2  ultimate  False  \n",
            "1      23      19      20      surf  False  \n",
            "2       7      20      15      surf  False  \n",
            "3       0       0      28      surf  False  \n",
            "4      15      22      22      surf  False  \n",
            "\n",
            "[5 rows x 51 columns]\n"
          ]
        }
      ],
      "source": [
        "# Añade la información de la tarifa\n",
        "merged_DF = merged_DF.merge(users, on = 'user_id', how = 'left')\n",
        "\n",
        "#Eliminamos las columnas de users, que no nos son utiles:\n",
        "merged_DF = merged_DF.drop('first_name', axis = 'columns')\n",
        "merged_DF =merged_DF.drop('last_name', axis = 'columns')\n",
        "merged_DF =merged_DF.drop('age', axis = 'columns')\n",
        "merged_DF =merged_DF.drop('city', axis = 'columns')\n",
        "merged_DF =merged_DF.drop('reg_date', axis = 'columns')\n",
        "merged_DF =merged_DF.drop('churn_date', axis = 'columns')\n",
        "#solo conservamos las columnas 'plan' y la creada 'NY-NJ' ( nos indica si son de la region New Yor - New Jersey)\n",
        "\n",
        "\n",
        "\n",
        "merged_DF.info()\n",
        "print()\n",
        "print(merged_DF.head())\n"
      ]
    },
    {
      "cell_type": "markdown",
      "metadata": {
        "id": "1IwGo4wg0q1I"
      },
      "source": [
        "Ahora se calcula los ingresos mensuales por usuario dadas las condiciones del plan (resta el límite del paquete gratuito del número total de llamadas, mensajes de texto y datos; multiplica el resultado por el valor del plan de llamadas; añade la tarifa mensual en función del plan de llamadas)."
      ]
    },
    {
      "cell_type": "code",
      "execution_count": null,
      "metadata": {
        "id": "5FGCf_c60q1I",
        "trusted": true,
        "outputId": "af850b4e-990e-453f-bd02-45a01dd65c76"
      },
      "outputs": [
        {
          "name": "stdout",
          "output_type": "stream",
          "text": [
            "<class 'pandas.core.frame.DataFrame'>\n",
            "RangeIndex: 490 entries, 0 to 489\n",
            "Data columns (total 63 columns):\n",
            " #   Column       Non-Null Count  Dtype  \n",
            "---  ------       --------------  -----  \n",
            " 0   user_id      490 non-null    object \n",
            " 1   calls_m1     490 non-null    int64  \n",
            " 2   calls_m2     490 non-null    int64  \n",
            " 3   calls_m3     490 non-null    int64  \n",
            " 4   calls_m4     490 non-null    int64  \n",
            " 5   calls_m5     490 non-null    int64  \n",
            " 6   calls_m6     490 non-null    int64  \n",
            " 7   calls_m7     490 non-null    int64  \n",
            " 8   calls_m8     490 non-null    int64  \n",
            " 9   calls_m9     490 non-null    int64  \n",
            " 10  calls_m10    490 non-null    int64  \n",
            " 11  calls_m11    490 non-null    int64  \n",
            " 12  calls_m12    490 non-null    int64  \n",
            " 13  min_m1       490 non-null    int64  \n",
            " 14  min_m2       490 non-null    int64  \n",
            " 15  min_m3       490 non-null    int64  \n",
            " 16  min_m4       490 non-null    int64  \n",
            " 17  min_m5       490 non-null    int64  \n",
            " 18  min_m6       490 non-null    int64  \n",
            " 19  min_m7       490 non-null    int64  \n",
            " 20  min_m8       490 non-null    int64  \n",
            " 21  min_m9       490 non-null    int64  \n",
            " 22  min_m10      490 non-null    int64  \n",
            " 23  min_m11      490 non-null    int64  \n",
            " 24  min_m12      490 non-null    int64  \n",
            " 25  sms_m1       490 non-null    int64  \n",
            " 26  sms_m2       490 non-null    int64  \n",
            " 27  sms_m3       490 non-null    int64  \n",
            " 28  sms_m4       490 non-null    int64  \n",
            " 29  sms_m5       490 non-null    int64  \n",
            " 30  sms_m6       490 non-null    int64  \n",
            " 31  sms_m7       490 non-null    int64  \n",
            " 32  sms_m8       490 non-null    int64  \n",
            " 33  sms_m9       490 non-null    int64  \n",
            " 34  sms_m10      490 non-null    int64  \n",
            " 35  sms_m11      490 non-null    int64  \n",
            " 36  sms_m12      490 non-null    int64  \n",
            " 37  gb_m1        490 non-null    int64  \n",
            " 38  gb_m2        490 non-null    int64  \n",
            " 39  gb_m3        490 non-null    int64  \n",
            " 40  gb_m4        490 non-null    int64  \n",
            " 41  gb_m5        490 non-null    int64  \n",
            " 42  gb_m6        490 non-null    int64  \n",
            " 43  gb_m7        490 non-null    int64  \n",
            " 44  gb_m8        490 non-null    int64  \n",
            " 45  gb_m9        490 non-null    int64  \n",
            " 46  gb_m10       490 non-null    int64  \n",
            " 47  gb_m11       490 non-null    int64  \n",
            " 48  gb_m12       490 non-null    int64  \n",
            " 49  plan         490 non-null    object \n",
            " 50  NY-NJ        490 non-null    bool   \n",
            " 51  payment_m1   490 non-null    int64  \n",
            " 52  payment_m2   490 non-null    float64\n",
            " 53  payment_m3   490 non-null    float64\n",
            " 54  payment_m4   490 non-null    float64\n",
            " 55  payment_m5   490 non-null    float64\n",
            " 56  payment_m6   490 non-null    float64\n",
            " 57  payment_m7   490 non-null    float64\n",
            " 58  payment_m8   490 non-null    float64\n",
            " 59  payment_m9   490 non-null    float64\n",
            " 60  payment_m10  490 non-null    float64\n",
            " 61  payment_m11  490 non-null    float64\n",
            " 62  payment_m12  490 non-null    float64\n",
            "dtypes: bool(1), float64(11), int64(49), object(2)\n",
            "memory usage: 238.0+ KB\n",
            "\n",
            "    user_id  calls_m1  calls_m2  calls_m3  calls_m4  calls_m5  calls_m6  \\\n",
            "377    1385         0         0        12        78        68        69   \n",
            "168    1171         0        31        41        44        37        47   \n",
            "363    1370         0         0         0         0         0         0   \n",
            "339    1346         0         0         0        10        33        41   \n",
            "440    1448         0         0         0         0         0         0   \n",
            "\n",
            "     calls_m7  calls_m8  calls_m9  ...  payment_m3  payment_m4  payment_m5  \\\n",
            "377        70        54        65  ...        20.0        56.0        44.1   \n",
            "168        44        40        35  ...       130.0        80.0        80.0   \n",
            "363         0         0        61  ...        70.0        70.0        70.0   \n",
            "339        45        48        50  ...        70.0        70.0        70.0   \n",
            "440         0         0         0  ...        20.0        20.0        20.0   \n",
            "\n",
            "     payment_m6  payment_m7  payment_m8  payment_m9  payment_m10  payment_m11  \\\n",
            "377        33.8        51.5        30.0        50.0         40.0         80.0   \n",
            "168        60.0        80.0        50.0       100.0        140.0         70.0   \n",
            "363        70.0        70.0        70.0        70.0         70.0         70.0   \n",
            "339        70.0        70.0        70.0        70.0         70.0         70.0   \n",
            "440        20.0        20.0        20.0        20.0         20.0         21.5   \n",
            "\n",
            "     payment_m12  \n",
            "377         58.9  \n",
            "168         70.0  \n",
            "363         70.0  \n",
            "339         70.0  \n",
            "440         22.7  \n",
            "\n",
            "[5 rows x 63 columns]\n"
          ]
        }
      ],
      "source": [
        "# Calcula el ingreso mensual para cada usuario\n",
        "\n",
        "for month in [1,2,3,4,5,6,7,8,9,10,11,12]:\n",
        "    payment = []\n",
        "    for user in range(0, len(merged_DF)):\n",
        "        minutes = 0   #numero de minutos extra\n",
        "        minutes_p =0   #pago por minutos extra\n",
        "        sms = 0       #numero de mensajes extra\n",
        "        sms_p = 0    #pago por mensajes extra\n",
        "        gb = 0        # gb extras usados\n",
        "        gb_p = 0      #pago por gb extras usados\n",
        "        total = 0\n",
        "\n",
        "        if merged_DF.loc[user,'plan'] == 'surf':\n",
        "            plan = 20\n",
        "            minutes= (merged_DF.loc[user,f'min_m{month}'] - 500)\n",
        "            if minutes > 0:\n",
        "                minutes_p = minutes * 0.3\n",
        "            else:\n",
        "                minutes_p = 0     # sino exceden los minutos dados no pagan extra\n",
        "            sms= (merged_DF.loc[user,f'sms_m{month}'] - 50)\n",
        "            if sms > 0:\n",
        "                sms_p = sms * 0.3\n",
        "            else:\n",
        "                sms_p = 0   # sino excenden los mensajes dados no pagan extra\n",
        "            gb =(merged_DF.loc[user,f'gb_m{month}'] - 15)\n",
        "            if gb > 0:\n",
        "                gb_p = gb * 10\n",
        "            else:\n",
        "                gb_p = 0    # sino exceden los 15 gb, no pagan extra\n",
        "            total = plan + minutes_p +sms_p + gb_p\n",
        "            payment.append(total)\n",
        "\n",
        "        else:\n",
        "            plan = 70\n",
        "            minutes =(merged_DF.loc[user,f'min_m{month}'] - 3000)\n",
        "            if minutes > 0:\n",
        "                minutes_p = mintes * 0.1\n",
        "            else:\n",
        "                minutes_p = 0 # Sino excenden los minutos dados no pagan extra\n",
        "            sms =(merged_DF.loc[user,f'sms_m{month}'] - 1000)\n",
        "            if sms > 0:\n",
        "                sms_p = sms * 0.1\n",
        "            else:\n",
        "                sms_p = 0 # Sino exceden los mensajes dados no pagan extra\n",
        "            gb = (merged_DF.loc[user,f'gb_m{month}'] - 30)\n",
        "            if gb > 0 :\n",
        "                gb_p = gb * 7\n",
        "            else:\n",
        "                gb_p = 0 # Sino excenden los GB dados no pagan extra.\n",
        "            total = plan + minutes_p +sms_p + gb_p\n",
        "            payment.append(total)\n",
        "\n",
        "    merged_DF[f'payment_m{month}'] = payment\n",
        "\n",
        "\n",
        "merged_DF.info()  # ya tenemos los pagos de cada mes, en flotante (dolares y centavos)\n",
        "print()\n",
        "print(merged_DF.sample(5))\n",
        "\n"
      ]
    },
    {
      "cell_type": "markdown",
      "metadata": {
        "id": "-jtyHzJb0q1I"
      },
      "source": [
        "## Estudia el comportamiento de usuario"
      ]
    },
    {
      "cell_type": "markdown",
      "metadata": {
        "id": "AxU3Y0N70q1J"
      },
      "source": [
        "Se calculan algunas estadísticas descriptivas para los datos que nos sean útiles de la tabla craeda 'merged_DF', así podremos obtener una visión general de los datos. Con ayuda de gráficos se facilita la comprensión.\n",
        "\n",
        "Dado que la tarea principal es comparar las tarifas y decidir cuál es más rentable, las estadísticas y gráficas se calcularán por tarifa."
      ]
    },
    {
      "cell_type": "markdown",
      "metadata": {
        "id": "vtW4CJEe0q1J"
      },
      "source": [
        "### Llamadas"
      ]
    },
    {
      "cell_type": "code",
      "execution_count": null,
      "metadata": {
        "id": "Jf5v5--k0q1J",
        "trusted": true,
        "outputId": "af01736a-2794-4ede-c294-7a705252be50"
      },
      "outputs": [
        {
          "data": {
            "image/png": "[encoded data removed]",
            "text/plain": [
              "<Figure size 500x500 with 1 Axes>"
            ]
          },
          "metadata": {},
          "output_type": "display_data"
        }
      ],
      "source": [
        "# Compara la duración promedio de llamadas por cada plan y por cada mes. Traza un gráfico de barras para visualizarla.\n",
        "\n",
        "# Primero separamos los datos por cada tarifa\n",
        "df_surf = merged_DF[merged_DF['plan']=='surf']\n",
        "df_ultimate = merged_DF[merged_DF['plan']=='ultimate']\n",
        "#df_surf.info()   # 333 entradas\n",
        "#df_ultimate.info()  # 157 entradas    << total las 490 entradas de merged_DF (no todos los 500 usurios usaron los servicios en el 2018)\n",
        "\n",
        "#Obtenemos las tablas de duración  de llamadas\n",
        "df_surf_calls = df_surf.loc[:,['min_m1','min_m2','min_m3','min_m4','min_m5','min_m6','min_m7',\n",
        "                      'min_m8','min_m9','min_m10','min_m11', 'min_m12']]\n",
        "df_ultimate_calls = df_ultimate.loc[:,['min_m1','min_m2','min_m3','min_m4','min_m5','min_m6','min_m7',\n",
        "                      'min_m8','min_m9','min_m10','min_m11', 'min_m12']]\n",
        "#df_surf_calls.info() # 333 entradas, unicamente columnas de duracion de llamadas por mes\n",
        "#df_ultimate_calls.info() # 157 entradas, unicamente columnas de duracion de llamadas por mes\n",
        "\n",
        "\n",
        "#Obtenemos promedios\n",
        "colums = ['min_m1','min_m2','min_m3','min_m4','min_m5','min_m6','min_m7',\n",
        "                      'min_m8','min_m9','min_m10','min_m11', 'min_m12']\n",
        "\n",
        "surf_calls_mean = {}  # Generamos dict>df para graficar promedios de duracion de llamada plan surf por mes\n",
        "for col in colums:\n",
        "    mean = df_surf_calls[col].mean()\n",
        "    surf_calls_mean[col] = mean\n",
        "df_surf_calls_mean=pd.DataFrame(list(surf_calls_mean.items()), columns=[\"month\", \"mean\"])\n",
        "#df_surf_calls_mean.info() # 2 columnas (mes y promedio) * 12 filas (meses)\n",
        "#print(df_surf_calls_mean.head())\n",
        "\n",
        "ultimate_calls_mean = {}  # Generamos dict>df para graficar promedios de duracion de llamada plan ultimate por mes\n",
        "for col in colums:\n",
        "    mean = df_ultimate_calls[col].mean()\n",
        "    ultimate_calls_mean[col] = mean\n",
        "df_ultimate_calls_mean=pd.DataFrame(list(ultimate_calls_mean.items()), columns=[\"month\", \"mean\"])\n",
        "#df_ultimate_calls_mean.info()  ## 2 columnas (mes y promedio) * 12 filas (meses)\n",
        "#print(df_ultimate_calls_mean.head())\n",
        "\n",
        "#Graficamos en una sola grafica para comparar\n",
        "\n",
        "df_concat_calls =pd.concat([df_surf_calls_mean,df_ultimate_calls_mean], axis = 'columns')\n",
        "df_concat_calls.columns = ['surf_calls_month','surf_calls_mean','ultimate_calls_month','ultimate_calls_mean']\n",
        "\n",
        "cols = ['surf_calls_mean','ultimate_calls_mean']\n",
        "\n",
        "df_concat_calls.plot(y = cols,\n",
        "                     title = 'Call Duration Mean for Surf and Ultimate Plans',\n",
        "                     kind ='bar',\n",
        "                     xlabel = 'Month',\n",
        "                     ylabel = 'Duration mean (minutes)',\n",
        "                     figsize =(5,5)\n",
        "\n",
        ")\n",
        "plt.legend(['Surf plan ','Ultimate plan'])\n",
        "plt.show()\n"
      ]
    },
    {
      "cell_type": "code",
      "execution_count": null,
      "metadata": {
        "id": "QoLqW1S_0q1J",
        "trusted": true,
        "outputId": "e2e47a87-56a8-44da-e354-23788e39216b"
      },
      "outputs": [
        {
          "data": {
            "image/png": "[encoded data removed]",
            "text/plain": [
              "<Figure size 300x300 with 1 Axes>"
            ]
          },
          "metadata": {},
          "output_type": "display_data"
        },
        {
          "data": {
            "image/png": "[encoded data removed]",
            "text/plain": [
              "<Figure size 300x300 with 1 Axes>"
            ]
          },
          "metadata": {},
          "output_type": "display_data"
        }
      ],
      "source": [
        "# Compara el número de minutos mensuales que necesitan los usuarios de cada plan. Traza un histograma.\n",
        "\n",
        "df_surf_calls_mean.plot (\n",
        "                bins = 12,   #Estamos revisando que tan frecuente qes que el promedio...\n",
        "    #...de los minutos usados al mes por los usuarios este en un determinado rango,\n",
        "    #Se eligio un valor de bins no tan elevado ya que sí se separa hasta que ...\n",
        "    #salgan 12 valores discretos, aparecerían puras barras de...\n",
        "    #valor 1 que no nos permite observar el comportamiento.\n",
        "                title = 'Call Duration Mean for Surf Plans',\n",
        "                kind ='hist',\n",
        "                xlabel = 'Duration mean (minutes)',\n",
        "                figsize =(3,3),\n",
        "\n",
        ")\n",
        "plt.show()\n",
        "\n",
        "df_ultimate_calls_mean.plot (\n",
        "                bins = 12,\n",
        "                title = 'Call Duration Mean for Ultimate Plans',\n",
        "                kind ='hist',\n",
        "                xlabel = 'Duration mean (minutes)',\n",
        "                figsize =(3,3),\n",
        "                color = 'orange'\n",
        "\n",
        ")\n",
        "plt.show()\n",
        "\n",
        "#Se generaron dos gráficos por que en uno solo se superponian valores...\n",
        "#...y no se podía visualizar realmente el comportaminto de cada uno de los grupos\n",
        "\n"
      ]
    },
    {
      "cell_type": "markdown",
      "metadata": {
        "id": "bLS9T8OH0q1K"
      },
      "source": [
        "En los histogramas podemos observar las frecuencia de ocurrencia de cada intervalo de valores de duracion en los doce meses del año.\n",
        "\n",
        "A continuación se calcula la media y la varianza de cada una de los grupos (plan surf y plan ultimate). Estas dos medidas de estadística descriptiva permitiran averiguar si los usuarios de los distintos planes se comportan de forma diferente al realizar sus llamadas."
      ]
    },
    {
      "cell_type": "code",
      "execution_count": null,
      "metadata": {
        "id": "oSndbAnt0q1K",
        "trusted": true
      },
      "outputs": [],
      "source": [
        "# Calcula la media y la varianza de la duración mensual de llamadas.\n",
        "\n",
        "mean_min_surf = df_concat_calls.mean()\n",
        "variance_min_surf = np.var(df_surf_calls_mean)\n",
        "\n",
        "mean_min_ultimate = df_ultimate_calls_mean.mean()\n",
        "variance_min_ultimate= np.var(df_ultimate_calls_mean)\n",
        "\n",
        "print(f'La media de duración de llamadas del plan surf es:{mean_min_surf}')\n",
        "print(f'La varianza de duración de llamadas del plan surf es:{variance_min_surf}')\n",
        "\n",
        "print(f'La media de duración de llamadas del plan ultimate es:{mean_min_ultimate}')\n",
        "print(f'La varianza de duración de llamadas del plan ultimate es:{variance_min_ultimate}')"
      ]
    },
    {
      "cell_type": "code",
      "execution_count": null,
      "metadata": {
        "id": "nZzoRUKc0q1K",
        "trusted": true,
        "outputId": "f9b1655c-9ec4-4ef0-a06e-89a1c0350119"
      },
      "outputs": [
        {
          "data": {
            "image/png": "[encoded data removed]",
            "text/plain": [
              "<Figure size 640x480 with 1 Axes>"
            ]
          },
          "metadata": {},
          "output_type": "display_data"
        },
        {
          "data": {
            "image/png": "[encoded data removed]",
            "text/plain": [
              "<Figure size 640x480 with 1 Axes>"
            ]
          },
          "metadata": {},
          "output_type": "display_data"
        },
        {
          "data": {
            "image/png": "[encoded data removed]",
            "text/plain": [
              "<Figure size 640x480 with 1 Axes>"
            ]
          },
          "metadata": {},
          "output_type": "display_data"
        }
      ],
      "source": [
        "# Traza un diagrama de caja para visualizar la distribución de la duración mensual de llamadas\n",
        "\n",
        "\n",
        "sns.boxplot(df_concat_calls['surf_calls_mean'])\n",
        "plt.show()\n",
        "sns.boxplot(df_concat_calls['ultimate_calls_mean'])\n",
        "plt.show()\n",
        "\n",
        "sns.boxplot(df_concat_calls['surf_calls_mean'])\n",
        "sns.boxplot(df_concat_calls['ultimate_calls_mean'])\n",
        "plt.show()\n"
      ]
    },
    {
      "cell_type": "markdown",
      "metadata": {
        "id": "r627zBO50q1K"
      },
      "source": [
        "Conclusiones con respecto al comportamiento de los usuarios con respecto a las llamadas:\n",
        "El comportamiento de los usurios varia MUY POCO en función del plan.\n",
        "Los del plan surf tiene una media de tan solo 4 minutos más que la del plan ultimate. Esta diferecia se puede ir observando en cada uno de los graficos:\n",
        "* En el de barras observamos como en la mayoría de los meses el plan surf tiene una barra un poco más alta que el plan ultimate. Tambien podemos notar que siguen el mismo comportamiento durante el año; cada mes van aumentando la duración de las llamadas exponencialmente (siendo el mes de un promedio de duración mayor, diciembre).\n",
        "* En los histogramas se observa la frecuencia en que la duración de llamadas se repiten en los meses. Practicamente cada mes tiene un valor difrente. Es por ello que aparecen cajas que parecen rectagulos (la mayoria de los valores ocurren solo una vez). Donde tenemos mayores frecuencias son los numeros entre 0-100, estas son las duraciones más comunes. La diferencia que vemos entre surf y ultimate , es que en ultimate la franga entre (aproximadamente) los 30-60 minutos de duración aumenta al doble sin embargo perdemos la un franga entre (aproximadamente) 110 -140 min; esto indica una diferencia de duración de las llamadas, siendo en ultimate menor duración. NOTA: Se eligio un valor de bins no tan elevado ya que sí se separa hasta que salgan los 12 valores discretos, aparecerían puras barras de valor 1 que no nos permite observar el comportamiento.\n",
        "* Con la grafica de caja-bigotes comprobamos que ambos conjuntos de datos tienen practicamente el mismo comportamiento, los cuartiles (los rangos donde se distribuyen la mayor cantidad de los datos) y los bigotes (valores min y maximo), son muy parecidos. Solo se recorre conforme aumenta la media en surf.\n",
        "* Con el valor  de la varianza, comprobamos que el comportamiento de disperción es muy similiar entre los grupos. Y con la media vemos la pequeña diferencia de duración, siendo mayor para el grupo de los usuarios con plan surf."
      ]
    },
    {
      "cell_type": "markdown",
      "metadata": {
        "id": "8idKy8Wh0q1L"
      },
      "source": [
        "### Mensajes"
      ]
    },
    {
      "cell_type": "code",
      "execution_count": null,
      "metadata": {
        "id": "NXLxiTit0q1L",
        "trusted": true,
        "outputId": "e0072161-9ac5-40ef-a0b9-d65863ad75e6"
      },
      "outputs": [
        {
          "data": {
            "image/png": "[encoded data removed]",
            "text/plain": [
              "<Figure size 500x500 with 1 Axes>"
            ]
          },
          "metadata": {},
          "output_type": "display_data"
        }
      ],
      "source": [
        "# Comprara el número de mensajes que tienden a enviar cada mes los usuarios de cada plan\n",
        "\n",
        "#Obtenemos las tablas de numero de mensajes\n",
        "df_surf_sms = df_surf.loc[:,['sms_m1','sms_m2','sms_m3','sms_m4','sms_m5','sms_m6','sms_m7',\n",
        "                      'sms_m8','sms_m9','sms_m10','sms_m11', 'sms_m12']]\n",
        "df_ultimate_sms = df_ultimate.loc[:,['sms_m1','sms_m2','sms_m3','sms_m4','sms_m5','sms_m6','sms_m7',\n",
        "                      'sms_m8','sms_m9','sms_m10','sms_m11', 'sms_m12']]\n",
        "#df_surf_sms.info() # 333 entradas, unicamente columnas de duracion de llamadas por mes\n",
        "#df_ultimate_sms.info() # 157 entradas, unicamente columnas de duracion de llamadas por mes\n",
        "\n",
        "\n",
        "#Obtenemos promedios\n",
        "colums = ['sms_m1','sms_m2','sms_m3','sms_m4','sms_m5','sms_m6','sms_m7',\n",
        "                      'sms_m8','sms_m9','sms_m10','sms_m11', 'sms_m12']\n",
        "\n",
        "surf_sms_mean = {}  # Generamos dict>df para graficar promedios de duracion de llamada plan surf por mes\n",
        "for col in colums:\n",
        "    mean = df_surf_sms[col].mean()\n",
        "    surf_sms_mean[col] = mean\n",
        "df_surf_sms_mean=pd.DataFrame(list(surf_sms_mean.items()), columns=[\"month\", \"mean\"])\n",
        "#df_surf_sms_mean.info() # 2 columnas (mes y promedio) * 12 filas (meses)\n",
        "#print(df_surf_sms_mean.head())\n",
        "\n",
        "ultimate_sms_mean = {}  # Generamos dict>df para graficar promedios de duracion de llamada plan ultimate por mes\n",
        "for col in colums:\n",
        "    mean = df_ultimate_sms[col].mean()\n",
        "    ultimate_sms_mean[col] = mean\n",
        "df_ultimate_sms_mean=pd.DataFrame(list(ultimate_sms_mean.items()), columns=[\"month\", \"mean\"])\n",
        "#df_ultimate_sms_mean.info()  ## 2 columnas (mes y promedio) * 12 filas (meses)\n",
        "#print(df_ultimate_sms_mean.head())\n",
        "\n",
        "#Graficamos en una sola grafica para comparar\n",
        "\n",
        "df_concat_sms =pd.concat([df_surf_sms_mean,df_ultimate_sms_mean], axis = 'columns')\n",
        "df_concat_sms.columns = ['surf_sms_month','surf_sms_mean','ultimate_sms_month','ultimate_sms_mean']\n",
        "\n",
        "cols = ['surf_sms_mean','ultimate_sms_mean']\n",
        "\n",
        "df_concat_sms.plot(y = cols,\n",
        "                     title = 'Messages Quantity Mean for Surf and Ultimate Plans',\n",
        "                     kind ='bar',\n",
        "                     xlabel = 'Month',\n",
        "                     ylabel = 'Messages Quantity',\n",
        "                     figsize =(5,5)\n",
        "\n",
        ")\n",
        "plt.legend(['Surf plan ','Ultimate plan'])\n",
        "plt.show()\n",
        "\n"
      ]
    },
    {
      "cell_type": "code",
      "execution_count": null,
      "metadata": {
        "id": "GRI_R7xF0q1L",
        "trusted": true,
        "outputId": "1f1a51a6-51df-4012-cdd6-5f318814439b"
      },
      "outputs": [
        {
          "data": {
            "image/png": "[encoded data removed]",
            "text/plain": [
              "<Figure size 300x300 with 1 Axes>"
            ]
          },
          "metadata": {},
          "output_type": "display_data"
        },
        {
          "data": {
            "image/png": "[encoded data removed]",
            "text/plain": [
              "<Figure size 300x300 with 1 Axes>"
            ]
          },
          "metadata": {},
          "output_type": "display_data"
        }
      ],
      "source": [
        "# Compara la cantidad de mensajes enviados por usuarios por plan cada mes\n",
        "\n",
        "df_surf_sms_mean.plot (\n",
        "                bins = 30,\n",
        "                title = 'Messages Quantity Mean for Surf Plans',\n",
        "                kind ='hist',\n",
        "                xlabel = 'Messages Quantity Mean',\n",
        "                figsize =(3,3),\n",
        "\n",
        ")\n",
        "plt.show()\n",
        "\n",
        "df_ultimate_sms_mean.plot (\n",
        "                bins = 30,\n",
        "                title = 'Messages Quantity Mean for Ultimate Plans',\n",
        "                kind ='hist',\n",
        "                xlabel = 'Messages Quantity Mean',\n",
        "                figsize =(3,3),\n",
        "                color = 'orange'\n",
        "\n",
        ")\n",
        "plt.show()\n"
      ]
    },
    {
      "cell_type": "code",
      "execution_count": null,
      "metadata": {
        "id": "dtFwCGAp0q1M",
        "trusted": true,
        "outputId": "f2af92bc-2c15-4962-ac42-562f676c8b89"
      },
      "outputs": [
        {
          "name": "stdout",
          "output_type": "stream",
          "text": [
            "La media de la cantidad mensual de mensajes del plan surf es:surf_sms_mean        12.265766\n",
            "ultimate_sms_mean    14.350849\n",
            "dtype: float64\n",
            "La varianza de la cantidad mensual de mensajes del plan surf es:mean    133.150718\n",
            "dtype: float64\n",
            "La media de la cantidad mensual de mensajes del plan ultimate es:mean    14.350849\n",
            "dtype: float64\n",
            "La varianza de la cantidad mensual de mensajes del plan ultimate es:mean    174.76879\n",
            "dtype: float64\n"
          ]
        },
        {
          "data": {
            "image/png": "[encoded data removed]",
            "text/plain": [
              "<Figure size 640x480 with 1 Axes>"
            ]
          },
          "metadata": {},
          "output_type": "display_data"
        },
        {
          "data": {
            "image/png": "[encoded data removed]",
            "text/plain": [
              "<Figure size 640x480 with 1 Axes>"
            ]
          },
          "metadata": {},
          "output_type": "display_data"
        }
      ],
      "source": [
        "# Calcula la media y la varianza de la cantidad mensual de mensajes.\n",
        "\n",
        "mean_sms_surf = df_concat_sms.mean()\n",
        "variance_sms_surf = np.var(df_surf_sms_mean)\n",
        "\n",
        "mean_sms_ultimate = df_ultimate_sms_mean.mean()\n",
        "variance_sms_ultimate= np.var(df_ultimate_sms_mean)\n",
        "\n",
        "print(f'La media de la cantidad mensual de mensajes del plan surf es:{mean_sms_surf}')\n",
        "print(f'La varianza de la cantidad mensual de mensajes del plan surf es:{variance_sms_surf}')\n",
        "\n",
        "print(f'La media de la cantidad mensual de mensajes del plan ultimate es:{mean_sms_ultimate}')\n",
        "print(f'La varianza de la cantidad mensual de mensajes del plan ultimate es:{variance_sms_ultimate}')\n",
        "\n",
        "# Traza un diagrama de caja para visualizar la distribución de la cantidad promedio de mensajes.\n",
        "\n",
        "\n",
        "sns.boxplot(df_concat_sms['surf_sms_mean'])\n",
        "plt.show()\n",
        "sns.boxplot(df_concat_sms['ultimate_sms_mean'])\n",
        "plt.show()\n"
      ]
    },
    {
      "cell_type": "markdown",
      "metadata": {
        "id": "390SSL480q1M"
      },
      "source": [
        "Conclusiones con respecto al comportamiento de los usuarios con respecto a los mensajes:\n",
        "El comportamiento de los usurios varia MUY POCO en función del plan.\n",
        "Los promedios de cantidad de mensajes enviados por los usuarios es de tan solo 4 mensajes más para el plan ultimate que para surf.  Esta diferecia se puede ir observando en cada uno de los graficos:\n",
        "* En el de barras observamos como todos los meses el plan ultimate tiene una barra un  más alta que el plan surf. Tambien podemos notar que siguen el mismo comportamiento durante el año; cada mes van aumentando exponencialmente el promedio de la cantidad de mensajes enviados.\n",
        "* En los histogramas se observa la frecuencia en que el promedio de mensajes enviados se repiten a traves de los meses. Cada mes tiene un valor diferente; es por ello que aparecen valores discretos (barras separadas). Pero con el valor de bins ajustamos el grosor de los framentos para poder observar comportamiento, elegimos nos asignar un valor de bins no tan elevado ya que sí se separa hasta que salgan los 12 valores discretos, aparecerían puras barras de valor 1.\n",
        "En estos graficos podemos observar que el plan ultimate envia más mensajes que surf, por ejemplo, si  contamos la cantidad de barritas que hay despues del valor 10 en cada gráfica; lo que indica que en este grupo hay más meses en los que el promedio de mensajes enviados fue mayor a 10. En otras palabras, si las barritas tienden irse a la derecha son más la cantidad de mensajes enviados por mes.\n",
        "* Con el valor  de la varianza, comprobamos que el comportamiento de disperción es muy similiar entre los grupos.Sim embargo hay una podemos comprobar una pequeña diferencia en que la varianza es menor en plan surf , lo que indica que los valores del plan ultimate estan más dispersos.\n",
        "* Lo anterior, también lo podemos observar con las graficas de caja-bigotes en el que el rango de valores de ultimate es mayor que surf; ambos comienzan en aproximadamente en 0 (valore mínimo), pero surf termina con su valor máximo en alrededor de 37 y ultimate en alrededor de 42.\n",
        "\n",
        "Hasta el momento sabemos que los usuarios del plan surf prefieren realizar llamadas y los del plan ultimate enviar mensajes.\n"
      ]
    },
    {
      "cell_type": "markdown",
      "metadata": {
        "id": "42YSypXz0q1M"
      },
      "source": [
        "### Internet"
      ]
    },
    {
      "cell_type": "code",
      "execution_count": null,
      "metadata": {
        "id": "lSuKPtjh0q1M",
        "trusted": true,
        "outputId": "3122ed2b-34f5-46ea-da55-79298a01829e"
      },
      "outputs": [
        {
          "data": {
            "image/png": "[encoded data removed]",
            "text/plain": [
              "<Figure size 500x500 with 1 Axes>"
            ]
          },
          "metadata": {},
          "output_type": "display_data"
        }
      ],
      "source": [
        "# Comprara la cantidad de flujo de datos que consumen los usuarios de cada plan por mes\n",
        "\n",
        "#Obtenemos las tablas de numero de mensajes\n",
        "df_surf_gb = df_surf.loc[:,['gb_m1','gb_m2','gb_m3','gb_m4','gb_m5','gb_m6','gb_m7',\n",
        "                      'gb_m8','gb_m9','gb_m10','gb_m11', 'gb_m12']]\n",
        "df_ultimate_gb = df_ultimate.loc[:,['gb_m1','gb_m2','gb_m3','gb_m4','gb_m5','gb_m6','gb_m7',\n",
        "                      'gb_m8','gb_m9','gb_m10','gb_m11', 'gb_m12']]\n",
        "#df_surf_gb.info() # 333 entradas, unicamente columnas de duracion de llamadas por mes\n",
        "#df_ultimate_gb.info() # 157 entradas, unicamente columnas de duracion de llamadas por mes\n",
        "\n",
        "\n",
        "#Obtenemos promedios\n",
        "colums = ['gb_m1','gb_m2','gb_m3','gb_m4','gb_m5','gb_m6','gb_m7',\n",
        "                      'gb_m8','gb_m9','gb_m10','gb_m11', 'gb_m12']\n",
        "\n",
        "surf_gb_mean = {}  # Generamos dict>df para graficar promedios de duracion de llamada plan surf por mes\n",
        "for col in colums:\n",
        "    mean = df_surf_gb[col].mean()\n",
        "    surf_gb_mean[col] = mean\n",
        "df_surf_gb_mean=pd.DataFrame(list(surf_gb_mean.items()), columns=[\"month\", \"mean\"])\n",
        "#df_surf_gb_mean.info() # 2 columnas (mes y promedio) * 12 filas (meses)\n",
        "#print(df_surf_gb_mean.head())\n",
        "\n",
        "ultimate_gb_mean = {}  # Generamos dict>df para graficar promedios de duracion de llamada plan ultimate por mes\n",
        "for col in colums:\n",
        "    mean = df_ultimate_gb[col].mean()\n",
        "    ultimate_gb_mean[col] = mean\n",
        "df_ultimate_gb_mean=pd.DataFrame(list(ultimate_gb_mean.items()), columns=[\"month\", \"mean\"])\n",
        "#df_ultimate_gb_mean.info()  ## 2 columnas (mes y promedio) * 12 filas (meses)\n",
        "#print(df_ultimate_gb_mean.head())\n",
        "\n",
        "#Graficamos en una sola grafica para comparar\n",
        "\n",
        "df_concat_gb =pd.concat([df_surf_gb_mean,df_ultimate_gb_mean], axis = 'columns')\n",
        "df_concat_gb.columns = ['surf_gb_month','surf_gb_mean','ultimate_gb_month','ultimate_gb_mean']\n",
        "\n",
        "cols = ['surf_gb_mean','ultimate_gb_mean']\n",
        "\n",
        "df_concat_gb.plot(y = cols,\n",
        "                     title = 'Data Flow Consumed for Surf and Ultimate Plans',\n",
        "                     kind ='bar',\n",
        "                     xlabel = 'Month',\n",
        "                     ylabel = 'Data Flow Consumed ',\n",
        "                     figsize =(5,5)\n",
        "\n",
        ")\n",
        "plt.legend(['Surf plan ','Ultimate plan'])\n",
        "plt.show()\n"
      ]
    },
    {
      "cell_type": "code",
      "execution_count": null,
      "metadata": {
        "id": "wnh8jYXi0q1N",
        "trusted": true,
        "outputId": "462d7337-77a3-4bfc-b19a-3167ea58b57c"
      },
      "outputs": [
        {
          "data": {
            "image/png": "[encoded data removed]",
            "text/plain": [
              "<Figure size 300x300 with 1 Axes>"
            ]
          },
          "metadata": {},
          "output_type": "display_data"
        },
        {
          "data": {
            "image/png": "[encoded data removed]",
            "text/plain": [
              "<Figure size 300x300 with 1 Axes>"
            ]
          },
          "metadata": {},
          "output_type": "display_data"
        }
      ],
      "source": [
        "# Compara la cantidad de tráfico de Internet consumido por usuarios por plan\n",
        "\n",
        "df_surf_gb_mean.plot (\n",
        "                bins = 20,\n",
        "                title = 'Data Flow Consumed Mean for Surf Plans',\n",
        "                kind ='hist',\n",
        "                xlabel = 'Data Flow Consumed Mean',\n",
        "                figsize =(3,3),\n",
        "\n",
        ")\n",
        "plt.show()\n",
        "\n",
        "df_ultimate_gb_mean.plot (\n",
        "                bins = 20,\n",
        "                title = 'Data Flow Consumed  Mean for Ultimate Plans',\n",
        "                kind ='hist',\n",
        "                xlabel = 'Data Flow Consumed  Mean',\n",
        "                figsize =(3,3),\n",
        "                color = 'orange'\n",
        "\n",
        ")\n",
        "plt.show()\n"
      ]
    },
    {
      "cell_type": "code",
      "execution_count": null,
      "metadata": {
        "id": "5VlyJ9ry0q1N",
        "trusted": true,
        "outputId": "f5f510c5-d52e-4034-93c8-091be623d4e5"
      },
      "outputs": [
        {
          "name": "stdout",
          "output_type": "stream",
          "text": [
            "La media de la cantidad mensual de GB consumidos del plan surf es:surf_gb_mean        6.706707\n",
            "ultimate_gb_mean    6.771762\n",
            "dtype: float64\n",
            "La varianza de la cantidad mensual de GB consumidos  del plan surf es:mean    32.213332\n",
            "dtype: float64\n",
            "La media de la cantidad mensual de GB consumidos del plan ultimate es:mean    6.771762\n",
            "dtype: float64\n",
            "La varianza de la cantidad mensual de GB consumidos  del plan ultimate es:mean    30.817659\n",
            "dtype: float64\n"
          ]
        },
        {
          "data": {
            "image/png": "[encoded data removed]",
            "text/plain": [
              "<Figure size 640x480 with 1 Axes>"
            ]
          },
          "metadata": {},
          "output_type": "display_data"
        },
        {
          "data": {
            "image/png": "[encoded data removed]",
            "text/plain": [
              "<Figure size 640x480 with 1 Axes>"
            ]
          },
          "metadata": {},
          "output_type": "display_data"
        }
      ],
      "source": [
        "# Calcula la media y la varianza de la promedio mensual del flujo de datos consumido por los usuarios de cada plan.\n",
        "\n",
        "mean_gb_surf = df_concat_gb.mean()\n",
        "variance_gb_surf = np.var(df_surf_gb_mean)\n",
        "\n",
        "mean_gb_ultimate = df_ultimate_gb_mean.mean()\n",
        "variance_gb_ultimate= np.var(df_ultimate_gb_mean)\n",
        "\n",
        "print(f'La media de la cantidad mensual de GB consumidos del plan surf es:{mean_gb_surf}')\n",
        "print(f'La varianza de la cantidad mensual de GB consumidos  del plan surf es:{variance_gb_surf}')\n",
        "\n",
        "print(f'La media de la cantidad mensual de GB consumidos del plan ultimate es:{mean_gb_ultimate}')\n",
        "print(f'La varianza de la cantidad mensual de GB consumidos  del plan ultimate es:{variance_gb_ultimate}')\n",
        "\n",
        "# Traza un diagrama de caja para visualizar la distribución los gb promedio consumidos por mes  por los usuarios de cada mes\n",
        "\n",
        "sns.boxplot(df_concat_gb['surf_gb_mean'])\n",
        "plt.show()\n",
        "sns.boxplot(df_concat_gb['ultimate_gb_mean'])\n",
        "plt.show()\n"
      ]
    },
    {
      "cell_type": "markdown",
      "metadata": {
        "id": "UN9zwuMP0q1N"
      },
      "source": [
        "Conclusiones con respecto al comportamiento de los usuarios con respecto a uso de datos de internet:\n",
        "El comportamiento de los usurios varia MUY POCO en función del plan.\n",
        "A lo largo del año, algunos meses el grupo del plan sur consume en promedio más gb que el grupo de ultimate, y en otros meses sucede lo opuesto. Resultando que la media anual es solo 0.07 GB mayor para el grupo del plan ultimate.  Esta diferecia se puede ir observando en cada uno de los graficos:\n",
        "* En el de barras observamos como de los meses enero-mayo y en diciembre ultimate ocupa más datos, y los meses intermedios fue surf el grupo que utilizo más datos. Tambien podemos notar que siguen el mismo comportamiento durante el año; cada mes van aumentando exponencialmente el promedio de la cantidad de flujo de información consumidos.\n",
        "* En los histogramas se observa la frecuencia en que el promedio de mensajes enviados se repiten a traves de los meses. Cada mes tiene un valor diferente; es por ello que aparecen valores discretos (barras separadas). Pero con el valor de bins ajustamos el grosor de los framentos para poder observar comportamiento, elegimos nos asignar un valor de bins no tan elevado ya que sí se separa hasta que salgan los 12 valores discretos, aparecerían puras barras de valor 1.\n",
        "En ambos gráficos podemos observar algo parecido, la diferencia aparece cuando nos centramos en el rango de 5- 10 GB, en el histograma para surf se distribuyen 4 barras uniformemente en ultimate hay dos barras a cada limite de este rango, tambien equilibrandose y se obtiene un promedio similar. Se puede asociar a algo como promediar  5,6,8,9 y el de 5,5,9,9, los cuales nos dan el mismo resultado.\n",
        "* Con el valor  de la varianza y la media, comprobamos que el comportamiento de disperción es muy similiar entre los grupos y que su valor central es practicamente el mismo.\n",
        "* Lo anterior, también lo podemos observar con las graficas de caja-bigotes en los que los valores criticos( valor minimo, cuartil 1, media, cuartil 3 y valor máximo) se encuentran todos practicamente en los mismo valores comparanda cada uno entre los dos grupos.\n",
        "\n",
        "Hasta el momento sabemos que los usuarios del plan surf prefieren realizar llamadas, los del plan ultimate enviar mensajes, y ambos grupos utilizan por igual el internet."
      ]
    },
    {
      "cell_type": "markdown",
      "metadata": {
        "id": "tCijq3260q1N"
      },
      "source": [
        "### Ingreso"
      ]
    },
    {
      "cell_type": "code",
      "execution_count": null,
      "metadata": {
        "id": "tz-dq_V00q1O",
        "trusted": true,
        "outputId": "ea623c5b-c1e9-4064-9a47-5f069d33fb98"
      },
      "outputs": [
        {
          "data": {
            "image/png": "[encoded data removed]",
            "text/plain": [
              "<Figure size 500x500 with 1 Axes>"
            ]
          },
          "metadata": {},
          "output_type": "display_data"
        }
      ],
      "source": [
        "# Comprara la los promedios de  ingresos por cada grupo de usuarios por mes\n",
        "\n",
        "#Obtenemos las tablas de numero de mensajes\n",
        "df_surf_payment = df_surf.loc[:,['payment_m1','payment_m2','payment_m3','payment_m4','payment_m5','payment_m6','payment_m7',\n",
        "                      'payment_m8','payment_m9','payment_m10','payment_m11', 'payment_m12']]\n",
        "df_ultimate_payment = df_ultimate.loc[:,['payment_m1','payment_m2','payment_m3','payment_m4','payment_m5','payment_m6','payment_m7',\n",
        "                      'payment_m8','payment_m9','payment_m10','payment_m11', 'payment_m12']]\n",
        "#df_surf_gb.info() # 333 entradas, unicamente columnas de duracion de llamadas por mes\n",
        "#df_ultimate_gb.info() # 157 entradas, unicamente columnas de duracion de llamadas por mes\n",
        "\n",
        "\n",
        "#Obtenemos promedios\n",
        "colums = ['payment_m1','payment_m2','payment_m3','payment_m4','payment_m5','payment_m6','payment_m7',\n",
        "                      'payment_m8','payment_m9','payment_m10','payment_m11', 'payment_m12']\n",
        "\n",
        "surf_payment_mean = {}  # Generamos dict>df para graficar promedios de duracion de llamada plan surf por mes\n",
        "for col in colums:\n",
        "    mean = df_surf_payment[col].mean()\n",
        "    surf_payment_mean[col] = mean\n",
        "df_surf_payment_mean=pd.DataFrame(list(surf_payment_mean.items()), columns=[\"month\", \"mean\"])\n",
        "#df_surf_payment_mean.info() # 2 columnas (mes y promedio) * 12 filas (meses)\n",
        "#print(df_surf_payment_mean.head())\n",
        "\n",
        "ultimate_payment_mean = {}  # Generamos dict>df para graficar promedios de duracion de llamada plan ultimate por mes\n",
        "for col in colums:\n",
        "    mean = df_ultimate_payment[col].mean()\n",
        "    ultimate_payment_mean[col] = mean\n",
        "df_ultimate_payment_mean=pd.DataFrame(list(ultimate_payment_mean.items()), columns=[\"month\", \"mean\"])\n",
        "#df_ultimate_payment_mean.info()  ## 2 columnas (mes y promedio) * 12 filas (meses)\n",
        "#print(df_ultimate_payment_mean.head())\n",
        "\n",
        "#Graficamos en una sola grafica para comparar\n",
        "\n",
        "df_concat_payment =pd.concat([df_surf_payment_mean,df_ultimate_payment_mean], axis = 'columns')\n",
        "df_concat_payment.columns = ['surf_payment_month','surf_payment_mean','ultimate_payment_month','ultimate_payment_mean']\n",
        "\n",
        "cols = ['surf_payment_mean','ultimate_payment_mean']\n",
        "\n",
        "df_concat_payment.plot(y = cols,\n",
        "                     title = 'Payment Mean for Surf and Ultimate Plans',\n",
        "                     kind ='bar',\n",
        "                     xlabel = 'Month',\n",
        "                     ylabel = 'Payment Mean ',\n",
        "                     figsize =(5,5)\n",
        "\n",
        ")\n",
        "plt.legend(['Surf plan ','Ultimate plan'])\n",
        "plt.show()"
      ]
    },
    {
      "cell_type": "code",
      "execution_count": null,
      "metadata": {
        "id": "0Y1v8ZUz0q1P",
        "trusted": true,
        "outputId": "fd29b7ff-ac86-40b3-9bcc-7b7b9333e0ba"
      },
      "outputs": [
        {
          "data": {
            "image/png": "[encoded data removed]",
            "text/plain": [
              "<Figure size 300x300 with 1 Axes>"
            ]
          },
          "metadata": {},
          "output_type": "display_data"
        },
        {
          "data": {
            "image/png": "[encoded data removed]",
            "text/plain": [
              "<Figure size 300x300 with 1 Axes>"
            ]
          },
          "metadata": {},
          "output_type": "display_data"
        }
      ],
      "source": [
        "# Compara los ingresos promedios por los usuarios de cada plan al mes\n",
        "\n",
        "df_surf_payment_mean.plot (\n",
        "                bins = 20,\n",
        "                title = 'Payment Mean for Surf Plans',\n",
        "                kind ='hist',\n",
        "                xlabel = 'Payment Mean',\n",
        "                figsize =(3,3),\n",
        "\n",
        ")\n",
        "plt.show()\n",
        "\n",
        "df_ultimate_payment_mean.plot (\n",
        "                bins = 20,\n",
        "                title = 'Payment Mean for Ultimate Plans',\n",
        "                kind ='hist',\n",
        "                xlabel = 'Payment Mean',\n",
        "                figsize =(3,3),\n",
        "                color = 'orange'\n",
        "\n",
        ")\n",
        "plt.show()\n"
      ]
    },
    {
      "cell_type": "code",
      "execution_count": null,
      "metadata": {
        "id": "bYmwxyVh0q1P",
        "trusted": true,
        "outputId": "2e7a4fe6-7794-4a0d-82c9-fe599518c2bd"
      },
      "outputs": [
        {
          "name": "stdout",
          "output_type": "stream",
          "text": [
            "La media del pago hecho por los usuarios del plan surf es:surf_payment_mean        44.444895\n",
            "ultimate_payment_mean    71.032909\n",
            "dtype: float64\n",
            "La varianza del pago hecho por los usuarios del plan surf es:mean    521.212803\n",
            "dtype: float64\n",
            "La media del pago hecho por los usuarios del plan ultimate es:mean    71.032909\n",
            "dtype: float64\n",
            "La varianza del pago hecho por los usuarios del plan ultimate es:mean    1.013116\n",
            "dtype: float64\n"
          ]
        },
        {
          "data": {
            "image/png": "[encoded data removed]",
            "text/plain": [
              "<Figure size 640x480 with 1 Axes>"
            ]
          },
          "metadata": {},
          "output_type": "display_data"
        },
        {
          "data": {
            "image/png": "[encoded data removed]",
            "text/plain": [
              "<Figure size 640x480 with 1 Axes>"
            ]
          },
          "metadata": {},
          "output_type": "display_data"
        }
      ],
      "source": [
        "# Calcula la media y la varianza de la promedio mensual de los ingresos por pago de los usuarios de cada plan.\n",
        "\n",
        "mean_payment_surf = df_concat_payment.mean()\n",
        "variance_payment_surf = np.var(df_surf_payment_mean)\n",
        "\n",
        "mean_payment_ultimate = df_ultimate_payment_mean.mean()\n",
        "variance_payment_ultimate= np.var(df_ultimate_payment_mean)\n",
        "\n",
        "print(f'La media del pago hecho por los usuarios del plan surf es:{mean_payment_surf}')\n",
        "print(f'La varianza del pago hecho por los usuarios del plan surf es:{variance_payment_surf}')\n",
        "\n",
        "print(f'La media del pago hecho por los usuarios del plan ultimate es:{mean_payment_ultimate}')\n",
        "print(f'La varianza del pago hecho por los usuarios del plan ultimate es:{variance_payment_ultimate}')\n",
        "\n",
        "# Traza un diagrama de caja para visualizar la distribución los promedios de pago de los usuarios de cada mes por plan\n",
        "\n",
        "sns.boxplot(df_concat_payment['surf_payment_mean'])\n",
        "plt.show()\n",
        "sns.boxplot(df_concat_payment['ultimate_payment_mean'])\n",
        "plt.show()\n"
      ]
    },
    {
      "cell_type": "markdown",
      "metadata": {
        "id": "KAFidcXZ0q1P"
      },
      "source": [
        "Conclusiones con respecto al comportamiento de los ingresos que se obtuvieron mensualmente en promedio para los usuarios de cada uno de los planes de pago:\n",
        "El promedio anual de pago por usuario en el grupo de ultimate es de 71 dólares y el de surf es de 44.44 doláres. Esto tiene sentido al tomar en cuenta que ambos grupos tienen un comportamiento parecido de consumo que va va aumentando a través de los meses, el usurio de promedio del grupo surf casi nunca revasa su minutos, mensajes y datos inluidos y paga constantemente el costo base de la tarifa (70 dólares), por otra parte para los usuarios del grupo surf para el quinto mes empiezan a revasar los servicios incluidos pagando más que su tarifa base (20 dólares)\n",
        "Este comportamiento se puede ir observando en cada uno de los graficos:\n",
        "* En el de barras observamos como ultimate se mantiene practicamente constante a lo largo del año en 70, y surf esta constante en 20 los primeros meses y despues de revsar el limite de servicios incluidos va aumentando exponencialmente de la misma manera que hemos observado que aumenta el consumo de servicios (duración de llamada, mensajes enviados y consumo de gb).\n",
        "* En el histograma las el plan surf la mayor parte de las barras se encunetran en un rango de 20-60 dólares y en el ultimate en un rango de 70-72 dólares.\n",
        "* Lo anterior lo podemos observar también en el gráfico de caja- bigotes donde tenemos:\n",
        "  Para surf unos bigotes que van desde un valor de 20 a ~93, siendo los más comunes (Q1-Q3) entre ~25 a ~52.\n",
        "  Para Ultimate los bigotes van desde 70 a ~71.9, siendo los más comunes (Q1-Q3) entre ~71.3 a ~71.6\n",
        "* Con el valor de la varianza observamos la distribución de los datos, siendo la varianza para ultimate muy cercano a 1 (es una función lineal) y el de surf mayor a 500 tiene una distribución no lineal.\n",
        "  \n",
        "En pocas palabras podemos decir que a la empresa la conviene la venta de tarifas ultimate ya que el cobro medio anual es del 49% más que a los usuarios del plan surf."
      ]
    },
    {
      "cell_type": "markdown",
      "metadata": {
        "id": "ajJ7VKeI0q1Q"
      },
      "source": [
        "## Prueba las hipótesis estadísticas"
      ]
    },
    {
      "cell_type": "markdown",
      "metadata": {
        "id": "AdXAZ-yL0q1Q"
      },
      "source": [
        "### Hipótesis: \"Son diferentes los ingresos promedio procedentes de los usuarios de los planes de llamada Ultimate y Surf.\""
      ]
    },
    {
      "cell_type": "markdown",
      "metadata": {
        "id": "IQwa_hsh0q1Q"
      },
      "source": [
        "\n",
        "* Hipóteisis nula: \"La media de los ingresos procedentes de los usuarios del plan  Ultimate es igual a la media de los ingresos del plan Surf\"\n",
        "* Hipóteisis alternetiva: \"La media de los ingresos procedentes de los usuarios del plan  Ultimate NO es igual a la media de los ingresos del plan Surf\"\n",
        "* La prueba estadítica que se hará será aquella para \"Hipótesis sobre la igualdad de las medias de dos poblaciones\" y se hara con la prueba de dos colas ya que solo se considera que las medias a comparar son \"diferentes\", implica que puede ser mayor o menor.\n",
        "* Valor de alfa, se refiere a la posibilidad de obtener el valor al menos tan extremo como los estas considerando. Se escoge de acuerdo a la necesidad de precisión, siendo comunmente utilizados 10%,5% y 0.1%. Usaremos el 5% de valor alfa.\n"
      ]
    },
    {
      "cell_type": "code",
      "execution_count": null,
      "metadata": {
        "id": "nFoPNlPq0q1R",
        "trusted": true,
        "outputId": "ee54f72d-cff2-4468-b13c-d7b7a10e3e43"
      },
      "outputs": [
        {
          "name": "stdout",
          "output_type": "stream",
          "text": [
            "Rechazamos hipótesis nula\n"
          ]
        }
      ],
      "source": [
        "# Prueba las hipótesis\n",
        "\n",
        "alpha = 0.05\n",
        "results = st.ttest_ind(df_concat_payment['surf_payment_mean'], df_concat_payment['ultimate_payment_mean'], equal_var = False)\n",
        "#equal_var = False, ya que no se puede aegurar que las varianzas sean iguales entre los planes.\n",
        "\n",
        "\n",
        "#Dos condiciones para rechazar hipótesis nula de 2 colas:\n",
        " #La diferencia entre los valores es estadísticamente significativa\n",
        "\n",
        "if (results.pvalue < alpha): #es una prueba de dos colas (valor de p no se divide entre dos.)\n",
        "    print(\"Rechazamos hipótesis nula\")\n",
        "else:\n",
        "    print(\"No hay motivos suficientes para rechazar hipótesis nula\")\n",
        ""
      ]
    },
    {
      "cell_type": "markdown",
      "metadata": {
        "id": "tCcAruM60q1R"
      },
      "source": [
        "### Hipótesis: \"El ingreso promedio de los usuarios del área NY-NJ es diferente al de los usuarios de otras regiones.\""
      ]
    },
    {
      "cell_type": "markdown",
      "metadata": {
        "id": "LsBgitqj0q1R"
      },
      "source": [
        "* Hipóteisis nula: \"El ingreso promedio de los usuarios del área de NY-NJ es igual al promedio de los ingresos de los usuarios de otra regiones\"\n",
        "* Hipóteisis alternetiva: \"El ingreso promedio de los usuarios del área de NY-NJ es diferente al promedio de los ingresos de los usuarios de otra regiones\n",
        "* La prueba estadítica que se hará será aquella para \"Hipótesis sobre la igualdad de las medias de dos poblaciones\" y se hara con la prueba de dos colas ya que solo se considera que las medias a comparar son \"diferentes\", implica que puede ser mayor o menor.\n",
        "* Valor de alfa, se refiere a la posibilidad de obtener el valor al menos tan extremo como los estas considerando. Se escoge de acuerdo a la necesidad de precisión, siendo comunmente utilizados 10%,5% y 0.1%. Usaremos el 5% de valor alfa."
      ]
    },
    {
      "cell_type": "code",
      "execution_count": null,
      "metadata": {
        "id": "Cqcj7wrZ0q1S",
        "trusted": true,
        "outputId": "7209e917-cf7b-451c-c083-d4288999b386"
      },
      "outputs": [
        {
          "data": {
            "image/png": "[encoded data removed]",
            "text/plain": [
              "<Figure size 500x500 with 1 Axes>"
            ]
          },
          "metadata": {},
          "output_type": "display_data"
        },
        {
          "name": "stdout",
          "output_type": "stream",
          "text": [
            "Rechazamos hipótesis nula\n"
          ]
        }
      ],
      "source": [
        "# Prueba las hipótesis\n",
        "\n",
        "## PREPARACION DE DATOS ##\n",
        "\n",
        "# Primero separamos los datos por regiones\n",
        "df_NYNJ = merged_DF[merged_DF['NY-NJ']==True]\n",
        "df_regions = merged_DF[merged_DF['NY-NJ']== False]\n",
        "#df_NYNJ.info()   # 79 entradas\n",
        "#df_regions.info()  # 411 entradas    << total las 490 entradas de merged_DF (no todos los 500 usurios usaron los servicios en el 2018)\n",
        "\n",
        "#Obtenemos las tablas de ingresos por mes\n",
        "df_NYNJ_payments = df_surf.loc[:,['payment_m1','payment_m2','payment_m3','payment_m4','payment_m5','payment_m6','payment_m7',\n",
        "                      'payment_m8','payment_m9','payment_m10','payment_m11', 'payment_m12']]\n",
        "df_regions_payments = df_ultimate.loc[:,['payment_m1','payment_m2','payment_m3','payment_m4','payment_m5','payment_m6','payment_m7',\n",
        "                      'payment_m8','payment_m9','payment_m10','payment_m11', 'payment_m12']]\n",
        "#df_NYNJ_payments.info() # 79 entradas, unicamente columnas de ingresos por mes\n",
        "#df_regions_payments.info() # 411 entradas, unicamente columnas de ingresos por mes\n",
        "\n",
        "\n",
        "#Obtenemos promedios\n",
        "colums = ['payment_m1','payment_m2','payment_m3','payment_m4','payment_m5','payment_m6','payment_m7',\n",
        "                      'payment_m8','payment_m9','payment_m10','payment_m11', 'payment_m12']\n",
        "\n",
        "NYNJ_payments_mean = {}  # Generamos dict>df para graficar promedios de ingresos para plan surf por mes\n",
        "for col in colums:\n",
        "    mean = df_NYNJ_payments[col].mean()\n",
        "    NYNJ_payments_mean[col] = mean\n",
        "df_NYNJ_payments_mean=pd.DataFrame(list(NYNJ_payments_mean.items()), columns=[\"month\", \"mean\"])\n",
        "#df_NYNJ_payments_mean.info() # 2 columnas (mes y promedio) * 12 filas (meses)\n",
        "#print(df_NYNJ_payments_mean.head())\n",
        "\n",
        "\n",
        "\n",
        "regions_payments_mean = {}  # Generamos dict>df para graficar promedios de duracion de llamada plan ultimate por mes\n",
        "for col in colums:\n",
        "    mean = df_regions_payments[col].mean()\n",
        "    regions_payments_mean[col] = mean\n",
        "df_regions_payments_mean=pd.DataFrame(list(regions_payments_mean.items()), columns=[\"month\", \"mean\"])\n",
        "#df_regions_payments_mean.info()  ## 2 columnas (mes y promedio) * 12 filas (meses)\n",
        "#print(df_regions_payments_mean.head())\n",
        "\n",
        "\n",
        "## GRAFICA ##\n",
        "\n",
        "#Graficamos en una sola grafica para comparar\n",
        "\n",
        "df_concat_payment_regions =pd.concat([df_regions_payments_mean,df_NYNJ_payments_mean], axis = 'columns')\n",
        "df_concat_payment_regions.columns = ['regions_payment_month','regions_payment_mean','NYNJ_payment_month','NYNJ_payment_mean']\n",
        "\n",
        "cols = ['regions_payment_mean','NYNJ_payment_mean']\n",
        "\n",
        "df_concat_payment_regions.plot(y = cols,\n",
        "                     title = 'Payment Mean for NYNJ and Other Regions',\n",
        "                     kind ='bar',\n",
        "                     xlabel = 'Month',\n",
        "                     ylabel = 'Payment Mean ',\n",
        "                     figsize =(5,5)\n",
        "\n",
        ")\n",
        "plt.legend(['Other Regions ','NYNJ Region'])\n",
        "plt.show()\n",
        "\n",
        "## COMPROBAMOS HIPÓTESIS ##\n",
        "\n",
        "alpha = 0.05\n",
        "results = st.ttest_ind(df_regions_payments_mean['mean'], df_NYNJ_payments_mean['mean'], equal_var = False)\n",
        "#equal_var = False, no se puede asegurar que las varianzas son iguales entre las regiones.\n",
        "\n",
        "#Dos condiciones para rechazar hipótesis nula de 2 colas:\n",
        " #La diferencia entre los valores es estadísticamente significativa\n",
        "\n",
        "if (results.pvalue < alpha): #es una prueba de dos colas (valor de p no se divide entre dos.)\n",
        "    print(\"Rechazamos hipótesis nula\")\n",
        "else:\n",
        "    print(\"No hay motivos suficientes para rechazar hipótesis nula\")"
      ]
    },
    {
      "cell_type": "markdown",
      "metadata": {
        "id": "bbTR8UQO0q1T"
      },
      "source": [
        "## Conclusión general\n",
        "\n",
        "En conclusión, hemos realizado todo el procesamiento de los datos para poder comprobar o rechazar las hipótesis. Para ellos se llevaron a cabo una serie de decisiones, enseguida se enumeran las claves:\n",
        "* Crear una nueva tabla con los datos necesarios para la obtención de los valores de los ingresos por mes por usuario: cantidad de minutos por mes, cantidad mensajes por mes, cantidad de gb utilizados.\n",
        "* Se calculan los ingresos por mes y se guardan en esta misma tabla.\n",
        "* Esta tabla se divide en base a dos parametros uno para cada hipótesis:\n",
        " 1. De acuerdo a la tarifa ( Surf y Ultimate)\n",
        " 2. De acuerdo a la region ( Nueva York - Nueva Jersey  y las demás)\n",
        "* Se prueban ambas hipotesis para el tipo de hipotesis sobre igualdad de las medios de dos poblaciones, como hpótesis de dos colas.\n",
        "\n",
        "Como resultado obtuvimos que ambas hipótesis nulas, las cuales proponen la igualdad de las medias, se rechazaron; lo que indica que ambas hipotesis alternativas son ciertas. Se toma como verdadero que:\n",
        "* \"Son diferentes los ingresos promedio procedentes de los usuarios de los planes de llamada Ultimate y Surf.\"\n",
        "* \"El ingreso promedio de los usuarios del área NY-NJ es diferente al de los usuarios de otras regiones.\"\n",
        "\n"
      ]
    },
    {
      "cell_type": "code",
      "execution_count": null,
      "metadata": {
        "trusted": true,
        "id": "wad2wzXwcDgo"
      },
      "outputs": [],
      "source": []
    }
  ],
  "metadata": {
    "ExecuteTimeLog": [
      {
        "duration": 828,
        "start_time": "2021-11-16T09:21:11.304Z"
      },
      {
        "duration": 893,
        "start_time": "2021-11-16T09:21:17.728Z"
      },
      {
        "duration": 1150,
        "start_time": "2021-11-16T09:21:29.568Z"
      },
      {
        "duration": 3,
        "start_time": "2021-11-16T09:24:14.495Z"
      },
      {
        "duration": 120,
        "start_time": "2021-11-16T09:24:46.630Z"
      },
      {
        "duration": 3,
        "start_time": "2021-11-16T09:28:27.882Z"
      },
      {
        "duration": 4,
        "start_time": "2021-11-16T09:29:54.281Z"
      },
      {
        "duration": 3,
        "start_time": "2021-11-16T09:30:45.936Z"
      },
      {
        "duration": 4,
        "start_time": "2021-11-16T09:31:06.300Z"
      },
      {
        "duration": 113,
        "start_time": "2021-11-16T09:31:37.208Z"
      },
      {
        "duration": 143,
        "start_time": "2021-11-16T09:31:48.656Z"
      },
      {
        "duration": 98,
        "start_time": "2021-11-16T09:31:55.678Z"
      },
      {
        "duration": 3,
        "start_time": "2021-11-16T09:32:08.535Z"
      },
      {
        "duration": 111,
        "start_time": "2021-11-16T09:32:10.120Z"
      },
      {
        "duration": 3,
        "start_time": "2021-11-16T09:32:15.732Z"
      },
      {
        "duration": 4,
        "start_time": "2021-11-16T09:32:29.423Z"
      },
      {
        "duration": 3,
        "start_time": "2021-11-16T10:03:03.074Z"
      },
      {
        "duration": 3,
        "start_time": "2021-11-16T10:10:01.288Z"
      },
      {
        "duration": 3,
        "start_time": "2021-11-16T10:10:46.923Z"
      },
      {
        "duration": 121,
        "start_time": "2021-11-16T10:37:46.494Z"
      },
      {
        "duration": 125,
        "start_time": "2021-11-16T10:38:20.632Z"
      },
      {
        "duration": 112,
        "start_time": "2021-11-16T10:46:53.001Z"
      },
      {
        "duration": 110,
        "start_time": "2021-11-16T10:48:25.775Z"
      },
      {
        "duration": 3,
        "start_time": "2021-11-16T10:50:18.720Z"
      },
      {
        "duration": 4,
        "start_time": "2021-11-16T10:50:37.649Z"
      },
      {
        "duration": 2,
        "start_time": "2021-11-16T10:50:51.884Z"
      },
      {
        "duration": 3,
        "start_time": "2021-11-16T10:51:56.237Z"
      },
      {
        "duration": 101,
        "start_time": "2021-11-16T10:53:13.791Z"
      },
      {
        "duration": 3,
        "start_time": "2021-11-16T10:55:59.186Z"
      },
      {
        "duration": 3,
        "start_time": "2021-11-16T10:56:10.751Z"
      },
      {
        "duration": 3,
        "start_time": "2021-11-16T10:56:49.038Z"
      },
      {
        "duration": 3,
        "start_time": "2021-11-16T10:56:49.174Z"
      },
      {
        "duration": 4,
        "start_time": "2021-11-16T10:56:49.414Z"
      },
      {
        "duration": 3,
        "start_time": "2021-11-16T10:56:49.680Z"
      },
      {
        "duration": 3,
        "start_time": "2021-11-16T10:56:50.370Z"
      },
      {
        "duration": 114,
        "start_time": "2021-11-16T10:59:34.518Z"
      },
      {
        "duration": 3,
        "start_time": "2021-11-16T11:01:41.201Z"
      },
      {
        "duration": 116,
        "start_time": "2021-11-16T11:01:48.754Z"
      },
      {
        "duration": 3,
        "start_time": "2021-11-16T11:02:16.685Z"
      },
      {
        "duration": 3,
        "start_time": "2021-11-16T11:02:19.479Z"
      },
      {
        "duration": 3,
        "start_time": "2021-11-16T11:02:47.067Z"
      },
      {
        "duration": 3,
        "start_time": "2021-11-16T11:02:49.353Z"
      },
      {
        "duration": 3,
        "start_time": "2021-11-16T11:03:07.835Z"
      },
      {
        "duration": 3,
        "start_time": "2021-11-16T11:03:07.953Z"
      },
      {
        "duration": 112,
        "start_time": "2021-11-16T11:07:52.072Z"
      },
      {
        "duration": 187,
        "start_time": "2021-11-16T11:09:23.468Z"
      },
      {
        "duration": 4,
        "start_time": "2021-11-16T11:10:01.455Z"
      },
      {
        "duration": 3,
        "start_time": "2021-11-16T11:10:05.069Z"
      },
      {
        "duration": 4,
        "start_time": "2021-11-16T11:10:13.376Z"
      },
      {
        "duration": 3,
        "start_time": "2021-11-16T11:10:14.434Z"
      },
      {
        "duration": 3,
        "start_time": "2021-11-16T11:10:22.853Z"
      },
      {
        "duration": 4,
        "start_time": "2021-11-16T11:27:29.279Z"
      },
      {
        "duration": 4,
        "start_time": "2021-11-16T11:29:08.919Z"
      },
      {
        "duration": 118,
        "start_time": "2021-11-16T11:29:46.703Z"
      },
      {
        "duration": 437,
        "start_time": "2021-11-16T11:36:02.181Z"
      },
      {
        "duration": 157,
        "start_time": "2021-11-16T11:36:14.388Z"
      },
      {
        "duration": 207,
        "start_time": "2021-11-16T11:47:15.898Z"
      },
      {
        "duration": 3,
        "start_time": "2021-11-16T11:53:52.092Z"
      },
      {
        "duration": 3,
        "start_time": "2021-11-16T11:53:52.236Z"
      },
      {
        "duration": 3,
        "start_time": "2021-11-16T11:59:12.005Z"
      },
      {
        "duration": 112,
        "start_time": "2021-11-16T12:00:33.446Z"
      },
      {
        "duration": 3,
        "start_time": "2021-11-16T12:02:14.453Z"
      },
      {
        "duration": 3,
        "start_time": "2021-11-16T12:02:39.512Z"
      },
      {
        "duration": 106,
        "start_time": "2021-11-16T12:03:03.460Z"
      },
      {
        "duration": 3,
        "start_time": "2021-11-17T20:37:21.139Z"
      },
      {
        "duration": 3,
        "start_time": "2021-11-17T20:37:22.229Z"
      },
      {
        "duration": 3,
        "start_time": "2021-11-17T20:38:38.806Z"
      },
      {
        "duration": 3,
        "start_time": "2021-11-17T20:38:41.958Z"
      },
      {
        "duration": 3,
        "start_time": "2021-11-17T20:43:46.551Z"
      },
      {
        "duration": 4,
        "start_time": "2021-11-17T20:58:21.835Z"
      },
      {
        "duration": 3,
        "start_time": "2021-11-17T20:59:21.872Z"
      },
      {
        "duration": 4,
        "start_time": "2021-11-17T20:59:45.352Z"
      },
      {
        "duration": 4,
        "start_time": "2021-11-17T20:59:49.646Z"
      },
      {
        "duration": 159,
        "start_time": "2021-11-17T21:02:26.949Z"
      },
      {
        "duration": 3,
        "start_time": "2021-11-17T21:03:53.461Z"
      },
      {
        "duration": 3,
        "start_time": "2021-11-17T21:03:53.694Z"
      },
      {
        "duration": 3,
        "start_time": "2021-11-17T21:05:28.145Z"
      },
      {
        "duration": 116,
        "start_time": "2021-11-17T21:05:57.787Z"
      },
      {
        "duration": 3,
        "start_time": "2021-11-17T21:06:37.993Z"
      },
      {
        "duration": 3,
        "start_time": "2021-11-17T21:06:38.261Z"
      },
      {
        "duration": 3,
        "start_time": "2021-11-17T21:11:54.358Z"
      },
      {
        "duration": 3,
        "start_time": "2021-11-17T21:12:43.846Z"
      },
      {
        "duration": 4,
        "start_time": "2021-11-17T21:13:08.773Z"
      },
      {
        "duration": 3,
        "start_time": "2021-11-17T21:14:44.441Z"
      },
      {
        "duration": 3,
        "start_time": "2021-11-17T21:15:42.059Z"
      },
      {
        "duration": 4,
        "start_time": "2021-11-17T21:15:51.995Z"
      },
      {
        "duration": 3,
        "start_time": "2021-11-17T21:15:53.923Z"
      },
      {
        "duration": 3,
        "start_time": "2021-11-17T21:15:55.282Z"
      },
      {
        "duration": 3,
        "start_time": "2021-11-17T21:16:28.492Z"
      },
      {
        "duration": 3,
        "start_time": "2021-11-17T21:16:32.603Z"
      },
      {
        "duration": 3,
        "start_time": "2021-11-17T21:17:06.941Z"
      },
      {
        "duration": 98,
        "start_time": "2021-11-17T21:18:05.733Z"
      },
      {
        "duration": 4,
        "start_time": "2021-11-17T21:21:35.255Z"
      },
      {
        "duration": 3,
        "start_time": "2021-11-17T21:21:37.804Z"
      },
      {
        "duration": 4,
        "start_time": "2021-11-17T21:23:06.071Z"
      },
      {
        "duration": 3,
        "start_time": "2021-11-17T21:23:24.799Z"
      },
      {
        "duration": 3,
        "start_time": "2021-11-17T21:23:32.591Z"
      },
      {
        "duration": 98,
        "start_time": "2021-11-17T21:28:31.559Z"
      },
      {
        "duration": 3,
        "start_time": "2021-11-17T21:28:45.448Z"
      },
      {
        "duration": 3,
        "start_time": "2021-11-17T21:29:17.303Z"
      },
      {
        "duration": 3,
        "start_time": "2021-11-17T21:29:29.617Z"
      },
      {
        "duration": 3,
        "start_time": "2021-11-17T21:29:32.681Z"
      },
      {
        "duration": 3,
        "start_time": "2021-11-17T21:36:11.474Z"
      },
      {
        "duration": 3,
        "start_time": "2021-11-17T21:36:14.791Z"
      },
      {
        "duration": 3,
        "start_time": "2021-11-17T21:36:53.943Z"
      },
      {
        "duration": 3,
        "start_time": "2021-11-17T21:36:56.165Z"
      },
      {
        "duration": 4,
        "start_time": "2021-11-17T21:37:16.590Z"
      },
      {
        "duration": 3,
        "start_time": "2021-11-17T21:37:22.702Z"
      },
      {
        "duration": 4,
        "start_time": "2021-11-17T21:38:03.479Z"
      },
      {
        "duration": 3,
        "start_time": "2021-11-17T21:38:08.601Z"
      },
      {
        "duration": 3,
        "start_time": "2021-11-17T21:38:12.928Z"
      },
      {
        "duration": 3,
        "start_time": "2021-11-17T21:38:48.896Z"
      },
      {
        "duration": 2,
        "start_time": "2021-11-17T21:38:49.171Z"
      },
      {
        "duration": 4,
        "start_time": "2021-11-17T21:39:57.889Z"
      },
      {
        "duration": 3,
        "start_time": "2021-11-17T21:39:58.057Z"
      },
      {
        "duration": 3,
        "start_time": "2021-11-17T21:41:20.108Z"
      },
      {
        "duration": 3,
        "start_time": "2021-11-17T21:41:20.629Z"
      },
      {
        "duration": 3,
        "start_time": "2021-11-17T21:42:49.136Z"
      },
      {
        "duration": 3,
        "start_time": "2021-11-17T21:43:15.137Z"
      },
      {
        "duration": 4,
        "start_time": "2021-11-17T21:43:16.766Z"
      },
      {
        "duration": 4,
        "start_time": "2021-11-17T21:43:31.711Z"
      },
      {
        "duration": 3,
        "start_time": "2021-11-17T21:43:36.312Z"
      },
      {
        "duration": 4,
        "start_time": "2021-11-17T21:45:08.825Z"
      },
      {
        "duration": 4,
        "start_time": "2021-11-17T21:45:10.119Z"
      },
      {
        "duration": 4,
        "start_time": "2021-11-17T21:45:13.748Z"
      },
      {
        "duration": 3,
        "start_time": "2021-11-17T21:45:22.219Z"
      },
      {
        "duration": 3,
        "start_time": "2021-11-17T21:45:33.412Z"
      },
      {
        "duration": 2,
        "start_time": "2021-11-17T21:46:01.885Z"
      },
      {
        "duration": 3,
        "start_time": "2021-11-17T21:46:03.628Z"
      },
      {
        "duration": 107,
        "start_time": "2021-11-17T21:47:32.512Z"
      },
      {
        "duration": 103,
        "start_time": "2021-11-17T21:50:36.243Z"
      },
      {
        "duration": 3,
        "start_time": "2021-11-18T06:28:31.440Z"
      },
      {
        "duration": 3,
        "start_time": "2021-11-18T06:29:00.168Z"
      },
      {
        "duration": 3,
        "start_time": "2021-11-18T06:31:27.008Z"
      },
      {
        "duration": 2,
        "start_time": "2021-11-18T06:35:34.288Z"
      },
      {
        "duration": 2,
        "start_time": "2021-11-18T06:38:04.527Z"
      },
      {
        "duration": 2464,
        "start_time": "2025-01-08T23:36:08.396Z"
      },
      {
        "duration": 227,
        "start_time": "2025-01-08T23:38:57.592Z"
      },
      {
        "duration": 9,
        "start_time": "2025-01-08T23:39:34.835Z"
      },
      {
        "duration": 10,
        "start_time": "2025-01-08T23:40:03.227Z"
      },
      {
        "duration": 12,
        "start_time": "2025-01-09T00:01:11.812Z"
      },
      {
        "duration": 7,
        "start_time": "2025-01-09T00:08:57.319Z"
      },
      {
        "duration": 10,
        "start_time": "2025-01-09T00:14:17.968Z"
      },
      {
        "duration": 8,
        "start_time": "2025-01-09T00:14:56.729Z"
      },
      {
        "duration": 17,
        "start_time": "2025-01-09T00:17:00.013Z"
      },
      {
        "duration": 9,
        "start_time": "2025-01-09T00:18:05.620Z"
      },
      {
        "duration": 8,
        "start_time": "2025-01-09T00:18:10.607Z"
      },
      {
        "duration": 9,
        "start_time": "2025-01-09T00:18:31.177Z"
      },
      {
        "duration": 10,
        "start_time": "2025-01-09T00:18:56.488Z"
      },
      {
        "duration": 15,
        "start_time": "2025-01-09T00:20:30.556Z"
      },
      {
        "duration": 8,
        "start_time": "2025-01-09T00:20:48.862Z"
      },
      {
        "duration": 14,
        "start_time": "2025-01-09T00:21:49.417Z"
      },
      {
        "duration": 9,
        "start_time": "2025-01-09T00:22:17.536Z"
      },
      {
        "duration": 7,
        "start_time": "2025-01-09T00:23:12.301Z"
      },
      {
        "duration": 24,
        "start_time": "2025-01-09T00:27:01.456Z"
      },
      {
        "duration": 13,
        "start_time": "2025-01-09T00:27:27.693Z"
      },
      {
        "duration": 20,
        "start_time": "2025-01-09T00:27:36.972Z"
      },
      {
        "duration": 8,
        "start_time": "2025-01-09T00:28:09.604Z"
      },
      {
        "duration": 6,
        "start_time": "2025-01-09T00:28:33.153Z"
      },
      {
        "duration": 7,
        "start_time": "2025-01-09T00:28:35.687Z"
      },
      {
        "duration": 7,
        "start_time": "2025-01-09T00:28:49.423Z"
      },
      {
        "duration": 8,
        "start_time": "2025-01-09T00:30:00.018Z"
      },
      {
        "duration": 308,
        "start_time": "2025-01-09T00:31:21.452Z"
      },
      {
        "duration": 5,
        "start_time": "2025-01-09T00:31:28.712Z"
      },
      {
        "duration": 6,
        "start_time": "2025-01-09T00:32:31.470Z"
      },
      {
        "duration": 15,
        "start_time": "2025-01-09T00:39:00.166Z"
      },
      {
        "duration": 12,
        "start_time": "2025-01-09T00:39:16.572Z"
      },
      {
        "duration": 6,
        "start_time": "2025-01-09T00:39:35.763Z"
      },
      {
        "duration": 5,
        "start_time": "2025-01-09T00:49:48.845Z"
      },
      {
        "duration": 4,
        "start_time": "2025-01-09T00:49:52.695Z"
      },
      {
        "duration": 798,
        "start_time": "2025-01-09T00:50:06.504Z"
      },
      {
        "duration": 156,
        "start_time": "2025-01-09T00:50:07.304Z"
      },
      {
        "duration": 9,
        "start_time": "2025-01-09T00:50:07.462Z"
      },
      {
        "duration": 9,
        "start_time": "2025-01-09T00:50:07.474Z"
      },
      {
        "duration": 8,
        "start_time": "2025-01-09T00:50:07.485Z"
      },
      {
        "duration": 10,
        "start_time": "2025-01-09T00:50:07.494Z"
      },
      {
        "duration": 8,
        "start_time": "2025-01-09T00:50:07.524Z"
      },
      {
        "duration": 2,
        "start_time": "2025-01-09T00:50:07.534Z"
      },
      {
        "duration": 16,
        "start_time": "2025-01-09T00:50:07.537Z"
      },
      {
        "duration": 8,
        "start_time": "2025-01-09T00:50:07.557Z"
      },
      {
        "duration": 2,
        "start_time": "2025-01-09T00:50:07.567Z"
      },
      {
        "duration": 2,
        "start_time": "2025-01-09T00:50:07.571Z"
      },
      {
        "duration": 11,
        "start_time": "2025-01-09T00:50:07.575Z"
      },
      {
        "duration": 37,
        "start_time": "2025-01-09T00:50:07.588Z"
      },
      {
        "duration": 15,
        "start_time": "2025-01-09T00:50:07.626Z"
      },
      {
        "duration": 9,
        "start_time": "2025-01-09T00:50:07.643Z"
      },
      {
        "duration": 7,
        "start_time": "2025-01-09T00:50:07.653Z"
      },
      {
        "duration": 7,
        "start_time": "2025-01-09T00:50:07.661Z"
      },
      {
        "duration": 6,
        "start_time": "2025-01-09T00:50:07.670Z"
      },
      {
        "duration": 4,
        "start_time": "2025-01-09T00:50:07.678Z"
      },
      {
        "duration": 45,
        "start_time": "2025-01-09T00:50:07.683Z"
      },
      {
        "duration": 6,
        "start_time": "2025-01-09T00:50:07.730Z"
      },
      {
        "duration": 7,
        "start_time": "2025-01-09T00:50:07.737Z"
      },
      {
        "duration": 0,
        "start_time": "2025-01-09T00:50:07.746Z"
      },
      {
        "duration": 0,
        "start_time": "2025-01-09T00:50:07.751Z"
      },
      {
        "duration": 0,
        "start_time": "2025-01-09T00:50:07.752Z"
      },
      {
        "duration": 0,
        "start_time": "2025-01-09T00:50:07.753Z"
      },
      {
        "duration": 0,
        "start_time": "2025-01-09T00:50:07.754Z"
      },
      {
        "duration": 0,
        "start_time": "2025-01-09T00:50:07.756Z"
      },
      {
        "duration": 0,
        "start_time": "2025-01-09T00:50:07.757Z"
      },
      {
        "duration": 0,
        "start_time": "2025-01-09T00:50:07.758Z"
      },
      {
        "duration": 0,
        "start_time": "2025-01-09T00:50:07.766Z"
      },
      {
        "duration": 8,
        "start_time": "2025-01-09T00:50:22.750Z"
      },
      {
        "duration": 8,
        "start_time": "2025-01-09T00:51:38.618Z"
      },
      {
        "duration": 294,
        "start_time": "2025-01-09T00:53:17.899Z"
      },
      {
        "duration": 34,
        "start_time": "2025-01-09T00:53:27.744Z"
      },
      {
        "duration": 24,
        "start_time": "2025-01-09T00:54:30.550Z"
      },
      {
        "duration": 21,
        "start_time": "2025-01-09T00:54:40.003Z"
      },
      {
        "duration": 439,
        "start_time": "2025-01-09T00:55:40.910Z"
      },
      {
        "duration": 44,
        "start_time": "2025-01-09T00:56:40.436Z"
      },
      {
        "duration": 10,
        "start_time": "2025-01-09T00:58:34.522Z"
      },
      {
        "duration": 9,
        "start_time": "2025-01-09T00:58:54.803Z"
      },
      {
        "duration": 10,
        "start_time": "2025-01-09T00:59:24.980Z"
      },
      {
        "duration": 9,
        "start_time": "2025-01-09T00:59:36.217Z"
      },
      {
        "duration": 10,
        "start_time": "2025-01-09T00:59:45.780Z"
      },
      {
        "duration": 801,
        "start_time": "2025-01-09T01:00:10.896Z"
      },
      {
        "duration": 162,
        "start_time": "2025-01-09T01:00:11.699Z"
      },
      {
        "duration": 10,
        "start_time": "2025-01-09T01:00:11.863Z"
      },
      {
        "duration": 10,
        "start_time": "2025-01-09T01:00:11.874Z"
      },
      {
        "duration": 8,
        "start_time": "2025-01-09T01:00:11.885Z"
      },
      {
        "duration": 29,
        "start_time": "2025-01-09T01:00:11.895Z"
      },
      {
        "duration": 2,
        "start_time": "2025-01-09T01:00:11.926Z"
      },
      {
        "duration": 2,
        "start_time": "2025-01-09T01:00:11.929Z"
      },
      {
        "duration": 16,
        "start_time": "2025-01-09T01:00:11.932Z"
      },
      {
        "duration": 8,
        "start_time": "2025-01-09T01:00:11.951Z"
      },
      {
        "duration": 2,
        "start_time": "2025-01-09T01:00:11.961Z"
      },
      {
        "duration": 2,
        "start_time": "2025-01-09T01:00:11.965Z"
      },
      {
        "duration": 11,
        "start_time": "2025-01-09T01:00:11.969Z"
      },
      {
        "duration": 48,
        "start_time": "2025-01-09T01:00:11.981Z"
      },
      {
        "duration": 14,
        "start_time": "2025-01-09T01:00:12.030Z"
      },
      {
        "duration": 8,
        "start_time": "2025-01-09T01:00:12.045Z"
      },
      {
        "duration": 7,
        "start_time": "2025-01-09T01:00:12.055Z"
      },
      {
        "duration": 7,
        "start_time": "2025-01-09T01:00:12.064Z"
      },
      {
        "duration": 5,
        "start_time": "2025-01-09T01:00:12.073Z"
      },
      {
        "duration": 44,
        "start_time": "2025-01-09T01:00:12.080Z"
      },
      {
        "duration": 6,
        "start_time": "2025-01-09T01:00:12.125Z"
      },
      {
        "duration": 8,
        "start_time": "2025-01-09T01:00:12.134Z"
      },
      {
        "duration": 9,
        "start_time": "2025-01-09T01:00:12.143Z"
      },
      {
        "duration": 2,
        "start_time": "2025-01-09T01:00:12.154Z"
      },
      {
        "duration": 3,
        "start_time": "2025-01-09T01:00:12.157Z"
      },
      {
        "duration": 3,
        "start_time": "2025-01-09T01:00:12.161Z"
      },
      {
        "duration": 3,
        "start_time": "2025-01-09T01:00:12.165Z"
      },
      {
        "duration": 2,
        "start_time": "2025-01-09T01:00:12.172Z"
      },
      {
        "duration": 5,
        "start_time": "2025-01-09T01:00:12.175Z"
      },
      {
        "duration": 3,
        "start_time": "2025-01-09T01:00:12.181Z"
      },
      {
        "duration": 2,
        "start_time": "2025-01-09T01:00:12.224Z"
      },
      {
        "duration": 2,
        "start_time": "2025-01-09T01:00:12.228Z"
      },
      {
        "duration": 2601,
        "start_time": "2025-01-09T15:19:56.938Z"
      },
      {
        "duration": 231,
        "start_time": "2025-01-09T15:19:59.541Z"
      },
      {
        "duration": 11,
        "start_time": "2025-01-09T15:19:59.777Z"
      },
      {
        "duration": 10,
        "start_time": "2025-01-09T15:19:59.792Z"
      },
      {
        "duration": 8,
        "start_time": "2025-01-09T15:19:59.803Z"
      },
      {
        "duration": 9,
        "start_time": "2025-01-09T15:19:59.813Z"
      },
      {
        "duration": 3,
        "start_time": "2025-01-09T15:19:59.823Z"
      },
      {
        "duration": 3,
        "start_time": "2025-01-09T15:19:59.827Z"
      },
      {
        "duration": 15,
        "start_time": "2025-01-09T15:19:59.831Z"
      },
      {
        "duration": 8,
        "start_time": "2025-01-09T15:19:59.849Z"
      },
      {
        "duration": 3,
        "start_time": "2025-01-09T15:19:59.858Z"
      },
      {
        "duration": 2,
        "start_time": "2025-01-09T15:19:59.863Z"
      },
      {
        "duration": 48,
        "start_time": "2025-01-09T15:19:59.867Z"
      },
      {
        "duration": 8,
        "start_time": "2025-01-09T15:19:59.916Z"
      },
      {
        "duration": 13,
        "start_time": "2025-01-09T15:19:59.926Z"
      },
      {
        "duration": 8,
        "start_time": "2025-01-09T15:19:59.940Z"
      },
      {
        "duration": 6,
        "start_time": "2025-01-09T15:19:59.950Z"
      },
      {
        "duration": 6,
        "start_time": "2025-01-09T15:19:59.959Z"
      },
      {
        "duration": 44,
        "start_time": "2025-01-09T15:19:59.967Z"
      },
      {
        "duration": 4,
        "start_time": "2025-01-09T15:20:00.012Z"
      },
      {
        "duration": 5,
        "start_time": "2025-01-09T15:20:00.018Z"
      },
      {
        "duration": 8,
        "start_time": "2025-01-09T15:20:00.025Z"
      },
      {
        "duration": 8,
        "start_time": "2025-01-09T15:20:00.035Z"
      },
      {
        "duration": 4,
        "start_time": "2025-01-09T15:20:00.045Z"
      },
      {
        "duration": 1,
        "start_time": "2025-01-09T15:20:00.051Z"
      },
      {
        "duration": 0,
        "start_time": "2025-01-09T15:20:00.053Z"
      },
      {
        "duration": 0,
        "start_time": "2025-01-09T15:20:00.055Z"
      },
      {
        "duration": 0,
        "start_time": "2025-01-09T15:20:00.056Z"
      },
      {
        "duration": 0,
        "start_time": "2025-01-09T15:20:00.058Z"
      },
      {
        "duration": 0,
        "start_time": "2025-01-09T15:20:00.059Z"
      },
      {
        "duration": 0,
        "start_time": "2025-01-09T15:20:00.060Z"
      },
      {
        "duration": 0,
        "start_time": "2025-01-09T15:20:00.061Z"
      },
      {
        "duration": 4,
        "start_time": "2025-01-09T15:20:30.463Z"
      },
      {
        "duration": 8,
        "start_time": "2025-01-09T15:21:47.419Z"
      },
      {
        "duration": 218,
        "start_time": "2025-01-09T15:21:59.994Z"
      },
      {
        "duration": 20,
        "start_time": "2025-01-09T15:22:30.492Z"
      },
      {
        "duration": 19,
        "start_time": "2025-01-09T15:22:50.366Z"
      },
      {
        "duration": 20,
        "start_time": "2025-01-09T15:24:45.382Z"
      },
      {
        "duration": 409,
        "start_time": "2025-01-09T15:26:16.098Z"
      },
      {
        "duration": 46,
        "start_time": "2025-01-09T15:26:56.006Z"
      },
      {
        "duration": 18,
        "start_time": "2025-01-09T15:27:20.176Z"
      },
      {
        "duration": 15,
        "start_time": "2025-01-09T15:29:06.489Z"
      },
      {
        "duration": 2517,
        "start_time": "2025-01-09T22:00:43.305Z"
      },
      {
        "duration": 220,
        "start_time": "2025-01-09T22:03:07.495Z"
      },
      {
        "duration": 10,
        "start_time": "2025-01-09T22:05:59.202Z"
      },
      {
        "duration": 9,
        "start_time": "2025-01-09T22:06:02.869Z"
      },
      {
        "duration": 11,
        "start_time": "2025-01-09T22:19:59.338Z"
      },
      {
        "duration": 9,
        "start_time": "2025-01-09T22:20:00.828Z"
      },
      {
        "duration": 4,
        "start_time": "2025-01-09T22:21:19.296Z"
      },
      {
        "duration": 165,
        "start_time": "2025-01-09T22:21:20.525Z"
      },
      {
        "duration": 9,
        "start_time": "2025-01-09T22:21:22.832Z"
      },
      {
        "duration": 8,
        "start_time": "2025-01-09T22:21:23.421Z"
      },
      {
        "duration": 9,
        "start_time": "2025-01-09T22:21:33.829Z"
      },
      {
        "duration": 8,
        "start_time": "2025-01-09T22:21:34.878Z"
      },
      {
        "duration": 9,
        "start_time": "2025-01-09T22:22:00.906Z"
      },
      {
        "duration": 9,
        "start_time": "2025-01-09T22:31:09.308Z"
      },
      {
        "duration": 11,
        "start_time": "2025-01-09T22:35:40.946Z"
      },
      {
        "duration": 10,
        "start_time": "2025-01-09T22:35:42.247Z"
      },
      {
        "duration": 3,
        "start_time": "2025-01-09T22:35:56.799Z"
      },
      {
        "duration": 2,
        "start_time": "2025-01-09T22:36:09.002Z"
      },
      {
        "duration": 15,
        "start_time": "2025-01-09T22:36:18.043Z"
      },
      {
        "duration": 8,
        "start_time": "2025-01-09T22:36:18.866Z"
      },
      {
        "duration": 2,
        "start_time": "2025-01-09T22:36:32.719Z"
      },
      {
        "duration": 12,
        "start_time": "2025-01-09T22:36:51.288Z"
      },
      {
        "duration": 7,
        "start_time": "2025-01-09T22:36:52.026Z"
      },
      {
        "duration": 14,
        "start_time": "2025-01-09T22:37:14.974Z"
      },
      {
        "duration": 9,
        "start_time": "2025-01-09T22:37:17.231Z"
      },
      {
        "duration": 3,
        "start_time": "2025-01-09T22:50:02.164Z"
      },
      {
        "duration": 3,
        "start_time": "2025-01-09T22:50:28.325Z"
      },
      {
        "duration": 5,
        "start_time": "2025-01-09T23:05:32.897Z"
      },
      {
        "duration": 221,
        "start_time": "2025-01-09T23:05:44.576Z"
      },
      {
        "duration": 14,
        "start_time": "2025-01-09T23:14:21.106Z"
      },
      {
        "duration": 13,
        "start_time": "2025-01-09T23:14:39.097Z"
      },
      {
        "duration": 272,
        "start_time": "2025-01-09T23:15:27.656Z"
      },
      {
        "duration": 810,
        "start_time": "2025-01-09T23:17:19.513Z"
      },
      {
        "duration": 156,
        "start_time": "2025-01-09T23:17:20.325Z"
      },
      {
        "duration": 26,
        "start_time": "2025-01-09T23:17:20.483Z"
      },
      {
        "duration": 12,
        "start_time": "2025-01-09T23:17:20.512Z"
      },
      {
        "duration": 9,
        "start_time": "2025-01-09T23:17:20.526Z"
      },
      {
        "duration": 18,
        "start_time": "2025-01-09T23:17:20.536Z"
      },
      {
        "duration": 3,
        "start_time": "2025-01-09T23:17:20.556Z"
      },
      {
        "duration": 2,
        "start_time": "2025-01-09T23:17:20.561Z"
      },
      {
        "duration": 17,
        "start_time": "2025-01-09T23:17:20.565Z"
      },
      {
        "duration": 8,
        "start_time": "2025-01-09T23:17:20.585Z"
      },
      {
        "duration": 2,
        "start_time": "2025-01-09T23:17:20.595Z"
      },
      {
        "duration": 2,
        "start_time": "2025-01-09T23:17:20.599Z"
      },
      {
        "duration": 50,
        "start_time": "2025-01-09T23:17:20.603Z"
      },
      {
        "duration": 9,
        "start_time": "2025-01-09T23:17:20.655Z"
      },
      {
        "duration": 13,
        "start_time": "2025-01-09T23:17:20.665Z"
      },
      {
        "duration": 8,
        "start_time": "2025-01-09T23:17:20.680Z"
      },
      {
        "duration": 9,
        "start_time": "2025-01-09T23:17:20.690Z"
      },
      {
        "duration": 515,
        "start_time": "2025-01-09T23:17:20.701Z"
      },
      {
        "duration": 0,
        "start_time": "2025-01-09T23:17:21.219Z"
      },
      {
        "duration": 0,
        "start_time": "2025-01-09T23:17:21.220Z"
      },
      {
        "duration": 0,
        "start_time": "2025-01-09T23:17:21.221Z"
      },
      {
        "duration": 0,
        "start_time": "2025-01-09T23:17:21.222Z"
      },
      {
        "duration": 0,
        "start_time": "2025-01-09T23:17:21.223Z"
      },
      {
        "duration": 0,
        "start_time": "2025-01-09T23:17:21.224Z"
      },
      {
        "duration": 0,
        "start_time": "2025-01-09T23:17:21.225Z"
      },
      {
        "duration": 0,
        "start_time": "2025-01-09T23:17:21.226Z"
      },
      {
        "duration": 0,
        "start_time": "2025-01-09T23:17:21.227Z"
      },
      {
        "duration": 0,
        "start_time": "2025-01-09T23:17:21.228Z"
      },
      {
        "duration": 0,
        "start_time": "2025-01-09T23:17:21.229Z"
      },
      {
        "duration": 0,
        "start_time": "2025-01-09T23:17:21.230Z"
      },
      {
        "duration": 0,
        "start_time": "2025-01-09T23:17:21.243Z"
      },
      {
        "duration": 0,
        "start_time": "2025-01-09T23:17:21.245Z"
      },
      {
        "duration": 9,
        "start_time": "2025-01-09T23:19:30.332Z"
      },
      {
        "duration": 16,
        "start_time": "2025-01-09T23:22:07.162Z"
      },
      {
        "duration": 284,
        "start_time": "2025-01-09T23:22:42.466Z"
      },
      {
        "duration": 5,
        "start_time": "2025-01-09T23:27:54.469Z"
      },
      {
        "duration": 6,
        "start_time": "2025-01-09T23:28:05.579Z"
      },
      {
        "duration": 15,
        "start_time": "2025-01-09T23:28:26.257Z"
      },
      {
        "duration": 7,
        "start_time": "2025-01-09T23:29:54.290Z"
      },
      {
        "duration": 9,
        "start_time": "2025-01-09T23:30:25.082Z"
      },
      {
        "duration": 7,
        "start_time": "2025-01-09T23:30:51.435Z"
      },
      {
        "duration": 11,
        "start_time": "2025-01-09T23:33:25.368Z"
      },
      {
        "duration": 13,
        "start_time": "2025-01-09T23:34:05.590Z"
      },
      {
        "duration": 13,
        "start_time": "2025-01-09T23:34:56.011Z"
      },
      {
        "duration": 13,
        "start_time": "2025-01-09T23:35:15.996Z"
      },
      {
        "duration": 13,
        "start_time": "2025-01-09T23:35:33.419Z"
      },
      {
        "duration": 13,
        "start_time": "2025-01-09T23:35:55.496Z"
      },
      {
        "duration": 13,
        "start_time": "2025-01-09T23:36:23.963Z"
      },
      {
        "duration": 13,
        "start_time": "2025-01-09T23:36:39.325Z"
      },
      {
        "duration": 12,
        "start_time": "2025-01-09T23:36:58.622Z"
      },
      {
        "duration": 14,
        "start_time": "2025-01-09T23:37:16.304Z"
      },
      {
        "duration": 13,
        "start_time": "2025-01-09T23:37:28.127Z"
      },
      {
        "duration": 7,
        "start_time": "2025-01-09T23:37:43.236Z"
      },
      {
        "duration": 64,
        "start_time": "2025-01-09T23:45:20.748Z"
      },
      {
        "duration": 32,
        "start_time": "2025-01-09T23:45:42.902Z"
      },
      {
        "duration": 25,
        "start_time": "2025-01-09T23:46:08.381Z"
      },
      {
        "duration": 17,
        "start_time": "2025-01-09T23:47:16.000Z"
      },
      {
        "duration": 16,
        "start_time": "2025-01-09T23:47:25.460Z"
      },
      {
        "duration": 17,
        "start_time": "2025-01-09T23:48:31.291Z"
      },
      {
        "duration": 18,
        "start_time": "2025-01-09T23:48:41.710Z"
      },
      {
        "duration": 4,
        "start_time": "2025-01-09T23:49:14.566Z"
      },
      {
        "duration": 19,
        "start_time": "2025-01-09T23:49:23.047Z"
      },
      {
        "duration": 850,
        "start_time": "2025-01-09T23:51:03.506Z"
      },
      {
        "duration": 156,
        "start_time": "2025-01-09T23:51:04.359Z"
      },
      {
        "duration": 9,
        "start_time": "2025-01-09T23:51:04.517Z"
      },
      {
        "duration": 9,
        "start_time": "2025-01-09T23:51:04.527Z"
      },
      {
        "duration": 7,
        "start_time": "2025-01-09T23:51:04.543Z"
      },
      {
        "duration": 10,
        "start_time": "2025-01-09T23:51:04.551Z"
      },
      {
        "duration": 10,
        "start_time": "2025-01-09T23:51:04.562Z"
      },
      {
        "duration": 8,
        "start_time": "2025-01-09T23:51:04.573Z"
      },
      {
        "duration": 16,
        "start_time": "2025-01-09T23:51:04.583Z"
      },
      {
        "duration": 42,
        "start_time": "2025-01-09T23:51:04.601Z"
      },
      {
        "duration": 325,
        "start_time": "2025-01-09T23:51:04.644Z"
      },
      {
        "duration": 0,
        "start_time": "2025-01-09T23:51:04.972Z"
      },
      {
        "duration": 0,
        "start_time": "2025-01-09T23:51:04.972Z"
      },
      {
        "duration": 0,
        "start_time": "2025-01-09T23:51:04.974Z"
      },
      {
        "duration": 0,
        "start_time": "2025-01-09T23:51:04.975Z"
      },
      {
        "duration": 0,
        "start_time": "2025-01-09T23:51:04.976Z"
      },
      {
        "duration": 0,
        "start_time": "2025-01-09T23:51:04.977Z"
      },
      {
        "duration": 0,
        "start_time": "2025-01-09T23:51:04.979Z"
      },
      {
        "duration": 0,
        "start_time": "2025-01-09T23:51:04.981Z"
      },
      {
        "duration": 0,
        "start_time": "2025-01-09T23:51:04.983Z"
      },
      {
        "duration": 0,
        "start_time": "2025-01-09T23:51:04.984Z"
      },
      {
        "duration": 0,
        "start_time": "2025-01-09T23:51:04.985Z"
      },
      {
        "duration": 0,
        "start_time": "2025-01-09T23:51:04.986Z"
      },
      {
        "duration": 0,
        "start_time": "2025-01-09T23:51:04.987Z"
      },
      {
        "duration": 0,
        "start_time": "2025-01-09T23:51:04.988Z"
      },
      {
        "duration": 0,
        "start_time": "2025-01-09T23:51:04.989Z"
      },
      {
        "duration": 0,
        "start_time": "2025-01-09T23:51:04.990Z"
      },
      {
        "duration": 0,
        "start_time": "2025-01-09T23:51:04.991Z"
      },
      {
        "duration": 0,
        "start_time": "2025-01-09T23:51:04.992Z"
      },
      {
        "duration": 0,
        "start_time": "2025-01-09T23:51:04.993Z"
      },
      {
        "duration": 0,
        "start_time": "2025-01-09T23:51:04.994Z"
      },
      {
        "duration": 0,
        "start_time": "2025-01-09T23:51:04.995Z"
      },
      {
        "duration": 18,
        "start_time": "2025-01-09T23:52:42.899Z"
      },
      {
        "duration": 17,
        "start_time": "2025-01-09T23:53:17.697Z"
      },
      {
        "duration": 596,
        "start_time": "2025-01-09T23:54:13.728Z"
      },
      {
        "duration": 42,
        "start_time": "2025-01-09T23:54:27.380Z"
      },
      {
        "duration": 873,
        "start_time": "2025-01-09T23:55:23.280Z"
      },
      {
        "duration": 167,
        "start_time": "2025-01-09T23:55:24.155Z"
      },
      {
        "duration": 9,
        "start_time": "2025-01-09T23:55:24.324Z"
      },
      {
        "duration": 13,
        "start_time": "2025-01-09T23:55:24.336Z"
      },
      {
        "duration": 8,
        "start_time": "2025-01-09T23:55:24.350Z"
      },
      {
        "duration": 10,
        "start_time": "2025-01-09T23:55:24.360Z"
      },
      {
        "duration": 8,
        "start_time": "2025-01-09T23:55:24.372Z"
      },
      {
        "duration": 10,
        "start_time": "2025-01-09T23:55:24.382Z"
      },
      {
        "duration": 55,
        "start_time": "2025-01-09T23:55:24.394Z"
      },
      {
        "duration": 14,
        "start_time": "2025-01-09T23:55:24.454Z"
      },
      {
        "duration": 114,
        "start_time": "2025-01-09T23:55:24.471Z"
      },
      {
        "duration": 2,
        "start_time": "2025-01-09T23:55:24.587Z"
      },
      {
        "duration": 12,
        "start_time": "2025-01-09T23:55:24.591Z"
      },
      {
        "duration": 9,
        "start_time": "2025-01-09T23:55:24.605Z"
      },
      {
        "duration": 21,
        "start_time": "2025-01-09T23:55:24.643Z"
      },
      {
        "duration": 9,
        "start_time": "2025-01-09T23:55:24.667Z"
      },
      {
        "duration": 7,
        "start_time": "2025-01-09T23:55:24.678Z"
      },
      {
        "duration": 498,
        "start_time": "2025-01-09T23:55:24.687Z"
      },
      {
        "duration": 0,
        "start_time": "2025-01-09T23:55:25.188Z"
      },
      {
        "duration": 0,
        "start_time": "2025-01-09T23:55:25.190Z"
      },
      {
        "duration": 0,
        "start_time": "2025-01-09T23:55:25.192Z"
      },
      {
        "duration": 0,
        "start_time": "2025-01-09T23:55:25.193Z"
      },
      {
        "duration": 0,
        "start_time": "2025-01-09T23:55:25.194Z"
      },
      {
        "duration": 0,
        "start_time": "2025-01-09T23:55:25.196Z"
      },
      {
        "duration": 0,
        "start_time": "2025-01-09T23:55:25.197Z"
      },
      {
        "duration": 0,
        "start_time": "2025-01-09T23:55:25.199Z"
      },
      {
        "duration": 0,
        "start_time": "2025-01-09T23:55:25.200Z"
      },
      {
        "duration": 0,
        "start_time": "2025-01-09T23:55:25.201Z"
      },
      {
        "duration": 0,
        "start_time": "2025-01-09T23:55:25.202Z"
      },
      {
        "duration": 0,
        "start_time": "2025-01-09T23:55:25.204Z"
      },
      {
        "duration": 0,
        "start_time": "2025-01-09T23:55:25.205Z"
      },
      {
        "duration": 0,
        "start_time": "2025-01-09T23:55:25.206Z"
      },
      {
        "duration": 838,
        "start_time": "2025-01-09T23:56:04.579Z"
      },
      {
        "duration": 150,
        "start_time": "2025-01-09T23:56:05.418Z"
      },
      {
        "duration": 9,
        "start_time": "2025-01-09T23:56:05.570Z"
      },
      {
        "duration": 10,
        "start_time": "2025-01-09T23:56:05.581Z"
      },
      {
        "duration": 8,
        "start_time": "2025-01-09T23:56:05.592Z"
      },
      {
        "duration": 11,
        "start_time": "2025-01-09T23:56:05.601Z"
      },
      {
        "duration": 31,
        "start_time": "2025-01-09T23:56:05.613Z"
      },
      {
        "duration": 7,
        "start_time": "2025-01-09T23:56:05.646Z"
      },
      {
        "duration": 15,
        "start_time": "2025-01-09T23:56:05.655Z"
      },
      {
        "duration": 7,
        "start_time": "2025-01-09T23:56:05.673Z"
      },
      {
        "duration": 107,
        "start_time": "2025-01-09T23:56:05.681Z"
      },
      {
        "duration": 3,
        "start_time": "2025-01-09T23:56:05.789Z"
      },
      {
        "duration": 11,
        "start_time": "2025-01-09T23:56:05.793Z"
      },
      {
        "duration": 7,
        "start_time": "2025-01-09T23:56:05.806Z"
      },
      {
        "duration": 40,
        "start_time": "2025-01-09T23:56:05.815Z"
      },
      {
        "duration": 12,
        "start_time": "2025-01-09T23:56:05.856Z"
      },
      {
        "duration": 7,
        "start_time": "2025-01-09T23:56:05.870Z"
      },
      {
        "duration": 518,
        "start_time": "2025-01-09T23:56:05.879Z"
      },
      {
        "duration": 0,
        "start_time": "2025-01-09T23:56:06.399Z"
      },
      {
        "duration": 0,
        "start_time": "2025-01-09T23:56:06.400Z"
      },
      {
        "duration": 0,
        "start_time": "2025-01-09T23:56:06.401Z"
      },
      {
        "duration": 0,
        "start_time": "2025-01-09T23:56:06.403Z"
      },
      {
        "duration": 0,
        "start_time": "2025-01-09T23:56:06.404Z"
      },
      {
        "duration": 0,
        "start_time": "2025-01-09T23:56:06.406Z"
      },
      {
        "duration": 0,
        "start_time": "2025-01-09T23:56:06.407Z"
      },
      {
        "duration": 0,
        "start_time": "2025-01-09T23:56:06.409Z"
      },
      {
        "duration": 0,
        "start_time": "2025-01-09T23:56:06.410Z"
      },
      {
        "duration": 0,
        "start_time": "2025-01-09T23:56:06.411Z"
      },
      {
        "duration": 0,
        "start_time": "2025-01-09T23:56:06.412Z"
      },
      {
        "duration": 0,
        "start_time": "2025-01-09T23:56:06.414Z"
      },
      {
        "duration": 0,
        "start_time": "2025-01-09T23:56:06.442Z"
      },
      {
        "duration": 0,
        "start_time": "2025-01-09T23:56:06.444Z"
      },
      {
        "duration": 844,
        "start_time": "2025-01-09T23:58:20.952Z"
      },
      {
        "duration": 153,
        "start_time": "2025-01-09T23:58:21.798Z"
      },
      {
        "duration": 9,
        "start_time": "2025-01-09T23:58:21.953Z"
      },
      {
        "duration": 9,
        "start_time": "2025-01-09T23:58:21.965Z"
      },
      {
        "duration": 7,
        "start_time": "2025-01-09T23:58:21.975Z"
      },
      {
        "duration": 10,
        "start_time": "2025-01-09T23:58:21.983Z"
      },
      {
        "duration": 8,
        "start_time": "2025-01-09T23:58:21.995Z"
      },
      {
        "duration": 41,
        "start_time": "2025-01-09T23:58:22.005Z"
      },
      {
        "duration": 16,
        "start_time": "2025-01-09T23:58:22.047Z"
      },
      {
        "duration": 6,
        "start_time": "2025-01-09T23:58:22.066Z"
      },
      {
        "duration": 204,
        "start_time": "2025-01-09T23:58:22.074Z"
      },
      {
        "duration": 0,
        "start_time": "2025-01-09T23:58:22.280Z"
      },
      {
        "duration": 0,
        "start_time": "2025-01-09T23:58:22.281Z"
      },
      {
        "duration": 0,
        "start_time": "2025-01-09T23:58:22.282Z"
      },
      {
        "duration": 0,
        "start_time": "2025-01-09T23:58:22.284Z"
      },
      {
        "duration": 0,
        "start_time": "2025-01-09T23:58:22.285Z"
      },
      {
        "duration": 0,
        "start_time": "2025-01-09T23:58:22.286Z"
      },
      {
        "duration": 0,
        "start_time": "2025-01-09T23:58:22.287Z"
      },
      {
        "duration": 0,
        "start_time": "2025-01-09T23:58:22.288Z"
      },
      {
        "duration": 0,
        "start_time": "2025-01-09T23:58:22.289Z"
      },
      {
        "duration": 0,
        "start_time": "2025-01-09T23:58:22.290Z"
      },
      {
        "duration": 0,
        "start_time": "2025-01-09T23:58:22.291Z"
      },
      {
        "duration": 0,
        "start_time": "2025-01-09T23:58:22.292Z"
      },
      {
        "duration": 0,
        "start_time": "2025-01-09T23:58:22.293Z"
      },
      {
        "duration": 0,
        "start_time": "2025-01-09T23:58:22.295Z"
      },
      {
        "duration": 0,
        "start_time": "2025-01-09T23:58:22.296Z"
      },
      {
        "duration": 0,
        "start_time": "2025-01-09T23:58:22.297Z"
      },
      {
        "duration": 0,
        "start_time": "2025-01-09T23:58:22.299Z"
      },
      {
        "duration": 0,
        "start_time": "2025-01-09T23:58:22.300Z"
      },
      {
        "duration": 1,
        "start_time": "2025-01-09T23:58:22.301Z"
      },
      {
        "duration": 0,
        "start_time": "2025-01-09T23:58:22.303Z"
      },
      {
        "duration": 0,
        "start_time": "2025-01-09T23:58:22.305Z"
      },
      {
        "duration": 797,
        "start_time": "2025-01-09T23:58:59.746Z"
      },
      {
        "duration": 160,
        "start_time": "2025-01-09T23:59:00.546Z"
      },
      {
        "duration": 9,
        "start_time": "2025-01-09T23:59:00.708Z"
      },
      {
        "duration": 9,
        "start_time": "2025-01-09T23:59:00.719Z"
      },
      {
        "duration": 19,
        "start_time": "2025-01-09T23:59:00.729Z"
      },
      {
        "duration": 11,
        "start_time": "2025-01-09T23:59:00.750Z"
      },
      {
        "duration": 9,
        "start_time": "2025-01-09T23:59:00.763Z"
      },
      {
        "duration": 8,
        "start_time": "2025-01-09T23:59:00.774Z"
      },
      {
        "duration": 14,
        "start_time": "2025-01-09T23:59:00.784Z"
      },
      {
        "duration": 6,
        "start_time": "2025-01-09T23:59:00.801Z"
      },
      {
        "duration": 103,
        "start_time": "2025-01-09T23:59:00.843Z"
      },
      {
        "duration": 7,
        "start_time": "2025-01-09T23:59:00.948Z"
      },
      {
        "duration": 13,
        "start_time": "2025-01-09T23:59:00.956Z"
      },
      {
        "duration": 8,
        "start_time": "2025-01-09T23:59:00.970Z"
      },
      {
        "duration": 12,
        "start_time": "2025-01-09T23:59:00.980Z"
      },
      {
        "duration": 8,
        "start_time": "2025-01-09T23:59:00.993Z"
      },
      {
        "duration": 7,
        "start_time": "2025-01-09T23:59:01.003Z"
      },
      {
        "duration": 486,
        "start_time": "2025-01-09T23:59:01.045Z"
      },
      {
        "duration": 0,
        "start_time": "2025-01-09T23:59:01.533Z"
      },
      {
        "duration": 0,
        "start_time": "2025-01-09T23:59:01.534Z"
      },
      {
        "duration": 0,
        "start_time": "2025-01-09T23:59:01.535Z"
      },
      {
        "duration": 0,
        "start_time": "2025-01-09T23:59:01.543Z"
      },
      {
        "duration": 0,
        "start_time": "2025-01-09T23:59:01.544Z"
      },
      {
        "duration": 0,
        "start_time": "2025-01-09T23:59:01.545Z"
      },
      {
        "duration": 0,
        "start_time": "2025-01-09T23:59:01.546Z"
      },
      {
        "duration": 0,
        "start_time": "2025-01-09T23:59:01.547Z"
      },
      {
        "duration": 0,
        "start_time": "2025-01-09T23:59:01.549Z"
      },
      {
        "duration": 0,
        "start_time": "2025-01-09T23:59:01.549Z"
      },
      {
        "duration": 0,
        "start_time": "2025-01-09T23:59:01.551Z"
      },
      {
        "duration": 0,
        "start_time": "2025-01-09T23:59:01.552Z"
      },
      {
        "duration": 0,
        "start_time": "2025-01-09T23:59:01.554Z"
      },
      {
        "duration": 0,
        "start_time": "2025-01-09T23:59:01.555Z"
      },
      {
        "duration": 68,
        "start_time": "2025-01-10T00:02:25.298Z"
      },
      {
        "duration": 77,
        "start_time": "2025-01-10T00:05:41.236Z"
      },
      {
        "duration": 285,
        "start_time": "2025-01-10T00:06:00.755Z"
      },
      {
        "duration": 790,
        "start_time": "2025-01-10T00:06:23.241Z"
      },
      {
        "duration": 167,
        "start_time": "2025-01-10T00:06:24.033Z"
      },
      {
        "duration": 10,
        "start_time": "2025-01-10T00:06:24.201Z"
      },
      {
        "duration": 9,
        "start_time": "2025-01-10T00:06:24.212Z"
      },
      {
        "duration": 8,
        "start_time": "2025-01-10T00:06:24.242Z"
      },
      {
        "duration": 11,
        "start_time": "2025-01-10T00:06:24.251Z"
      },
      {
        "duration": 10,
        "start_time": "2025-01-10T00:06:24.263Z"
      },
      {
        "duration": 8,
        "start_time": "2025-01-10T00:06:24.274Z"
      },
      {
        "duration": 15,
        "start_time": "2025-01-10T00:06:24.284Z"
      },
      {
        "duration": 6,
        "start_time": "2025-01-10T00:06:24.301Z"
      },
      {
        "duration": 191,
        "start_time": "2025-01-10T00:06:24.308Z"
      },
      {
        "duration": 2,
        "start_time": "2025-01-10T00:06:24.501Z"
      },
      {
        "duration": 12,
        "start_time": "2025-01-10T00:06:24.504Z"
      },
      {
        "duration": 7,
        "start_time": "2025-01-10T00:06:24.546Z"
      },
      {
        "duration": 14,
        "start_time": "2025-01-10T00:06:24.554Z"
      },
      {
        "duration": 9,
        "start_time": "2025-01-10T00:06:24.569Z"
      },
      {
        "duration": 7,
        "start_time": "2025-01-10T00:06:24.579Z"
      },
      {
        "duration": 507,
        "start_time": "2025-01-10T00:06:24.588Z"
      },
      {
        "duration": 0,
        "start_time": "2025-01-10T00:06:25.097Z"
      },
      {
        "duration": 0,
        "start_time": "2025-01-10T00:06:25.098Z"
      },
      {
        "duration": 0,
        "start_time": "2025-01-10T00:06:25.099Z"
      },
      {
        "duration": 0,
        "start_time": "2025-01-10T00:06:25.100Z"
      },
      {
        "duration": 0,
        "start_time": "2025-01-10T00:06:25.102Z"
      },
      {
        "duration": 0,
        "start_time": "2025-01-10T00:06:25.103Z"
      },
      {
        "duration": 0,
        "start_time": "2025-01-10T00:06:25.104Z"
      },
      {
        "duration": 0,
        "start_time": "2025-01-10T00:06:25.105Z"
      },
      {
        "duration": 0,
        "start_time": "2025-01-10T00:06:25.106Z"
      },
      {
        "duration": 0,
        "start_time": "2025-01-10T00:06:25.106Z"
      },
      {
        "duration": 0,
        "start_time": "2025-01-10T00:06:25.107Z"
      },
      {
        "duration": 0,
        "start_time": "2025-01-10T00:06:25.109Z"
      },
      {
        "duration": 0,
        "start_time": "2025-01-10T00:06:25.111Z"
      },
      {
        "duration": 0,
        "start_time": "2025-01-10T00:06:25.112Z"
      },
      {
        "duration": 14,
        "start_time": "2025-01-10T00:14:36.238Z"
      },
      {
        "duration": 802,
        "start_time": "2025-01-10T00:16:09.217Z"
      },
      {
        "duration": 164,
        "start_time": "2025-01-10T00:16:10.021Z"
      },
      {
        "duration": 8,
        "start_time": "2025-01-10T00:16:10.187Z"
      },
      {
        "duration": 9,
        "start_time": "2025-01-10T00:16:10.198Z"
      },
      {
        "duration": 7,
        "start_time": "2025-01-10T00:16:10.210Z"
      },
      {
        "duration": 25,
        "start_time": "2025-01-10T00:16:10.219Z"
      },
      {
        "duration": 9,
        "start_time": "2025-01-10T00:16:10.246Z"
      },
      {
        "duration": 9,
        "start_time": "2025-01-10T00:16:10.256Z"
      },
      {
        "duration": 15,
        "start_time": "2025-01-10T00:16:10.266Z"
      },
      {
        "duration": 6,
        "start_time": "2025-01-10T00:16:10.283Z"
      },
      {
        "duration": 894,
        "start_time": "2025-01-10T00:16:10.291Z"
      },
      {
        "duration": 0,
        "start_time": "2025-01-10T00:16:11.188Z"
      },
      {
        "duration": 0,
        "start_time": "2025-01-10T00:16:11.189Z"
      },
      {
        "duration": 0,
        "start_time": "2025-01-10T00:16:11.190Z"
      },
      {
        "duration": 0,
        "start_time": "2025-01-10T00:16:11.191Z"
      },
      {
        "duration": 0,
        "start_time": "2025-01-10T00:16:11.193Z"
      },
      {
        "duration": 0,
        "start_time": "2025-01-10T00:16:11.193Z"
      },
      {
        "duration": 0,
        "start_time": "2025-01-10T00:16:11.194Z"
      },
      {
        "duration": 0,
        "start_time": "2025-01-10T00:16:11.195Z"
      },
      {
        "duration": 0,
        "start_time": "2025-01-10T00:16:11.196Z"
      },
      {
        "duration": 0,
        "start_time": "2025-01-10T00:16:11.197Z"
      },
      {
        "duration": 0,
        "start_time": "2025-01-10T00:16:11.199Z"
      },
      {
        "duration": 0,
        "start_time": "2025-01-10T00:16:11.201Z"
      },
      {
        "duration": 0,
        "start_time": "2025-01-10T00:16:11.202Z"
      },
      {
        "duration": 0,
        "start_time": "2025-01-10T00:16:11.204Z"
      },
      {
        "duration": 0,
        "start_time": "2025-01-10T00:16:11.205Z"
      },
      {
        "duration": 0,
        "start_time": "2025-01-10T00:16:11.207Z"
      },
      {
        "duration": 0,
        "start_time": "2025-01-10T00:16:11.208Z"
      },
      {
        "duration": 0,
        "start_time": "2025-01-10T00:16:11.209Z"
      },
      {
        "duration": 0,
        "start_time": "2025-01-10T00:16:11.243Z"
      },
      {
        "duration": 0,
        "start_time": "2025-01-10T00:16:11.244Z"
      },
      {
        "duration": 0,
        "start_time": "2025-01-10T00:16:11.245Z"
      },
      {
        "duration": 50,
        "start_time": "2025-01-10T00:16:42.583Z"
      },
      {
        "duration": 22,
        "start_time": "2025-01-10T00:18:45.756Z"
      },
      {
        "duration": 88,
        "start_time": "2025-01-10T00:19:06.587Z"
      },
      {
        "duration": 19,
        "start_time": "2025-01-10T00:20:43.680Z"
      },
      {
        "duration": 815,
        "start_time": "2025-01-10T00:21:00.411Z"
      },
      {
        "duration": 167,
        "start_time": "2025-01-10T00:21:01.228Z"
      },
      {
        "duration": 10,
        "start_time": "2025-01-10T00:21:01.397Z"
      },
      {
        "duration": 9,
        "start_time": "2025-01-10T00:21:01.409Z"
      },
      {
        "duration": 26,
        "start_time": "2025-01-10T00:21:01.420Z"
      },
      {
        "duration": 11,
        "start_time": "2025-01-10T00:21:01.448Z"
      },
      {
        "duration": 9,
        "start_time": "2025-01-10T00:21:01.460Z"
      },
      {
        "duration": 8,
        "start_time": "2025-01-10T00:21:01.470Z"
      },
      {
        "duration": 15,
        "start_time": "2025-01-10T00:21:01.479Z"
      },
      {
        "duration": 7,
        "start_time": "2025-01-10T00:21:01.496Z"
      },
      {
        "duration": 180,
        "start_time": "2025-01-10T00:21:01.504Z"
      },
      {
        "duration": 266,
        "start_time": "2025-01-10T00:21:01.686Z"
      },
      {
        "duration": 0,
        "start_time": "2025-01-10T00:21:01.954Z"
      },
      {
        "duration": 0,
        "start_time": "2025-01-10T00:21:01.955Z"
      },
      {
        "duration": 0,
        "start_time": "2025-01-10T00:21:01.957Z"
      },
      {
        "duration": 0,
        "start_time": "2025-01-10T00:21:01.958Z"
      },
      {
        "duration": 0,
        "start_time": "2025-01-10T00:21:01.960Z"
      },
      {
        "duration": 0,
        "start_time": "2025-01-10T00:21:01.961Z"
      },
      {
        "duration": 0,
        "start_time": "2025-01-10T00:21:01.963Z"
      },
      {
        "duration": 0,
        "start_time": "2025-01-10T00:21:01.967Z"
      },
      {
        "duration": 0,
        "start_time": "2025-01-10T00:21:01.968Z"
      },
      {
        "duration": 0,
        "start_time": "2025-01-10T00:21:01.969Z"
      },
      {
        "duration": 0,
        "start_time": "2025-01-10T00:21:01.970Z"
      },
      {
        "duration": 1,
        "start_time": "2025-01-10T00:21:01.971Z"
      },
      {
        "duration": 0,
        "start_time": "2025-01-10T00:21:01.972Z"
      },
      {
        "duration": 0,
        "start_time": "2025-01-10T00:21:01.973Z"
      },
      {
        "duration": 0,
        "start_time": "2025-01-10T00:21:01.975Z"
      },
      {
        "duration": 0,
        "start_time": "2025-01-10T00:21:01.976Z"
      },
      {
        "duration": 0,
        "start_time": "2025-01-10T00:21:01.978Z"
      },
      {
        "duration": 0,
        "start_time": "2025-01-10T00:21:01.979Z"
      },
      {
        "duration": 0,
        "start_time": "2025-01-10T00:21:01.981Z"
      },
      {
        "duration": 0,
        "start_time": "2025-01-10T00:21:01.982Z"
      },
      {
        "duration": 18,
        "start_time": "2025-01-10T00:21:19.426Z"
      },
      {
        "duration": 2593,
        "start_time": "2025-01-10T02:28:12.833Z"
      },
      {
        "duration": 211,
        "start_time": "2025-01-10T02:28:15.428Z"
      },
      {
        "duration": 9,
        "start_time": "2025-01-10T02:28:15.641Z"
      },
      {
        "duration": 9,
        "start_time": "2025-01-10T02:28:15.653Z"
      },
      {
        "duration": 9,
        "start_time": "2025-01-10T02:28:15.663Z"
      },
      {
        "duration": 10,
        "start_time": "2025-01-10T02:28:15.673Z"
      },
      {
        "duration": 26,
        "start_time": "2025-01-10T02:28:15.685Z"
      },
      {
        "duration": 9,
        "start_time": "2025-01-10T02:28:15.715Z"
      },
      {
        "duration": 19,
        "start_time": "2025-01-10T02:28:15.727Z"
      },
      {
        "duration": 7,
        "start_time": "2025-01-10T02:28:15.749Z"
      },
      {
        "duration": 165,
        "start_time": "2025-01-10T02:28:15.759Z"
      },
      {
        "duration": 227,
        "start_time": "2025-01-10T02:28:15.926Z"
      },
      {
        "duration": 0,
        "start_time": "2025-01-10T02:28:16.155Z"
      },
      {
        "duration": 0,
        "start_time": "2025-01-10T02:28:16.157Z"
      },
      {
        "duration": 0,
        "start_time": "2025-01-10T02:28:16.159Z"
      },
      {
        "duration": 0,
        "start_time": "2025-01-10T02:28:16.160Z"
      },
      {
        "duration": 0,
        "start_time": "2025-01-10T02:28:16.162Z"
      },
      {
        "duration": 0,
        "start_time": "2025-01-10T02:28:16.163Z"
      },
      {
        "duration": 1,
        "start_time": "2025-01-10T02:28:16.164Z"
      },
      {
        "duration": 0,
        "start_time": "2025-01-10T02:28:16.166Z"
      },
      {
        "duration": 0,
        "start_time": "2025-01-10T02:28:16.167Z"
      },
      {
        "duration": 0,
        "start_time": "2025-01-10T02:28:16.168Z"
      },
      {
        "duration": 0,
        "start_time": "2025-01-10T02:28:16.170Z"
      },
      {
        "duration": 0,
        "start_time": "2025-01-10T02:28:16.171Z"
      },
      {
        "duration": 0,
        "start_time": "2025-01-10T02:28:16.172Z"
      },
      {
        "duration": 0,
        "start_time": "2025-01-10T02:28:16.173Z"
      },
      {
        "duration": 0,
        "start_time": "2025-01-10T02:28:16.174Z"
      },
      {
        "duration": 0,
        "start_time": "2025-01-10T02:28:16.175Z"
      },
      {
        "duration": 0,
        "start_time": "2025-01-10T02:28:16.208Z"
      },
      {
        "duration": 0,
        "start_time": "2025-01-10T02:28:16.209Z"
      },
      {
        "duration": 0,
        "start_time": "2025-01-10T02:28:16.210Z"
      },
      {
        "duration": 0,
        "start_time": "2025-01-10T02:28:16.211Z"
      },
      {
        "duration": 75,
        "start_time": "2025-01-10T02:30:49.836Z"
      },
      {
        "duration": 13,
        "start_time": "2025-01-10T02:31:48.823Z"
      },
      {
        "duration": 15,
        "start_time": "2025-01-10T02:32:34.206Z"
      },
      {
        "duration": 8,
        "start_time": "2025-01-10T02:32:41.343Z"
      },
      {
        "duration": 43,
        "start_time": "2025-01-10T02:37:45.597Z"
      },
      {
        "duration": 25,
        "start_time": "2025-01-10T02:38:19.864Z"
      },
      {
        "duration": 12,
        "start_time": "2025-01-10T02:40:50.061Z"
      },
      {
        "duration": 10,
        "start_time": "2025-01-10T02:41:23.180Z"
      },
      {
        "duration": 14,
        "start_time": "2025-01-10T02:41:35.837Z"
      },
      {
        "duration": 9,
        "start_time": "2025-01-10T02:41:43.550Z"
      },
      {
        "duration": 74,
        "start_time": "2025-01-10T02:49:29.581Z"
      },
      {
        "duration": 12,
        "start_time": "2025-01-10T02:51:55.831Z"
      },
      {
        "duration": 8,
        "start_time": "2025-01-10T02:53:28.957Z"
      },
      {
        "duration": 458,
        "start_time": "2025-01-10T02:54:09.379Z"
      },
      {
        "duration": 76,
        "start_time": "2025-01-10T02:55:10.023Z"
      },
      {
        "duration": 38,
        "start_time": "2025-01-10T02:57:32.053Z"
      },
      {
        "duration": 35,
        "start_time": "2025-01-10T02:57:56.253Z"
      },
      {
        "duration": 40,
        "start_time": "2025-01-10T02:59:01.267Z"
      },
      {
        "duration": 254,
        "start_time": "2025-01-10T03:03:00.707Z"
      },
      {
        "duration": 79,
        "start_time": "2025-01-10T03:03:14.559Z"
      },
      {
        "duration": 80,
        "start_time": "2025-01-10T03:03:31.576Z"
      },
      {
        "duration": 49,
        "start_time": "2025-01-10T03:03:48.134Z"
      },
      {
        "duration": 48,
        "start_time": "2025-01-10T03:04:27.649Z"
      },
      {
        "duration": 52,
        "start_time": "2025-01-10T03:09:37.374Z"
      },
      {
        "duration": 59,
        "start_time": "2025-01-10T03:09:58.962Z"
      },
      {
        "duration": 44,
        "start_time": "2025-01-10T03:13:57.614Z"
      },
      {
        "duration": 43,
        "start_time": "2025-01-10T03:14:08.633Z"
      },
      {
        "duration": 436,
        "start_time": "2025-01-10T03:22:00.336Z"
      },
      {
        "duration": 71,
        "start_time": "2025-01-10T03:24:07.555Z"
      },
      {
        "duration": 66,
        "start_time": "2025-01-10T03:24:33.677Z"
      },
      {
        "duration": 38,
        "start_time": "2025-01-10T03:25:25.432Z"
      },
      {
        "duration": 49,
        "start_time": "2025-01-10T03:26:01.982Z"
      },
      {
        "duration": 39,
        "start_time": "2025-01-10T03:26:22.332Z"
      },
      {
        "duration": 38,
        "start_time": "2025-01-10T03:27:01.418Z"
      },
      {
        "duration": 124,
        "start_time": "2025-01-10T03:29:07.798Z"
      },
      {
        "duration": 37,
        "start_time": "2025-01-10T03:29:18.166Z"
      },
      {
        "duration": 69,
        "start_time": "2025-01-10T03:30:27.911Z"
      },
      {
        "duration": 34,
        "start_time": "2025-01-10T03:33:07.832Z"
      },
      {
        "duration": 33,
        "start_time": "2025-01-10T03:33:22.616Z"
      },
      {
        "duration": 32,
        "start_time": "2025-01-10T03:38:02.572Z"
      },
      {
        "duration": 34,
        "start_time": "2025-01-10T03:42:10.672Z"
      },
      {
        "duration": 21,
        "start_time": "2025-01-10T03:44:29.760Z"
      },
      {
        "duration": 7,
        "start_time": "2025-01-10T03:46:01.839Z"
      },
      {
        "duration": 20,
        "start_time": "2025-01-10T03:47:10.702Z"
      },
      {
        "duration": 816,
        "start_time": "2025-01-10T03:47:48.234Z"
      },
      {
        "duration": 163,
        "start_time": "2025-01-10T03:47:49.052Z"
      },
      {
        "duration": 9,
        "start_time": "2025-01-10T03:47:49.216Z"
      },
      {
        "duration": 10,
        "start_time": "2025-01-10T03:47:49.227Z"
      },
      {
        "duration": 8,
        "start_time": "2025-01-10T03:47:49.239Z"
      },
      {
        "duration": 11,
        "start_time": "2025-01-10T03:47:49.248Z"
      },
      {
        "duration": 9,
        "start_time": "2025-01-10T03:47:49.261Z"
      },
      {
        "duration": 38,
        "start_time": "2025-01-10T03:47:49.271Z"
      },
      {
        "duration": 16,
        "start_time": "2025-01-10T03:47:49.311Z"
      },
      {
        "duration": 6,
        "start_time": "2025-01-10T03:47:49.328Z"
      },
      {
        "duration": 163,
        "start_time": "2025-01-10T03:47:49.336Z"
      },
      {
        "duration": 12,
        "start_time": "2025-01-10T03:47:49.509Z"
      },
      {
        "duration": 11,
        "start_time": "2025-01-10T03:47:49.523Z"
      },
      {
        "duration": 7,
        "start_time": "2025-01-10T03:47:49.537Z"
      },
      {
        "duration": 78,
        "start_time": "2025-01-10T03:47:49.545Z"
      },
      {
        "duration": 9,
        "start_time": "2025-01-10T03:47:49.624Z"
      },
      {
        "duration": 13,
        "start_time": "2025-01-10T03:47:49.634Z"
      },
      {
        "duration": 9,
        "start_time": "2025-01-10T03:47:49.649Z"
      },
      {
        "duration": 101,
        "start_time": "2025-01-10T03:47:49.659Z"
      },
      {
        "duration": 15,
        "start_time": "2025-01-10T03:47:49.762Z"
      },
      {
        "duration": 7,
        "start_time": "2025-01-10T03:47:49.779Z"
      },
      {
        "duration": 61,
        "start_time": "2025-01-10T03:47:49.788Z"
      },
      {
        "duration": 37,
        "start_time": "2025-01-10T03:47:49.852Z"
      },
      {
        "duration": 45,
        "start_time": "2025-01-10T03:47:49.890Z"
      },
      {
        "duration": 36,
        "start_time": "2025-01-10T03:47:49.937Z"
      },
      {
        "duration": 288,
        "start_time": "2025-01-10T03:47:49.975Z"
      },
      {
        "duration": 0,
        "start_time": "2025-01-10T03:47:50.265Z"
      },
      {
        "duration": 0,
        "start_time": "2025-01-10T03:47:50.266Z"
      },
      {
        "duration": 1,
        "start_time": "2025-01-10T03:47:50.267Z"
      },
      {
        "duration": 0,
        "start_time": "2025-01-10T03:47:50.269Z"
      },
      {
        "duration": 0,
        "start_time": "2025-01-10T03:47:50.271Z"
      },
      {
        "duration": 1,
        "start_time": "2025-01-10T03:47:50.272Z"
      },
      {
        "duration": 0,
        "start_time": "2025-01-10T03:47:50.274Z"
      },
      {
        "duration": 0,
        "start_time": "2025-01-10T03:47:50.275Z"
      },
      {
        "duration": 0,
        "start_time": "2025-01-10T03:47:50.277Z"
      },
      {
        "duration": 0,
        "start_time": "2025-01-10T03:47:50.278Z"
      },
      {
        "duration": 22,
        "start_time": "2025-01-10T03:48:20.366Z"
      },
      {
        "duration": 19,
        "start_time": "2025-01-10T03:49:17.876Z"
      },
      {
        "duration": 21,
        "start_time": "2025-01-10T03:49:55.930Z"
      },
      {
        "duration": 35,
        "start_time": "2025-01-10T03:50:57.521Z"
      },
      {
        "duration": 41,
        "start_time": "2025-01-10T03:54:24.262Z"
      },
      {
        "duration": 41,
        "start_time": "2025-01-10T03:54:37.436Z"
      },
      {
        "duration": 39,
        "start_time": "2025-01-10T03:54:43.780Z"
      },
      {
        "duration": 38,
        "start_time": "2025-01-10T03:54:56.802Z"
      },
      {
        "duration": 34,
        "start_time": "2025-01-10T03:56:38.929Z"
      },
      {
        "duration": 52,
        "start_time": "2025-01-10T03:59:47.182Z"
      },
      {
        "duration": 39,
        "start_time": "2025-01-10T04:00:10.331Z"
      },
      {
        "duration": 42,
        "start_time": "2025-01-10T04:00:35.258Z"
      },
      {
        "duration": 802,
        "start_time": "2025-01-10T04:06:07.790Z"
      },
      {
        "duration": 156,
        "start_time": "2025-01-10T04:06:08.594Z"
      },
      {
        "duration": 9,
        "start_time": "2025-01-10T04:06:08.753Z"
      },
      {
        "duration": 9,
        "start_time": "2025-01-10T04:06:08.765Z"
      },
      {
        "duration": 7,
        "start_time": "2025-01-10T04:06:08.776Z"
      },
      {
        "duration": 28,
        "start_time": "2025-01-10T04:06:08.785Z"
      },
      {
        "duration": 11,
        "start_time": "2025-01-10T04:06:08.815Z"
      },
      {
        "duration": 9,
        "start_time": "2025-01-10T04:06:08.828Z"
      },
      {
        "duration": 17,
        "start_time": "2025-01-10T04:06:08.839Z"
      },
      {
        "duration": 6,
        "start_time": "2025-01-10T04:06:08.859Z"
      },
      {
        "duration": 171,
        "start_time": "2025-01-10T04:06:08.866Z"
      },
      {
        "duration": 12,
        "start_time": "2025-01-10T04:06:09.039Z"
      },
      {
        "duration": 11,
        "start_time": "2025-01-10T04:06:09.053Z"
      },
      {
        "duration": 9,
        "start_time": "2025-01-10T04:06:09.065Z"
      },
      {
        "duration": 79,
        "start_time": "2025-01-10T04:06:09.075Z"
      },
      {
        "duration": 9,
        "start_time": "2025-01-10T04:06:09.155Z"
      },
      {
        "duration": 14,
        "start_time": "2025-01-10T04:06:09.165Z"
      },
      {
        "duration": 28,
        "start_time": "2025-01-10T04:06:09.181Z"
      },
      {
        "duration": 74,
        "start_time": "2025-01-10T04:06:09.211Z"
      },
      {
        "duration": 23,
        "start_time": "2025-01-10T04:06:09.286Z"
      },
      {
        "duration": 6,
        "start_time": "2025-01-10T04:06:09.311Z"
      },
      {
        "duration": 46,
        "start_time": "2025-01-10T04:06:09.319Z"
      },
      {
        "duration": 59,
        "start_time": "2025-01-10T04:06:09.367Z"
      },
      {
        "duration": 31,
        "start_time": "2025-01-10T04:06:09.428Z"
      },
      {
        "duration": 324,
        "start_time": "2025-01-10T04:06:09.460Z"
      },
      {
        "duration": 0,
        "start_time": "2025-01-10T04:06:09.787Z"
      },
      {
        "duration": 0,
        "start_time": "2025-01-10T04:06:09.788Z"
      },
      {
        "duration": 0,
        "start_time": "2025-01-10T04:06:09.790Z"
      },
      {
        "duration": 0,
        "start_time": "2025-01-10T04:06:09.791Z"
      },
      {
        "duration": 1,
        "start_time": "2025-01-10T04:06:09.792Z"
      },
      {
        "duration": 0,
        "start_time": "2025-01-10T04:06:09.794Z"
      },
      {
        "duration": 0,
        "start_time": "2025-01-10T04:06:09.795Z"
      },
      {
        "duration": 0,
        "start_time": "2025-01-10T04:06:09.809Z"
      },
      {
        "duration": 0,
        "start_time": "2025-01-10T04:06:09.810Z"
      },
      {
        "duration": 0,
        "start_time": "2025-01-10T04:06:09.812Z"
      },
      {
        "duration": 0,
        "start_time": "2025-01-10T04:06:09.813Z"
      },
      {
        "duration": 791,
        "start_time": "2025-01-10T04:07:21.305Z"
      },
      {
        "duration": 152,
        "start_time": "2025-01-10T04:07:22.098Z"
      },
      {
        "duration": 9,
        "start_time": "2025-01-10T04:07:22.252Z"
      },
      {
        "duration": 9,
        "start_time": "2025-01-10T04:07:22.264Z"
      },
      {
        "duration": 8,
        "start_time": "2025-01-10T04:07:22.274Z"
      },
      {
        "duration": 31,
        "start_time": "2025-01-10T04:07:22.283Z"
      },
      {
        "duration": 9,
        "start_time": "2025-01-10T04:07:22.315Z"
      },
      {
        "duration": 8,
        "start_time": "2025-01-10T04:07:22.325Z"
      },
      {
        "duration": 14,
        "start_time": "2025-01-10T04:07:22.335Z"
      },
      {
        "duration": 5,
        "start_time": "2025-01-10T04:07:22.352Z"
      },
      {
        "duration": 175,
        "start_time": "2025-01-10T04:07:22.359Z"
      },
      {
        "duration": 12,
        "start_time": "2025-01-10T04:07:22.536Z"
      },
      {
        "duration": 12,
        "start_time": "2025-01-10T04:07:22.549Z"
      },
      {
        "duration": 8,
        "start_time": "2025-01-10T04:07:22.563Z"
      },
      {
        "duration": 86,
        "start_time": "2025-01-10T04:07:22.572Z"
      },
      {
        "duration": 10,
        "start_time": "2025-01-10T04:07:22.660Z"
      },
      {
        "duration": 13,
        "start_time": "2025-01-10T04:07:22.671Z"
      },
      {
        "duration": 28,
        "start_time": "2025-01-10T04:07:22.686Z"
      },
      {
        "duration": 75,
        "start_time": "2025-01-10T04:07:22.715Z"
      },
      {
        "duration": 25,
        "start_time": "2025-01-10T04:07:22.792Z"
      },
      {
        "duration": 8,
        "start_time": "2025-01-10T04:07:22.819Z"
      },
      {
        "duration": 44,
        "start_time": "2025-01-10T04:07:22.828Z"
      },
      {
        "duration": 57,
        "start_time": "2025-01-10T04:07:22.873Z"
      },
      {
        "duration": 31,
        "start_time": "2025-01-10T04:07:22.933Z"
      },
      {
        "duration": 57,
        "start_time": "2025-01-10T04:07:22.966Z"
      },
      {
        "duration": 280,
        "start_time": "2025-01-10T04:07:23.025Z"
      },
      {
        "duration": 0,
        "start_time": "2025-01-10T04:07:23.309Z"
      },
      {
        "duration": 0,
        "start_time": "2025-01-10T04:07:23.310Z"
      },
      {
        "duration": 0,
        "start_time": "2025-01-10T04:07:23.311Z"
      },
      {
        "duration": 0,
        "start_time": "2025-01-10T04:07:23.312Z"
      },
      {
        "duration": 0,
        "start_time": "2025-01-10T04:07:23.313Z"
      },
      {
        "duration": 0,
        "start_time": "2025-01-10T04:07:23.314Z"
      },
      {
        "duration": 0,
        "start_time": "2025-01-10T04:07:23.315Z"
      },
      {
        "duration": 0,
        "start_time": "2025-01-10T04:07:23.316Z"
      },
      {
        "duration": 0,
        "start_time": "2025-01-10T04:07:23.317Z"
      },
      {
        "duration": 0,
        "start_time": "2025-01-10T04:07:23.318Z"
      },
      {
        "duration": 37,
        "start_time": "2025-01-10T04:07:39.796Z"
      },
      {
        "duration": 35,
        "start_time": "2025-01-10T04:10:31.622Z"
      },
      {
        "duration": 560,
        "start_time": "2025-01-10T04:13:06.145Z"
      },
      {
        "duration": 36,
        "start_time": "2025-01-10T04:13:35.626Z"
      },
      {
        "duration": 6,
        "start_time": "2025-01-10T04:14:08.007Z"
      },
      {
        "duration": 70,
        "start_time": "2025-01-10T04:14:26.268Z"
      },
      {
        "duration": 36,
        "start_time": "2025-01-10T04:14:59.686Z"
      },
      {
        "duration": 14,
        "start_time": "2025-01-10T04:17:53.928Z"
      },
      {
        "duration": 25,
        "start_time": "2025-01-10T04:18:06.101Z"
      },
      {
        "duration": 21,
        "start_time": "2025-01-10T04:19:20.559Z"
      },
      {
        "duration": 466,
        "start_time": "2025-01-10T04:23:01.557Z"
      },
      {
        "duration": 28,
        "start_time": "2025-01-10T04:23:23.331Z"
      },
      {
        "duration": 23,
        "start_time": "2025-01-10T04:24:32.282Z"
      },
      {
        "duration": 820,
        "start_time": "2025-01-10T04:25:29.268Z"
      },
      {
        "duration": 164,
        "start_time": "2025-01-10T04:25:30.090Z"
      },
      {
        "duration": 10,
        "start_time": "2025-01-10T04:25:30.256Z"
      },
      {
        "duration": 10,
        "start_time": "2025-01-10T04:25:30.268Z"
      },
      {
        "duration": 8,
        "start_time": "2025-01-10T04:25:30.279Z"
      },
      {
        "duration": 25,
        "start_time": "2025-01-10T04:25:30.289Z"
      },
      {
        "duration": 10,
        "start_time": "2025-01-10T04:25:30.315Z"
      },
      {
        "duration": 8,
        "start_time": "2025-01-10T04:25:30.327Z"
      },
      {
        "duration": 15,
        "start_time": "2025-01-10T04:25:30.336Z"
      },
      {
        "duration": 6,
        "start_time": "2025-01-10T04:25:30.353Z"
      },
      {
        "duration": 175,
        "start_time": "2025-01-10T04:25:30.361Z"
      },
      {
        "duration": 12,
        "start_time": "2025-01-10T04:25:30.538Z"
      },
      {
        "duration": 11,
        "start_time": "2025-01-10T04:25:30.552Z"
      },
      {
        "duration": 8,
        "start_time": "2025-01-10T04:25:30.564Z"
      },
      {
        "duration": 79,
        "start_time": "2025-01-10T04:25:30.575Z"
      },
      {
        "duration": 8,
        "start_time": "2025-01-10T04:25:30.656Z"
      },
      {
        "duration": 14,
        "start_time": "2025-01-10T04:25:30.665Z"
      },
      {
        "duration": 29,
        "start_time": "2025-01-10T04:25:30.681Z"
      },
      {
        "duration": 76,
        "start_time": "2025-01-10T04:25:30.711Z"
      },
      {
        "duration": 26,
        "start_time": "2025-01-10T04:25:30.789Z"
      },
      {
        "duration": 7,
        "start_time": "2025-01-10T04:25:30.817Z"
      },
      {
        "duration": 45,
        "start_time": "2025-01-10T04:25:30.826Z"
      },
      {
        "duration": 57,
        "start_time": "2025-01-10T04:25:30.874Z"
      },
      {
        "duration": 32,
        "start_time": "2025-01-10T04:25:30.933Z"
      },
      {
        "duration": 55,
        "start_time": "2025-01-10T04:25:30.967Z"
      },
      {
        "duration": 35,
        "start_time": "2025-01-10T04:25:31.024Z"
      },
      {
        "duration": 24,
        "start_time": "2025-01-10T04:25:31.060Z"
      },
      {
        "duration": 289,
        "start_time": "2025-01-10T04:25:31.087Z"
      },
      {
        "duration": 0,
        "start_time": "2025-01-10T04:25:31.378Z"
      },
      {
        "duration": 0,
        "start_time": "2025-01-10T04:25:31.379Z"
      },
      {
        "duration": 0,
        "start_time": "2025-01-10T04:25:31.381Z"
      },
      {
        "duration": 0,
        "start_time": "2025-01-10T04:25:31.382Z"
      },
      {
        "duration": 0,
        "start_time": "2025-01-10T04:25:31.384Z"
      },
      {
        "duration": 0,
        "start_time": "2025-01-10T04:25:31.385Z"
      },
      {
        "duration": 0,
        "start_time": "2025-01-10T04:25:31.387Z"
      },
      {
        "duration": 0,
        "start_time": "2025-01-10T04:25:31.388Z"
      },
      {
        "duration": 688,
        "start_time": "2025-01-10T04:26:15.417Z"
      },
      {
        "duration": 878,
        "start_time": "2025-01-10T04:26:42.227Z"
      },
      {
        "duration": 165,
        "start_time": "2025-01-10T04:26:43.108Z"
      },
      {
        "duration": 11,
        "start_time": "2025-01-10T04:26:43.275Z"
      },
      {
        "duration": 12,
        "start_time": "2025-01-10T04:26:43.288Z"
      },
      {
        "duration": 9,
        "start_time": "2025-01-10T04:26:43.309Z"
      },
      {
        "duration": 13,
        "start_time": "2025-01-10T04:26:43.320Z"
      },
      {
        "duration": 9,
        "start_time": "2025-01-10T04:26:43.334Z"
      },
      {
        "duration": 7,
        "start_time": "2025-01-10T04:26:43.345Z"
      },
      {
        "duration": 21,
        "start_time": "2025-01-10T04:26:43.354Z"
      },
      {
        "duration": 38,
        "start_time": "2025-01-10T04:26:43.379Z"
      },
      {
        "duration": 187,
        "start_time": "2025-01-10T04:26:43.422Z"
      },
      {
        "duration": 14,
        "start_time": "2025-01-10T04:26:43.611Z"
      },
      {
        "duration": 13,
        "start_time": "2025-01-10T04:26:43.626Z"
      },
      {
        "duration": 7,
        "start_time": "2025-01-10T04:26:43.641Z"
      },
      {
        "duration": 82,
        "start_time": "2025-01-10T04:26:43.650Z"
      },
      {
        "duration": 9,
        "start_time": "2025-01-10T04:26:43.734Z"
      },
      {
        "duration": 18,
        "start_time": "2025-01-10T04:26:43.745Z"
      },
      {
        "duration": 15,
        "start_time": "2025-01-10T04:26:43.764Z"
      },
      {
        "duration": 100,
        "start_time": "2025-01-10T04:26:43.781Z"
      },
      {
        "duration": 14,
        "start_time": "2025-01-10T04:26:43.882Z"
      },
      {
        "duration": 9,
        "start_time": "2025-01-10T04:26:43.908Z"
      },
      {
        "duration": 64,
        "start_time": "2025-01-10T04:26:43.919Z"
      },
      {
        "duration": 54,
        "start_time": "2025-01-10T04:26:43.986Z"
      },
      {
        "duration": 51,
        "start_time": "2025-01-10T04:26:44.041Z"
      },
      {
        "duration": 62,
        "start_time": "2025-01-10T04:26:44.094Z"
      },
      {
        "duration": 64,
        "start_time": "2025-01-10T04:26:44.159Z"
      },
      {
        "duration": 31,
        "start_time": "2025-01-10T04:26:44.224Z"
      },
      {
        "duration": 332,
        "start_time": "2025-01-10T04:26:44.260Z"
      },
      {
        "duration": 0,
        "start_time": "2025-01-10T04:26:44.594Z"
      },
      {
        "duration": 0,
        "start_time": "2025-01-10T04:26:44.596Z"
      },
      {
        "duration": 0,
        "start_time": "2025-01-10T04:26:44.597Z"
      },
      {
        "duration": 0,
        "start_time": "2025-01-10T04:26:44.609Z"
      },
      {
        "duration": 0,
        "start_time": "2025-01-10T04:26:44.610Z"
      },
      {
        "duration": 0,
        "start_time": "2025-01-10T04:26:44.611Z"
      },
      {
        "duration": 0,
        "start_time": "2025-01-10T04:26:44.612Z"
      },
      {
        "duration": 0,
        "start_time": "2025-01-10T04:26:44.614Z"
      },
      {
        "duration": 18,
        "start_time": "2025-01-10T04:40:12.077Z"
      },
      {
        "duration": 795,
        "start_time": "2025-01-10T04:40:39.500Z"
      },
      {
        "duration": 163,
        "start_time": "2025-01-10T04:40:40.297Z"
      },
      {
        "duration": 10,
        "start_time": "2025-01-10T04:40:40.461Z"
      },
      {
        "duration": 10,
        "start_time": "2025-01-10T04:40:40.473Z"
      },
      {
        "duration": 8,
        "start_time": "2025-01-10T04:40:40.484Z"
      },
      {
        "duration": 9,
        "start_time": "2025-01-10T04:40:40.508Z"
      },
      {
        "duration": 9,
        "start_time": "2025-01-10T04:40:40.519Z"
      },
      {
        "duration": 7,
        "start_time": "2025-01-10T04:40:40.531Z"
      },
      {
        "duration": 14,
        "start_time": "2025-01-10T04:40:40.540Z"
      },
      {
        "duration": 6,
        "start_time": "2025-01-10T04:40:40.557Z"
      },
      {
        "duration": 194,
        "start_time": "2025-01-10T04:40:40.564Z"
      },
      {
        "duration": 12,
        "start_time": "2025-01-10T04:40:40.760Z"
      },
      {
        "duration": 12,
        "start_time": "2025-01-10T04:40:40.774Z"
      },
      {
        "duration": 8,
        "start_time": "2025-01-10T04:40:40.809Z"
      },
      {
        "duration": 55,
        "start_time": "2025-01-10T04:40:40.818Z"
      },
      {
        "duration": 8,
        "start_time": "2025-01-10T04:40:40.875Z"
      },
      {
        "duration": 36,
        "start_time": "2025-01-10T04:40:40.884Z"
      },
      {
        "duration": 8,
        "start_time": "2025-01-10T04:40:40.922Z"
      },
      {
        "duration": 90,
        "start_time": "2025-01-10T04:40:40.931Z"
      },
      {
        "duration": 10,
        "start_time": "2025-01-10T04:40:41.023Z"
      },
      {
        "duration": 7,
        "start_time": "2025-01-10T04:40:41.034Z"
      },
      {
        "duration": 67,
        "start_time": "2025-01-10T04:40:41.042Z"
      },
      {
        "duration": 37,
        "start_time": "2025-01-10T04:40:41.111Z"
      },
      {
        "duration": 33,
        "start_time": "2025-01-10T04:40:41.150Z"
      },
      {
        "duration": 55,
        "start_time": "2025-01-10T04:40:41.184Z"
      },
      {
        "duration": 37,
        "start_time": "2025-01-10T04:40:41.241Z"
      },
      {
        "duration": 42,
        "start_time": "2025-01-10T04:40:41.279Z"
      },
      {
        "duration": 144,
        "start_time": "2025-01-10T04:40:41.326Z"
      },
      {
        "duration": 0,
        "start_time": "2025-01-10T04:40:41.472Z"
      },
      {
        "duration": 0,
        "start_time": "2025-01-10T04:40:41.473Z"
      },
      {
        "duration": 0,
        "start_time": "2025-01-10T04:40:41.475Z"
      },
      {
        "duration": 0,
        "start_time": "2025-01-10T04:40:41.476Z"
      },
      {
        "duration": 0,
        "start_time": "2025-01-10T04:40:41.476Z"
      },
      {
        "duration": 0,
        "start_time": "2025-01-10T04:40:41.477Z"
      },
      {
        "duration": 0,
        "start_time": "2025-01-10T04:40:41.478Z"
      },
      {
        "duration": 0,
        "start_time": "2025-01-10T04:40:41.479Z"
      },
      {
        "duration": 15,
        "start_time": "2025-01-10T04:41:03.648Z"
      },
      {
        "duration": 15,
        "start_time": "2025-01-10T04:43:19.005Z"
      },
      {
        "duration": 17,
        "start_time": "2025-01-10T04:44:03.141Z"
      },
      {
        "duration": 15,
        "start_time": "2025-01-10T04:44:48.148Z"
      },
      {
        "duration": 16,
        "start_time": "2025-01-10T04:45:14.379Z"
      },
      {
        "duration": 17,
        "start_time": "2025-01-10T04:45:42.516Z"
      },
      {
        "duration": 806,
        "start_time": "2025-01-10T04:46:05.282Z"
      },
      {
        "duration": 156,
        "start_time": "2025-01-10T04:46:06.090Z"
      },
      {
        "duration": 10,
        "start_time": "2025-01-10T04:46:06.247Z"
      },
      {
        "duration": 11,
        "start_time": "2025-01-10T04:46:06.259Z"
      },
      {
        "duration": 9,
        "start_time": "2025-01-10T04:46:06.272Z"
      },
      {
        "duration": 33,
        "start_time": "2025-01-10T04:46:06.283Z"
      },
      {
        "duration": 10,
        "start_time": "2025-01-10T04:46:06.318Z"
      },
      {
        "duration": 8,
        "start_time": "2025-01-10T04:46:06.329Z"
      },
      {
        "duration": 15,
        "start_time": "2025-01-10T04:46:06.339Z"
      },
      {
        "duration": 6,
        "start_time": "2025-01-10T04:46:06.356Z"
      },
      {
        "duration": 182,
        "start_time": "2025-01-10T04:46:06.364Z"
      },
      {
        "duration": 12,
        "start_time": "2025-01-10T04:46:06.547Z"
      },
      {
        "duration": 12,
        "start_time": "2025-01-10T04:46:06.561Z"
      },
      {
        "duration": 7,
        "start_time": "2025-01-10T04:46:06.575Z"
      },
      {
        "duration": 75,
        "start_time": "2025-01-10T04:46:06.583Z"
      },
      {
        "duration": 9,
        "start_time": "2025-01-10T04:46:06.660Z"
      },
      {
        "duration": 13,
        "start_time": "2025-01-10T04:46:06.671Z"
      },
      {
        "duration": 29,
        "start_time": "2025-01-10T04:46:06.686Z"
      },
      {
        "duration": 74,
        "start_time": "2025-01-10T04:46:06.716Z"
      },
      {
        "duration": 22,
        "start_time": "2025-01-10T04:46:06.792Z"
      },
      {
        "duration": 7,
        "start_time": "2025-01-10T04:46:06.816Z"
      },
      {
        "duration": 46,
        "start_time": "2025-01-10T04:46:06.825Z"
      },
      {
        "duration": 59,
        "start_time": "2025-01-10T04:46:06.873Z"
      },
      {
        "duration": 31,
        "start_time": "2025-01-10T04:46:06.933Z"
      },
      {
        "duration": 59,
        "start_time": "2025-01-10T04:46:06.966Z"
      },
      {
        "duration": 37,
        "start_time": "2025-01-10T04:46:07.026Z"
      },
      {
        "duration": 23,
        "start_time": "2025-01-10T04:46:07.065Z"
      },
      {
        "duration": 154,
        "start_time": "2025-01-10T04:46:07.108Z"
      },
      {
        "duration": 0,
        "start_time": "2025-01-10T04:46:07.263Z"
      },
      {
        "duration": 0,
        "start_time": "2025-01-10T04:46:07.265Z"
      },
      {
        "duration": 0,
        "start_time": "2025-01-10T04:46:07.266Z"
      },
      {
        "duration": 0,
        "start_time": "2025-01-10T04:46:07.267Z"
      },
      {
        "duration": 0,
        "start_time": "2025-01-10T04:46:07.268Z"
      },
      {
        "duration": 0,
        "start_time": "2025-01-10T04:46:07.270Z"
      },
      {
        "duration": 0,
        "start_time": "2025-01-10T04:46:07.271Z"
      },
      {
        "duration": 0,
        "start_time": "2025-01-10T04:46:07.273Z"
      },
      {
        "duration": 16,
        "start_time": "2025-01-10T04:48:11.395Z"
      },
      {
        "duration": 17,
        "start_time": "2025-01-10T04:49:04.598Z"
      },
      {
        "duration": 17,
        "start_time": "2025-01-10T04:49:32.858Z"
      },
      {
        "duration": 17,
        "start_time": "2025-01-10T04:49:46.846Z"
      },
      {
        "duration": 16,
        "start_time": "2025-01-10T04:49:58.931Z"
      },
      {
        "duration": 15,
        "start_time": "2025-01-10T04:50:22.546Z"
      },
      {
        "duration": 16,
        "start_time": "2025-01-10T04:51:33.802Z"
      },
      {
        "duration": 810,
        "start_time": "2025-01-10T04:51:53.686Z"
      },
      {
        "duration": 157,
        "start_time": "2025-01-10T04:51:54.498Z"
      },
      {
        "duration": 10,
        "start_time": "2025-01-10T04:51:54.657Z"
      },
      {
        "duration": 10,
        "start_time": "2025-01-10T04:51:54.668Z"
      },
      {
        "duration": 8,
        "start_time": "2025-01-10T04:51:54.681Z"
      },
      {
        "duration": 27,
        "start_time": "2025-01-10T04:51:54.691Z"
      },
      {
        "duration": 9,
        "start_time": "2025-01-10T04:51:54.720Z"
      },
      {
        "duration": 8,
        "start_time": "2025-01-10T04:51:54.730Z"
      },
      {
        "duration": 15,
        "start_time": "2025-01-10T04:51:54.740Z"
      },
      {
        "duration": 6,
        "start_time": "2025-01-10T04:51:54.757Z"
      },
      {
        "duration": 183,
        "start_time": "2025-01-10T04:51:54.765Z"
      },
      {
        "duration": 12,
        "start_time": "2025-01-10T04:51:54.950Z"
      },
      {
        "duration": 12,
        "start_time": "2025-01-10T04:51:54.964Z"
      },
      {
        "duration": 30,
        "start_time": "2025-01-10T04:51:54.979Z"
      },
      {
        "duration": 56,
        "start_time": "2025-01-10T04:51:55.010Z"
      },
      {
        "duration": 9,
        "start_time": "2025-01-10T04:51:55.067Z"
      },
      {
        "duration": 32,
        "start_time": "2025-01-10T04:51:55.077Z"
      },
      {
        "duration": 8,
        "start_time": "2025-01-10T04:51:55.110Z"
      },
      {
        "duration": 73,
        "start_time": "2025-01-10T04:51:55.120Z"
      },
      {
        "duration": 23,
        "start_time": "2025-01-10T04:51:55.195Z"
      },
      {
        "duration": 8,
        "start_time": "2025-01-10T04:51:55.219Z"
      },
      {
        "duration": 46,
        "start_time": "2025-01-10T04:51:55.229Z"
      },
      {
        "duration": 63,
        "start_time": "2025-01-10T04:51:55.277Z"
      },
      {
        "duration": 31,
        "start_time": "2025-01-10T04:51:55.343Z"
      },
      {
        "duration": 56,
        "start_time": "2025-01-10T04:51:55.376Z"
      },
      {
        "duration": 38,
        "start_time": "2025-01-10T04:51:55.433Z"
      },
      {
        "duration": 43,
        "start_time": "2025-01-10T04:51:55.474Z"
      },
      {
        "duration": 130,
        "start_time": "2025-01-10T04:51:55.519Z"
      },
      {
        "duration": 0,
        "start_time": "2025-01-10T04:51:55.651Z"
      },
      {
        "duration": 0,
        "start_time": "2025-01-10T04:51:55.652Z"
      },
      {
        "duration": 0,
        "start_time": "2025-01-10T04:51:55.654Z"
      },
      {
        "duration": 0,
        "start_time": "2025-01-10T04:51:55.655Z"
      },
      {
        "duration": 1,
        "start_time": "2025-01-10T04:51:55.656Z"
      },
      {
        "duration": 0,
        "start_time": "2025-01-10T04:51:55.658Z"
      },
      {
        "duration": 0,
        "start_time": "2025-01-10T04:51:55.659Z"
      },
      {
        "duration": 0,
        "start_time": "2025-01-10T04:51:55.660Z"
      },
      {
        "duration": 23,
        "start_time": "2025-01-10T04:54:32.020Z"
      },
      {
        "duration": 18,
        "start_time": "2025-01-10T04:54:41.572Z"
      },
      {
        "duration": 16,
        "start_time": "2025-01-10T04:54:53.714Z"
      },
      {
        "duration": 15,
        "start_time": "2025-01-10T04:55:17.472Z"
      },
      {
        "duration": 15,
        "start_time": "2025-01-10T04:55:42.574Z"
      },
      {
        "duration": 947,
        "start_time": "2025-01-10T04:56:12.052Z"
      },
      {
        "duration": 183,
        "start_time": "2025-01-10T04:56:13.001Z"
      },
      {
        "duration": 10,
        "start_time": "2025-01-10T04:56:13.186Z"
      },
      {
        "duration": 14,
        "start_time": "2025-01-10T04:56:13.199Z"
      },
      {
        "duration": 9,
        "start_time": "2025-01-10T04:56:13.217Z"
      },
      {
        "duration": 11,
        "start_time": "2025-01-10T04:56:13.229Z"
      },
      {
        "duration": 10,
        "start_time": "2025-01-10T04:56:13.242Z"
      },
      {
        "duration": 9,
        "start_time": "2025-01-10T04:56:13.254Z"
      },
      {
        "duration": 58,
        "start_time": "2025-01-10T04:56:13.264Z"
      },
      {
        "duration": 7,
        "start_time": "2025-01-10T04:56:13.324Z"
      },
      {
        "duration": 194,
        "start_time": "2025-01-10T04:56:13.333Z"
      },
      {
        "duration": 16,
        "start_time": "2025-01-10T04:56:13.529Z"
      },
      {
        "duration": 14,
        "start_time": "2025-01-10T04:56:13.547Z"
      },
      {
        "duration": 8,
        "start_time": "2025-01-10T04:56:13.565Z"
      },
      {
        "duration": 95,
        "start_time": "2025-01-10T04:56:13.575Z"
      },
      {
        "duration": 10,
        "start_time": "2025-01-10T04:56:13.672Z"
      },
      {
        "duration": 26,
        "start_time": "2025-01-10T04:56:13.684Z"
      },
      {
        "duration": 13,
        "start_time": "2025-01-10T04:56:13.712Z"
      },
      {
        "duration": 96,
        "start_time": "2025-01-10T04:56:13.728Z"
      },
      {
        "duration": 11,
        "start_time": "2025-01-10T04:56:13.826Z"
      },
      {
        "duration": 10,
        "start_time": "2025-01-10T04:56:13.839Z"
      },
      {
        "duration": 80,
        "start_time": "2025-01-10T04:56:13.851Z"
      },
      {
        "duration": 41,
        "start_time": "2025-01-10T04:56:13.933Z"
      },
      {
        "duration": 52,
        "start_time": "2025-01-10T04:56:13.976Z"
      },
      {
        "duration": 51,
        "start_time": "2025-01-10T04:56:14.030Z"
      },
      {
        "duration": 64,
        "start_time": "2025-01-10T04:56:14.083Z"
      },
      {
        "duration": 32,
        "start_time": "2025-01-10T04:56:14.148Z"
      },
      {
        "duration": 170,
        "start_time": "2025-01-10T04:56:14.182Z"
      },
      {
        "duration": 0,
        "start_time": "2025-01-10T04:56:14.355Z"
      },
      {
        "duration": 0,
        "start_time": "2025-01-10T04:56:14.357Z"
      },
      {
        "duration": 0,
        "start_time": "2025-01-10T04:56:14.358Z"
      },
      {
        "duration": 0,
        "start_time": "2025-01-10T04:56:14.359Z"
      },
      {
        "duration": 0,
        "start_time": "2025-01-10T04:56:14.360Z"
      },
      {
        "duration": 0,
        "start_time": "2025-01-10T04:56:14.361Z"
      },
      {
        "duration": 0,
        "start_time": "2025-01-10T04:56:14.362Z"
      },
      {
        "duration": 0,
        "start_time": "2025-01-10T04:56:14.363Z"
      },
      {
        "duration": 17,
        "start_time": "2025-01-10T04:56:35.695Z"
      },
      {
        "duration": 15,
        "start_time": "2025-01-10T04:58:05.399Z"
      },
      {
        "duration": 921,
        "start_time": "2025-01-10T04:58:26.402Z"
      },
      {
        "duration": 167,
        "start_time": "2025-01-10T04:58:27.325Z"
      },
      {
        "duration": 10,
        "start_time": "2025-01-10T04:58:27.493Z"
      },
      {
        "duration": 14,
        "start_time": "2025-01-10T04:58:27.508Z"
      },
      {
        "duration": 7,
        "start_time": "2025-01-10T04:58:27.524Z"
      },
      {
        "duration": 11,
        "start_time": "2025-01-10T04:58:27.533Z"
      },
      {
        "duration": 8,
        "start_time": "2025-01-10T04:58:27.546Z"
      },
      {
        "duration": 8,
        "start_time": "2025-01-10T04:58:27.555Z"
      },
      {
        "duration": 48,
        "start_time": "2025-01-10T04:58:27.565Z"
      },
      {
        "duration": 7,
        "start_time": "2025-01-10T04:58:27.621Z"
      },
      {
        "duration": 157,
        "start_time": "2025-01-10T04:58:27.630Z"
      },
      {
        "duration": 21,
        "start_time": "2025-01-10T04:58:27.789Z"
      },
      {
        "duration": 16,
        "start_time": "2025-01-10T04:58:27.812Z"
      },
      {
        "duration": 14,
        "start_time": "2025-01-10T04:58:27.830Z"
      },
      {
        "duration": 83,
        "start_time": "2025-01-10T04:58:27.846Z"
      },
      {
        "duration": 15,
        "start_time": "2025-01-10T04:58:27.931Z"
      },
      {
        "duration": 19,
        "start_time": "2025-01-10T04:58:27.948Z"
      },
      {
        "duration": 10,
        "start_time": "2025-01-10T04:58:27.969Z"
      },
      {
        "duration": 119,
        "start_time": "2025-01-10T04:58:27.980Z"
      },
      {
        "duration": 16,
        "start_time": "2025-01-10T04:58:28.103Z"
      },
      {
        "duration": 10,
        "start_time": "2025-01-10T04:58:28.123Z"
      },
      {
        "duration": 62,
        "start_time": "2025-01-10T04:58:28.135Z"
      },
      {
        "duration": 42,
        "start_time": "2025-01-10T04:58:28.209Z"
      },
      {
        "duration": 56,
        "start_time": "2025-01-10T04:58:28.253Z"
      },
      {
        "duration": 58,
        "start_time": "2025-01-10T04:58:28.311Z"
      },
      {
        "duration": 73,
        "start_time": "2025-01-10T04:58:28.371Z"
      },
      {
        "duration": 24,
        "start_time": "2025-01-10T04:58:28.447Z"
      },
      {
        "duration": 219,
        "start_time": "2025-01-10T04:58:28.476Z"
      },
      {
        "duration": 0,
        "start_time": "2025-01-10T04:58:28.697Z"
      },
      {
        "duration": 0,
        "start_time": "2025-01-10T04:58:28.699Z"
      },
      {
        "duration": 0,
        "start_time": "2025-01-10T04:58:28.700Z"
      },
      {
        "duration": 0,
        "start_time": "2025-01-10T04:58:28.701Z"
      },
      {
        "duration": 0,
        "start_time": "2025-01-10T04:58:28.702Z"
      },
      {
        "duration": 0,
        "start_time": "2025-01-10T04:58:28.703Z"
      },
      {
        "duration": 0,
        "start_time": "2025-01-10T04:58:28.708Z"
      },
      {
        "duration": 0,
        "start_time": "2025-01-10T04:58:28.709Z"
      },
      {
        "duration": 7,
        "start_time": "2025-01-10T04:59:35.857Z"
      },
      {
        "duration": 18,
        "start_time": "2025-01-10T04:59:52.211Z"
      },
      {
        "duration": 17,
        "start_time": "2025-01-10T05:01:37.577Z"
      },
      {
        "duration": 830,
        "start_time": "2025-01-10T05:03:44.072Z"
      },
      {
        "duration": 156,
        "start_time": "2025-01-10T05:03:44.909Z"
      },
      {
        "duration": 10,
        "start_time": "2025-01-10T05:03:45.067Z"
      },
      {
        "duration": 9,
        "start_time": "2025-01-10T05:03:45.079Z"
      },
      {
        "duration": 21,
        "start_time": "2025-01-10T05:03:45.091Z"
      },
      {
        "duration": 10,
        "start_time": "2025-01-10T05:03:45.114Z"
      },
      {
        "duration": 9,
        "start_time": "2025-01-10T05:03:45.125Z"
      },
      {
        "duration": 8,
        "start_time": "2025-01-10T05:03:45.135Z"
      },
      {
        "duration": 14,
        "start_time": "2025-01-10T05:03:45.145Z"
      },
      {
        "duration": 5,
        "start_time": "2025-01-10T05:03:45.161Z"
      },
      {
        "duration": 183,
        "start_time": "2025-01-10T05:03:45.168Z"
      },
      {
        "duration": 12,
        "start_time": "2025-01-10T05:03:45.353Z"
      },
      {
        "duration": 11,
        "start_time": "2025-01-10T05:03:45.367Z"
      },
      {
        "duration": 28,
        "start_time": "2025-01-10T05:03:45.381Z"
      },
      {
        "duration": 61,
        "start_time": "2025-01-10T05:03:45.411Z"
      },
      {
        "duration": 9,
        "start_time": "2025-01-10T05:03:45.474Z"
      },
      {
        "duration": 30,
        "start_time": "2025-01-10T05:03:45.484Z"
      },
      {
        "duration": 9,
        "start_time": "2025-01-10T05:03:45.515Z"
      },
      {
        "duration": 91,
        "start_time": "2025-01-10T05:03:45.526Z"
      },
      {
        "duration": 10,
        "start_time": "2025-01-10T05:03:45.619Z"
      },
      {
        "duration": 7,
        "start_time": "2025-01-10T05:03:45.630Z"
      },
      {
        "duration": 46,
        "start_time": "2025-01-10T05:03:45.639Z"
      },
      {
        "duration": 39,
        "start_time": "2025-01-10T05:03:45.709Z"
      },
      {
        "duration": 31,
        "start_time": "2025-01-10T05:03:45.750Z"
      },
      {
        "duration": 59,
        "start_time": "2025-01-10T05:03:45.783Z"
      },
      {
        "duration": 36,
        "start_time": "2025-01-10T05:03:45.844Z"
      },
      {
        "duration": 39,
        "start_time": "2025-01-10T05:03:45.883Z"
      },
      {
        "duration": 134,
        "start_time": "2025-01-10T05:03:45.924Z"
      },
      {
        "duration": 0,
        "start_time": "2025-01-10T05:03:46.060Z"
      },
      {
        "duration": 0,
        "start_time": "2025-01-10T05:03:46.061Z"
      },
      {
        "duration": 0,
        "start_time": "2025-01-10T05:03:46.062Z"
      },
      {
        "duration": 0,
        "start_time": "2025-01-10T05:03:46.063Z"
      },
      {
        "duration": 0,
        "start_time": "2025-01-10T05:03:46.064Z"
      },
      {
        "duration": 0,
        "start_time": "2025-01-10T05:03:46.065Z"
      },
      {
        "duration": 0,
        "start_time": "2025-01-10T05:03:46.066Z"
      },
      {
        "duration": 0,
        "start_time": "2025-01-10T05:03:46.067Z"
      },
      {
        "duration": 15,
        "start_time": "2025-01-10T05:05:33.458Z"
      },
      {
        "duration": 15,
        "start_time": "2025-01-10T05:05:49.069Z"
      },
      {
        "duration": 872,
        "start_time": "2025-01-10T05:06:27.123Z"
      },
      {
        "duration": 157,
        "start_time": "2025-01-10T05:06:27.998Z"
      },
      {
        "duration": 10,
        "start_time": "2025-01-10T05:06:28.157Z"
      },
      {
        "duration": 11,
        "start_time": "2025-01-10T05:06:28.170Z"
      },
      {
        "duration": 10,
        "start_time": "2025-01-10T05:06:28.183Z"
      },
      {
        "duration": 23,
        "start_time": "2025-01-10T05:06:28.195Z"
      },
      {
        "duration": 9,
        "start_time": "2025-01-10T05:06:28.219Z"
      },
      {
        "duration": 9,
        "start_time": "2025-01-10T05:06:28.230Z"
      },
      {
        "duration": 14,
        "start_time": "2025-01-10T05:06:28.241Z"
      },
      {
        "duration": 6,
        "start_time": "2025-01-10T05:06:28.258Z"
      },
      {
        "duration": 173,
        "start_time": "2025-01-10T05:06:28.266Z"
      },
      {
        "duration": 12,
        "start_time": "2025-01-10T05:06:28.441Z"
      },
      {
        "duration": 11,
        "start_time": "2025-01-10T05:06:28.455Z"
      },
      {
        "duration": 7,
        "start_time": "2025-01-10T05:06:28.468Z"
      },
      {
        "duration": 81,
        "start_time": "2025-01-10T05:06:28.476Z"
      },
      {
        "duration": 10,
        "start_time": "2025-01-10T05:06:28.558Z"
      },
      {
        "duration": 13,
        "start_time": "2025-01-10T05:06:28.569Z"
      },
      {
        "duration": 33,
        "start_time": "2025-01-10T05:06:28.583Z"
      },
      {
        "duration": 74,
        "start_time": "2025-01-10T05:06:28.618Z"
      },
      {
        "duration": 23,
        "start_time": "2025-01-10T05:06:28.694Z"
      },
      {
        "duration": 8,
        "start_time": "2025-01-10T05:06:28.718Z"
      },
      {
        "duration": 48,
        "start_time": "2025-01-10T05:06:28.728Z"
      },
      {
        "duration": 58,
        "start_time": "2025-01-10T05:06:28.777Z"
      },
      {
        "duration": 32,
        "start_time": "2025-01-10T05:06:28.837Z"
      },
      {
        "duration": 56,
        "start_time": "2025-01-10T05:06:28.871Z"
      },
      {
        "duration": 36,
        "start_time": "2025-01-10T05:06:28.928Z"
      },
      {
        "duration": 23,
        "start_time": "2025-01-10T05:06:28.966Z"
      },
      {
        "duration": 132,
        "start_time": "2025-01-10T05:06:29.008Z"
      },
      {
        "duration": 0,
        "start_time": "2025-01-10T05:06:29.141Z"
      },
      {
        "duration": 0,
        "start_time": "2025-01-10T05:06:29.143Z"
      },
      {
        "duration": 0,
        "start_time": "2025-01-10T05:06:29.144Z"
      },
      {
        "duration": 0,
        "start_time": "2025-01-10T05:06:29.145Z"
      },
      {
        "duration": 0,
        "start_time": "2025-01-10T05:06:29.146Z"
      },
      {
        "duration": 0,
        "start_time": "2025-01-10T05:06:29.148Z"
      },
      {
        "duration": 0,
        "start_time": "2025-01-10T05:06:29.149Z"
      },
      {
        "duration": 0,
        "start_time": "2025-01-10T05:06:29.150Z"
      },
      {
        "duration": 5,
        "start_time": "2025-01-10T05:07:15.224Z"
      },
      {
        "duration": 16,
        "start_time": "2025-01-10T05:09:01.302Z"
      },
      {
        "duration": 16,
        "start_time": "2025-01-10T05:09:34.049Z"
      },
      {
        "duration": 17,
        "start_time": "2025-01-10T05:10:22.087Z"
      },
      {
        "duration": 791,
        "start_time": "2025-01-10T05:10:49.707Z"
      },
      {
        "duration": 158,
        "start_time": "2025-01-10T05:10:50.500Z"
      },
      {
        "duration": 9,
        "start_time": "2025-01-10T05:10:50.660Z"
      },
      {
        "duration": 9,
        "start_time": "2025-01-10T05:10:50.672Z"
      },
      {
        "duration": 8,
        "start_time": "2025-01-10T05:10:50.683Z"
      },
      {
        "duration": 25,
        "start_time": "2025-01-10T05:10:50.693Z"
      },
      {
        "duration": 8,
        "start_time": "2025-01-10T05:10:50.720Z"
      },
      {
        "duration": 7,
        "start_time": "2025-01-10T05:10:50.730Z"
      },
      {
        "duration": 14,
        "start_time": "2025-01-10T05:10:50.739Z"
      },
      {
        "duration": 5,
        "start_time": "2025-01-10T05:10:50.757Z"
      },
      {
        "duration": 177,
        "start_time": "2025-01-10T05:10:50.765Z"
      },
      {
        "duration": 12,
        "start_time": "2025-01-10T05:10:50.943Z"
      },
      {
        "duration": 13,
        "start_time": "2025-01-10T05:10:50.957Z"
      },
      {
        "duration": 8,
        "start_time": "2025-01-10T05:10:50.971Z"
      },
      {
        "duration": 85,
        "start_time": "2025-01-10T05:10:50.980Z"
      },
      {
        "duration": 9,
        "start_time": "2025-01-10T05:10:51.067Z"
      },
      {
        "duration": 13,
        "start_time": "2025-01-10T05:10:51.078Z"
      },
      {
        "duration": 24,
        "start_time": "2025-01-10T05:10:51.092Z"
      },
      {
        "duration": 75,
        "start_time": "2025-01-10T05:10:51.118Z"
      },
      {
        "duration": 10,
        "start_time": "2025-01-10T05:10:51.209Z"
      },
      {
        "duration": 7,
        "start_time": "2025-01-10T05:10:51.220Z"
      },
      {
        "duration": 44,
        "start_time": "2025-01-10T05:10:51.229Z"
      },
      {
        "duration": 58,
        "start_time": "2025-01-10T05:10:51.275Z"
      },
      {
        "duration": 33,
        "start_time": "2025-01-10T05:10:51.335Z"
      },
      {
        "duration": 57,
        "start_time": "2025-01-10T05:10:51.370Z"
      },
      {
        "duration": 37,
        "start_time": "2025-01-10T05:10:51.429Z"
      },
      {
        "duration": 23,
        "start_time": "2025-01-10T05:10:51.467Z"
      },
      {
        "duration": 136,
        "start_time": "2025-01-10T05:10:51.510Z"
      },
      {
        "duration": 0,
        "start_time": "2025-01-10T05:10:51.648Z"
      },
      {
        "duration": 0,
        "start_time": "2025-01-10T05:10:51.648Z"
      },
      {
        "duration": 0,
        "start_time": "2025-01-10T05:10:51.650Z"
      },
      {
        "duration": 0,
        "start_time": "2025-01-10T05:10:51.651Z"
      },
      {
        "duration": 0,
        "start_time": "2025-01-10T05:10:51.652Z"
      },
      {
        "duration": 0,
        "start_time": "2025-01-10T05:10:51.653Z"
      },
      {
        "duration": 0,
        "start_time": "2025-01-10T05:10:51.655Z"
      },
      {
        "duration": 0,
        "start_time": "2025-01-10T05:10:51.656Z"
      },
      {
        "duration": 17,
        "start_time": "2025-01-10T05:11:16.163Z"
      },
      {
        "duration": 17,
        "start_time": "2025-01-10T05:12:03.094Z"
      },
      {
        "duration": 16,
        "start_time": "2025-01-10T05:12:21.834Z"
      },
      {
        "duration": 287,
        "start_time": "2025-01-10T05:16:10.095Z"
      },
      {
        "duration": 18,
        "start_time": "2025-01-10T05:16:29.794Z"
      },
      {
        "duration": 175,
        "start_time": "2025-01-10T12:13:02.801Z"
      },
      {
        "duration": 2515,
        "start_time": "2025-01-10T12:13:15.960Z"
      },
      {
        "duration": 213,
        "start_time": "2025-01-10T12:13:18.477Z"
      },
      {
        "duration": 9,
        "start_time": "2025-01-10T12:13:18.692Z"
      },
      {
        "duration": 10,
        "start_time": "2025-01-10T12:13:18.703Z"
      },
      {
        "duration": 7,
        "start_time": "2025-01-10T12:13:18.715Z"
      },
      {
        "duration": 20,
        "start_time": "2025-01-10T12:13:18.723Z"
      },
      {
        "duration": 9,
        "start_time": "2025-01-10T12:13:18.744Z"
      },
      {
        "duration": 8,
        "start_time": "2025-01-10T12:13:18.754Z"
      },
      {
        "duration": 15,
        "start_time": "2025-01-10T12:13:18.763Z"
      },
      {
        "duration": 6,
        "start_time": "2025-01-10T12:13:18.782Z"
      },
      {
        "duration": 176,
        "start_time": "2025-01-10T12:13:18.790Z"
      },
      {
        "duration": 12,
        "start_time": "2025-01-10T12:13:18.968Z"
      },
      {
        "duration": 12,
        "start_time": "2025-01-10T12:13:18.982Z"
      },
      {
        "duration": 8,
        "start_time": "2025-01-10T12:13:18.995Z"
      },
      {
        "duration": 98,
        "start_time": "2025-01-10T12:13:19.006Z"
      },
      {
        "duration": 9,
        "start_time": "2025-01-10T12:13:19.106Z"
      },
      {
        "duration": 27,
        "start_time": "2025-01-10T12:13:19.116Z"
      },
      {
        "duration": 8,
        "start_time": "2025-01-10T12:13:19.144Z"
      },
      {
        "duration": 89,
        "start_time": "2025-01-10T12:13:19.154Z"
      },
      {
        "duration": 10,
        "start_time": "2025-01-10T12:13:19.244Z"
      },
      {
        "duration": 8,
        "start_time": "2025-01-10T12:13:19.256Z"
      },
      {
        "duration": 45,
        "start_time": "2025-01-10T12:13:19.265Z"
      },
      {
        "duration": 61,
        "start_time": "2025-01-10T12:13:19.312Z"
      },
      {
        "duration": 38,
        "start_time": "2025-01-10T12:13:19.375Z"
      },
      {
        "duration": 62,
        "start_time": "2025-01-10T12:13:19.415Z"
      },
      {
        "duration": 37,
        "start_time": "2025-01-10T12:13:19.479Z"
      },
      {
        "duration": 42,
        "start_time": "2025-01-10T12:13:19.517Z"
      },
      {
        "duration": 140,
        "start_time": "2025-01-10T12:13:19.563Z"
      },
      {
        "duration": 0,
        "start_time": "2025-01-10T12:13:19.705Z"
      },
      {
        "duration": 0,
        "start_time": "2025-01-10T12:13:19.706Z"
      },
      {
        "duration": 0,
        "start_time": "2025-01-10T12:13:19.707Z"
      },
      {
        "duration": 1,
        "start_time": "2025-01-10T12:13:19.708Z"
      },
      {
        "duration": 0,
        "start_time": "2025-01-10T12:13:19.710Z"
      },
      {
        "duration": 0,
        "start_time": "2025-01-10T12:13:19.711Z"
      },
      {
        "duration": 0,
        "start_time": "2025-01-10T12:13:19.713Z"
      },
      {
        "duration": 0,
        "start_time": "2025-01-10T12:13:19.714Z"
      },
      {
        "duration": 14,
        "start_time": "2025-01-10T12:14:06.420Z"
      },
      {
        "duration": 8,
        "start_time": "2025-01-10T12:17:02.800Z"
      },
      {
        "duration": 12,
        "start_time": "2025-01-10T12:17:18.913Z"
      },
      {
        "duration": 15,
        "start_time": "2025-01-10T12:17:47.001Z"
      },
      {
        "duration": 501,
        "start_time": "2025-01-10T12:18:18.392Z"
      },
      {
        "duration": 43,
        "start_time": "2025-01-10T12:18:48.523Z"
      },
      {
        "duration": 46,
        "start_time": "2025-01-10T12:19:27.276Z"
      },
      {
        "duration": 834,
        "start_time": "2025-01-10T12:20:14.318Z"
      },
      {
        "duration": 164,
        "start_time": "2025-01-10T12:20:15.155Z"
      },
      {
        "duration": 10,
        "start_time": "2025-01-10T12:20:15.320Z"
      },
      {
        "duration": 17,
        "start_time": "2025-01-10T12:20:15.332Z"
      },
      {
        "duration": 7,
        "start_time": "2025-01-10T12:20:15.350Z"
      },
      {
        "duration": 10,
        "start_time": "2025-01-10T12:20:15.359Z"
      },
      {
        "duration": 8,
        "start_time": "2025-01-10T12:20:15.371Z"
      },
      {
        "duration": 7,
        "start_time": "2025-01-10T12:20:15.381Z"
      },
      {
        "duration": 14,
        "start_time": "2025-01-10T12:20:15.390Z"
      },
      {
        "duration": 40,
        "start_time": "2025-01-10T12:20:15.407Z"
      },
      {
        "duration": 156,
        "start_time": "2025-01-10T12:20:15.449Z"
      },
      {
        "duration": 12,
        "start_time": "2025-01-10T12:20:15.607Z"
      },
      {
        "duration": 25,
        "start_time": "2025-01-10T12:20:15.620Z"
      },
      {
        "duration": 8,
        "start_time": "2025-01-10T12:20:15.646Z"
      },
      {
        "duration": 57,
        "start_time": "2025-01-10T12:20:15.655Z"
      },
      {
        "duration": 29,
        "start_time": "2025-01-10T12:20:15.714Z"
      },
      {
        "duration": 14,
        "start_time": "2025-01-10T12:20:15.745Z"
      },
      {
        "duration": 9,
        "start_time": "2025-01-10T12:20:15.760Z"
      },
      {
        "duration": 100,
        "start_time": "2025-01-10T12:20:15.770Z"
      },
      {
        "duration": 10,
        "start_time": "2025-01-10T12:20:15.871Z"
      },
      {
        "duration": 9,
        "start_time": "2025-01-10T12:20:15.883Z"
      },
      {
        "duration": 66,
        "start_time": "2025-01-10T12:20:15.893Z"
      },
      {
        "duration": 36,
        "start_time": "2025-01-10T12:20:15.961Z"
      },
      {
        "duration": 46,
        "start_time": "2025-01-10T12:20:15.999Z"
      },
      {
        "duration": 40,
        "start_time": "2025-01-10T12:20:16.047Z"
      },
      {
        "duration": 54,
        "start_time": "2025-01-10T12:20:16.089Z"
      },
      {
        "duration": 26,
        "start_time": "2025-01-10T12:20:16.144Z"
      },
      {
        "duration": 725,
        "start_time": "2025-01-10T12:20:16.174Z"
      },
      {
        "duration": 0,
        "start_time": "2025-01-10T12:20:16.900Z"
      },
      {
        "duration": 0,
        "start_time": "2025-01-10T12:20:16.902Z"
      },
      {
        "duration": 0,
        "start_time": "2025-01-10T12:20:16.902Z"
      },
      {
        "duration": 0,
        "start_time": "2025-01-10T12:20:16.903Z"
      },
      {
        "duration": 0,
        "start_time": "2025-01-10T12:20:16.904Z"
      },
      {
        "duration": 0,
        "start_time": "2025-01-10T12:20:16.904Z"
      },
      {
        "duration": 0,
        "start_time": "2025-01-10T12:20:16.905Z"
      },
      {
        "duration": 0,
        "start_time": "2025-01-10T12:20:16.906Z"
      },
      {
        "duration": 44,
        "start_time": "2025-01-10T12:20:55.346Z"
      },
      {
        "duration": 6,
        "start_time": "2025-01-10T12:28:11.226Z"
      },
      {
        "duration": 5,
        "start_time": "2025-01-10T12:28:27.581Z"
      },
      {
        "duration": 61,
        "start_time": "2025-01-10T12:28:43.946Z"
      },
      {
        "duration": 62,
        "start_time": "2025-01-10T12:29:26.765Z"
      },
      {
        "duration": 74,
        "start_time": "2025-01-10T12:29:59.282Z"
      },
      {
        "duration": 76,
        "start_time": "2025-01-10T12:31:55.656Z"
      },
      {
        "duration": 62,
        "start_time": "2025-01-10T12:32:26.322Z"
      },
      {
        "duration": 63,
        "start_time": "2025-01-10T12:33:34.324Z"
      },
      {
        "duration": 63,
        "start_time": "2025-01-10T12:38:55.483Z"
      },
      {
        "duration": 42,
        "start_time": "2025-01-10T12:41:15.829Z"
      },
      {
        "duration": 42,
        "start_time": "2025-01-10T12:41:55.379Z"
      },
      {
        "duration": 874,
        "start_time": "2025-01-10T12:42:25.625Z"
      },
      {
        "duration": 178,
        "start_time": "2025-01-10T12:42:26.501Z"
      },
      {
        "duration": 9,
        "start_time": "2025-01-10T12:42:26.680Z"
      },
      {
        "duration": 8,
        "start_time": "2025-01-10T12:42:26.692Z"
      },
      {
        "duration": 8,
        "start_time": "2025-01-10T12:42:26.702Z"
      },
      {
        "duration": 10,
        "start_time": "2025-01-10T12:42:26.711Z"
      },
      {
        "duration": 27,
        "start_time": "2025-01-10T12:42:26.723Z"
      },
      {
        "duration": 8,
        "start_time": "2025-01-10T12:42:26.752Z"
      },
      {
        "duration": 15,
        "start_time": "2025-01-10T12:42:26.762Z"
      },
      {
        "duration": 6,
        "start_time": "2025-01-10T12:42:26.780Z"
      },
      {
        "duration": 181,
        "start_time": "2025-01-10T12:42:26.788Z"
      },
      {
        "duration": 15,
        "start_time": "2025-01-10T12:42:26.971Z"
      },
      {
        "duration": 14,
        "start_time": "2025-01-10T12:42:26.990Z"
      },
      {
        "duration": 8,
        "start_time": "2025-01-10T12:42:27.008Z"
      },
      {
        "duration": 82,
        "start_time": "2025-01-10T12:42:27.017Z"
      },
      {
        "duration": 8,
        "start_time": "2025-01-10T12:42:27.101Z"
      },
      {
        "duration": 32,
        "start_time": "2025-01-10T12:42:27.111Z"
      },
      {
        "duration": 11,
        "start_time": "2025-01-10T12:42:27.146Z"
      },
      {
        "duration": 124,
        "start_time": "2025-01-10T12:42:27.158Z"
      },
      {
        "duration": 11,
        "start_time": "2025-01-10T12:42:27.284Z"
      },
      {
        "duration": 9,
        "start_time": "2025-01-10T12:42:27.297Z"
      },
      {
        "duration": 87,
        "start_time": "2025-01-10T12:42:27.308Z"
      },
      {
        "duration": 57,
        "start_time": "2025-01-10T12:42:27.398Z"
      },
      {
        "duration": 37,
        "start_time": "2025-01-10T12:42:27.458Z"
      },
      {
        "duration": 58,
        "start_time": "2025-01-10T12:42:27.497Z"
      },
      {
        "duration": 299,
        "start_time": "2025-01-10T12:42:27.557Z"
      },
      {
        "duration": 0,
        "start_time": "2025-01-10T12:42:27.858Z"
      },
      {
        "duration": 0,
        "start_time": "2025-01-10T12:42:27.859Z"
      },
      {
        "duration": 0,
        "start_time": "2025-01-10T12:42:27.861Z"
      },
      {
        "duration": 0,
        "start_time": "2025-01-10T12:42:27.862Z"
      },
      {
        "duration": 0,
        "start_time": "2025-01-10T12:42:27.863Z"
      },
      {
        "duration": 0,
        "start_time": "2025-01-10T12:42:27.864Z"
      },
      {
        "duration": 0,
        "start_time": "2025-01-10T12:42:27.864Z"
      },
      {
        "duration": 0,
        "start_time": "2025-01-10T12:42:27.866Z"
      },
      {
        "duration": 0,
        "start_time": "2025-01-10T12:42:27.866Z"
      },
      {
        "duration": 0,
        "start_time": "2025-01-10T12:42:27.868Z"
      },
      {
        "duration": 33,
        "start_time": "2025-01-10T12:43:53.297Z"
      },
      {
        "duration": 49,
        "start_time": "2025-01-10T12:44:30.727Z"
      },
      {
        "duration": 55,
        "start_time": "2025-01-10T12:45:22.929Z"
      },
      {
        "duration": 438,
        "start_time": "2025-01-10T12:48:50.505Z"
      },
      {
        "duration": 45,
        "start_time": "2025-01-10T12:50:14.057Z"
      },
      {
        "duration": 35,
        "start_time": "2025-01-10T12:50:30.255Z"
      },
      {
        "duration": 441,
        "start_time": "2025-01-10T12:50:39.588Z"
      },
      {
        "duration": 76,
        "start_time": "2025-01-10T12:51:39.281Z"
      },
      {
        "duration": 820,
        "start_time": "2025-01-10T12:53:21.457Z"
      },
      {
        "duration": 159,
        "start_time": "2025-01-10T12:53:22.279Z"
      },
      {
        "duration": 10,
        "start_time": "2025-01-10T12:53:22.440Z"
      },
      {
        "duration": 9,
        "start_time": "2025-01-10T12:53:22.453Z"
      },
      {
        "duration": 7,
        "start_time": "2025-01-10T12:53:22.464Z"
      },
      {
        "duration": 10,
        "start_time": "2025-01-10T12:53:22.473Z"
      },
      {
        "duration": 9,
        "start_time": "2025-01-10T12:53:22.484Z"
      },
      {
        "duration": 7,
        "start_time": "2025-01-10T12:53:22.494Z"
      },
      {
        "duration": 51,
        "start_time": "2025-01-10T12:53:22.503Z"
      },
      {
        "duration": 6,
        "start_time": "2025-01-10T12:53:22.557Z"
      },
      {
        "duration": 166,
        "start_time": "2025-01-10T12:53:22.565Z"
      },
      {
        "duration": 12,
        "start_time": "2025-01-10T12:53:22.744Z"
      },
      {
        "duration": 11,
        "start_time": "2025-01-10T12:53:22.758Z"
      },
      {
        "duration": 8,
        "start_time": "2025-01-10T12:53:22.771Z"
      },
      {
        "duration": 80,
        "start_time": "2025-01-10T12:53:22.780Z"
      },
      {
        "duration": 9,
        "start_time": "2025-01-10T12:53:22.862Z"
      },
      {
        "duration": 14,
        "start_time": "2025-01-10T12:53:22.872Z"
      },
      {
        "duration": 9,
        "start_time": "2025-01-10T12:53:22.888Z"
      },
      {
        "duration": 107,
        "start_time": "2025-01-10T12:53:22.898Z"
      },
      {
        "duration": 10,
        "start_time": "2025-01-10T12:53:23.007Z"
      },
      {
        "duration": 23,
        "start_time": "2025-01-10T12:53:23.019Z"
      },
      {
        "duration": 45,
        "start_time": "2025-01-10T12:53:23.044Z"
      },
      {
        "duration": 54,
        "start_time": "2025-01-10T12:53:23.091Z"
      },
      {
        "duration": 32,
        "start_time": "2025-01-10T12:53:23.146Z"
      },
      {
        "duration": 42,
        "start_time": "2025-01-10T12:53:23.180Z"
      },
      {
        "duration": 53,
        "start_time": "2025-01-10T12:53:23.242Z"
      },
      {
        "duration": 20,
        "start_time": "2025-01-10T12:53:23.296Z"
      },
      {
        "duration": 301,
        "start_time": "2025-01-10T12:53:23.320Z"
      },
      {
        "duration": 0,
        "start_time": "2025-01-10T12:53:23.623Z"
      },
      {
        "duration": 0,
        "start_time": "2025-01-10T12:53:23.624Z"
      },
      {
        "duration": 0,
        "start_time": "2025-01-10T12:53:23.626Z"
      },
      {
        "duration": 0,
        "start_time": "2025-01-10T12:53:23.627Z"
      },
      {
        "duration": 0,
        "start_time": "2025-01-10T12:53:23.629Z"
      },
      {
        "duration": 0,
        "start_time": "2025-01-10T12:53:23.630Z"
      },
      {
        "duration": 0,
        "start_time": "2025-01-10T12:53:23.643Z"
      },
      {
        "duration": 0,
        "start_time": "2025-01-10T12:53:23.644Z"
      },
      {
        "duration": 276,
        "start_time": "2025-01-10T12:53:53.741Z"
      },
      {
        "duration": 276,
        "start_time": "2025-01-10T12:54:46.615Z"
      },
      {
        "duration": 45,
        "start_time": "2025-01-10T12:55:20.524Z"
      },
      {
        "duration": 795,
        "start_time": "2025-01-10T12:55:31.937Z"
      },
      {
        "duration": 150,
        "start_time": "2025-01-10T12:55:32.734Z"
      },
      {
        "duration": 10,
        "start_time": "2025-01-10T12:55:32.886Z"
      },
      {
        "duration": 10,
        "start_time": "2025-01-10T12:55:32.898Z"
      },
      {
        "duration": 7,
        "start_time": "2025-01-10T12:55:32.909Z"
      },
      {
        "duration": 30,
        "start_time": "2025-01-10T12:55:32.918Z"
      },
      {
        "duration": 15,
        "start_time": "2025-01-10T12:55:32.949Z"
      },
      {
        "duration": 9,
        "start_time": "2025-01-10T12:55:32.965Z"
      },
      {
        "duration": 15,
        "start_time": "2025-01-10T12:55:32.976Z"
      },
      {
        "duration": 7,
        "start_time": "2025-01-10T12:55:32.995Z"
      },
      {
        "duration": 169,
        "start_time": "2025-01-10T12:55:33.004Z"
      },
      {
        "duration": 12,
        "start_time": "2025-01-10T12:55:33.174Z"
      },
      {
        "duration": 11,
        "start_time": "2025-01-10T12:55:33.188Z"
      },
      {
        "duration": 7,
        "start_time": "2025-01-10T12:55:33.200Z"
      },
      {
        "duration": 84,
        "start_time": "2025-01-10T12:55:33.209Z"
      },
      {
        "duration": 9,
        "start_time": "2025-01-10T12:55:33.295Z"
      },
      {
        "duration": 14,
        "start_time": "2025-01-10T12:55:33.305Z"
      },
      {
        "duration": 26,
        "start_time": "2025-01-10T12:55:33.321Z"
      },
      {
        "duration": 75,
        "start_time": "2025-01-10T12:55:33.348Z"
      },
      {
        "duration": 22,
        "start_time": "2025-01-10T12:55:33.425Z"
      },
      {
        "duration": 7,
        "start_time": "2025-01-10T12:55:33.449Z"
      },
      {
        "duration": 47,
        "start_time": "2025-01-10T12:55:33.457Z"
      },
      {
        "duration": 58,
        "start_time": "2025-01-10T12:55:33.505Z"
      },
      {
        "duration": 31,
        "start_time": "2025-01-10T12:55:33.565Z"
      },
      {
        "duration": 56,
        "start_time": "2025-01-10T12:55:33.598Z"
      },
      {
        "duration": 49,
        "start_time": "2025-01-10T12:55:33.656Z"
      },
      {
        "duration": 35,
        "start_time": "2025-01-10T12:55:33.707Z"
      },
      {
        "duration": 671,
        "start_time": "2025-01-10T12:55:33.746Z"
      },
      {
        "duration": 0,
        "start_time": "2025-01-10T12:55:34.419Z"
      },
      {
        "duration": 0,
        "start_time": "2025-01-10T12:55:34.420Z"
      },
      {
        "duration": 0,
        "start_time": "2025-01-10T12:55:34.421Z"
      },
      {
        "duration": 0,
        "start_time": "2025-01-10T12:55:34.422Z"
      },
      {
        "duration": 0,
        "start_time": "2025-01-10T12:55:34.423Z"
      },
      {
        "duration": 0,
        "start_time": "2025-01-10T12:55:34.425Z"
      },
      {
        "duration": 0,
        "start_time": "2025-01-10T12:55:34.426Z"
      },
      {
        "duration": 0,
        "start_time": "2025-01-10T12:55:34.443Z"
      },
      {
        "duration": 792,
        "start_time": "2025-01-10T12:56:57.336Z"
      },
      {
        "duration": 159,
        "start_time": "2025-01-10T12:56:58.130Z"
      },
      {
        "duration": 9,
        "start_time": "2025-01-10T12:56:58.291Z"
      },
      {
        "duration": 10,
        "start_time": "2025-01-10T12:56:58.302Z"
      },
      {
        "duration": 8,
        "start_time": "2025-01-10T12:56:58.313Z"
      },
      {
        "duration": 30,
        "start_time": "2025-01-10T12:56:58.322Z"
      },
      {
        "duration": 10,
        "start_time": "2025-01-10T12:56:58.353Z"
      },
      {
        "duration": 7,
        "start_time": "2025-01-10T12:56:58.364Z"
      },
      {
        "duration": 14,
        "start_time": "2025-01-10T12:56:58.373Z"
      },
      {
        "duration": 6,
        "start_time": "2025-01-10T12:56:58.391Z"
      },
      {
        "duration": 179,
        "start_time": "2025-01-10T12:56:58.399Z"
      },
      {
        "duration": 12,
        "start_time": "2025-01-10T12:56:58.580Z"
      },
      {
        "duration": 12,
        "start_time": "2025-01-10T12:56:58.593Z"
      },
      {
        "duration": 7,
        "start_time": "2025-01-10T12:56:58.606Z"
      },
      {
        "duration": 81,
        "start_time": "2025-01-10T12:56:58.614Z"
      },
      {
        "duration": 8,
        "start_time": "2025-01-10T12:56:58.697Z"
      },
      {
        "duration": 13,
        "start_time": "2025-01-10T12:56:58.706Z"
      },
      {
        "duration": 27,
        "start_time": "2025-01-10T12:56:58.721Z"
      },
      {
        "duration": 75,
        "start_time": "2025-01-10T12:56:58.749Z"
      },
      {
        "duration": 23,
        "start_time": "2025-01-10T12:56:58.826Z"
      },
      {
        "duration": 8,
        "start_time": "2025-01-10T12:56:58.851Z"
      },
      {
        "duration": 45,
        "start_time": "2025-01-10T12:56:58.861Z"
      },
      {
        "duration": 67,
        "start_time": "2025-01-10T12:56:58.908Z"
      },
      {
        "duration": 31,
        "start_time": "2025-01-10T12:56:58.977Z"
      },
      {
        "duration": 54,
        "start_time": "2025-01-10T12:56:59.010Z"
      },
      {
        "duration": 48,
        "start_time": "2025-01-10T12:56:59.066Z"
      },
      {
        "duration": 39,
        "start_time": "2025-01-10T12:56:59.116Z"
      },
      {
        "duration": 659,
        "start_time": "2025-01-10T12:56:59.159Z"
      },
      {
        "duration": 0,
        "start_time": "2025-01-10T12:56:59.820Z"
      },
      {
        "duration": 0,
        "start_time": "2025-01-10T12:56:59.821Z"
      },
      {
        "duration": 0,
        "start_time": "2025-01-10T12:56:59.823Z"
      },
      {
        "duration": 0,
        "start_time": "2025-01-10T12:56:59.824Z"
      },
      {
        "duration": 0,
        "start_time": "2025-01-10T12:56:59.825Z"
      },
      {
        "duration": 0,
        "start_time": "2025-01-10T12:56:59.827Z"
      },
      {
        "duration": 0,
        "start_time": "2025-01-10T12:56:59.828Z"
      },
      {
        "duration": 0,
        "start_time": "2025-01-10T12:56:59.843Z"
      },
      {
        "duration": 44,
        "start_time": "2025-01-10T12:57:52.323Z"
      },
      {
        "duration": 44,
        "start_time": "2025-01-10T12:59:24.253Z"
      },
      {
        "duration": 17,
        "start_time": "2025-01-10T13:00:11.301Z"
      },
      {
        "duration": 19,
        "start_time": "2025-01-10T13:00:53.796Z"
      },
      {
        "duration": 28,
        "start_time": "2025-01-10T13:01:46.969Z"
      },
      {
        "duration": 28,
        "start_time": "2025-01-10T13:02:37.206Z"
      },
      {
        "duration": 809,
        "start_time": "2025-01-10T13:12:15.753Z"
      },
      {
        "duration": 160,
        "start_time": "2025-01-10T13:12:16.564Z"
      },
      {
        "duration": 9,
        "start_time": "2025-01-10T13:12:16.725Z"
      },
      {
        "duration": 8,
        "start_time": "2025-01-10T13:12:16.737Z"
      },
      {
        "duration": 7,
        "start_time": "2025-01-10T13:12:16.747Z"
      },
      {
        "duration": 10,
        "start_time": "2025-01-10T13:12:16.756Z"
      },
      {
        "duration": 9,
        "start_time": "2025-01-10T13:12:16.768Z"
      },
      {
        "duration": 8,
        "start_time": "2025-01-10T13:12:16.779Z"
      },
      {
        "duration": 15,
        "start_time": "2025-01-10T13:12:16.789Z"
      },
      {
        "duration": 7,
        "start_time": "2025-01-10T13:12:16.842Z"
      },
      {
        "duration": 156,
        "start_time": "2025-01-10T13:12:16.850Z"
      },
      {
        "duration": 12,
        "start_time": "2025-01-10T13:12:17.008Z"
      },
      {
        "duration": 28,
        "start_time": "2025-01-10T13:12:17.021Z"
      },
      {
        "duration": 7,
        "start_time": "2025-01-10T13:12:17.051Z"
      },
      {
        "duration": 57,
        "start_time": "2025-01-10T13:12:17.061Z"
      },
      {
        "duration": 28,
        "start_time": "2025-01-10T13:12:17.120Z"
      },
      {
        "duration": 13,
        "start_time": "2025-01-10T13:12:17.149Z"
      },
      {
        "duration": 8,
        "start_time": "2025-01-10T13:12:17.164Z"
      },
      {
        "duration": 96,
        "start_time": "2025-01-10T13:12:17.174Z"
      },
      {
        "duration": 10,
        "start_time": "2025-01-10T13:12:17.272Z"
      },
      {
        "duration": 6,
        "start_time": "2025-01-10T13:12:17.284Z"
      },
      {
        "duration": 65,
        "start_time": "2025-01-10T13:12:17.292Z"
      },
      {
        "duration": 37,
        "start_time": "2025-01-10T13:12:17.360Z"
      },
      {
        "duration": 47,
        "start_time": "2025-01-10T13:12:17.399Z"
      },
      {
        "duration": 38,
        "start_time": "2025-01-10T13:12:17.448Z"
      },
      {
        "duration": 65,
        "start_time": "2025-01-10T13:12:17.488Z"
      },
      {
        "duration": 21,
        "start_time": "2025-01-10T13:12:17.555Z"
      },
      {
        "duration": 26,
        "start_time": "2025-01-10T13:12:17.580Z"
      },
      {
        "duration": 2,
        "start_time": "2025-01-10T13:12:17.608Z"
      },
      {
        "duration": 3,
        "start_time": "2025-01-10T13:12:17.612Z"
      },
      {
        "duration": 3,
        "start_time": "2025-01-10T13:12:17.616Z"
      },
      {
        "duration": 25,
        "start_time": "2025-01-10T13:12:17.620Z"
      },
      {
        "duration": 2,
        "start_time": "2025-01-10T13:12:17.647Z"
      },
      {
        "duration": 3,
        "start_time": "2025-01-10T13:12:17.650Z"
      },
      {
        "duration": 3,
        "start_time": "2025-01-10T13:12:17.654Z"
      },
      {
        "duration": 4,
        "start_time": "2025-01-10T13:12:17.658Z"
      },
      {
        "duration": 815,
        "start_time": "2025-01-10T13:17:09.823Z"
      },
      {
        "duration": 153,
        "start_time": "2025-01-10T13:17:10.642Z"
      },
      {
        "duration": 9,
        "start_time": "2025-01-10T13:17:10.797Z"
      },
      {
        "duration": 10,
        "start_time": "2025-01-10T13:17:10.808Z"
      },
      {
        "duration": 26,
        "start_time": "2025-01-10T13:17:10.819Z"
      },
      {
        "duration": 12,
        "start_time": "2025-01-10T13:17:10.847Z"
      },
      {
        "duration": 9,
        "start_time": "2025-01-10T13:17:10.861Z"
      },
      {
        "duration": 8,
        "start_time": "2025-01-10T13:17:10.871Z"
      },
      {
        "duration": 16,
        "start_time": "2025-01-10T13:17:10.881Z"
      },
      {
        "duration": 6,
        "start_time": "2025-01-10T13:17:10.901Z"
      },
      {
        "duration": 189,
        "start_time": "2025-01-10T13:17:10.908Z"
      },
      {
        "duration": 12,
        "start_time": "2025-01-10T13:17:11.099Z"
      },
      {
        "duration": 34,
        "start_time": "2025-01-10T13:17:11.113Z"
      },
      {
        "duration": 7,
        "start_time": "2025-01-10T13:17:11.149Z"
      },
      {
        "duration": 56,
        "start_time": "2025-01-10T13:17:11.158Z"
      },
      {
        "duration": 27,
        "start_time": "2025-01-10T13:17:11.216Z"
      },
      {
        "duration": 14,
        "start_time": "2025-01-10T13:17:11.245Z"
      },
      {
        "duration": 9,
        "start_time": "2025-01-10T13:17:11.261Z"
      },
      {
        "duration": 85,
        "start_time": "2025-01-10T13:17:11.272Z"
      },
      {
        "duration": 11,
        "start_time": "2025-01-10T13:17:11.359Z"
      },
      {
        "duration": 8,
        "start_time": "2025-01-10T13:17:11.373Z"
      },
      {
        "duration": 67,
        "start_time": "2025-01-10T13:17:11.383Z"
      },
      {
        "duration": 39,
        "start_time": "2025-01-10T13:17:11.452Z"
      },
      {
        "duration": 32,
        "start_time": "2025-01-10T13:17:11.493Z"
      },
      {
        "duration": 53,
        "start_time": "2025-01-10T13:17:11.526Z"
      },
      {
        "duration": 69,
        "start_time": "2025-01-10T13:17:11.581Z"
      },
      {
        "duration": 20,
        "start_time": "2025-01-10T13:17:11.652Z"
      },
      {
        "duration": 534,
        "start_time": "2025-01-10T13:17:11.676Z"
      },
      {
        "duration": 0,
        "start_time": "2025-01-10T13:17:12.211Z"
      },
      {
        "duration": 0,
        "start_time": "2025-01-10T13:17:12.212Z"
      },
      {
        "duration": 0,
        "start_time": "2025-01-10T13:17:12.214Z"
      },
      {
        "duration": 0,
        "start_time": "2025-01-10T13:17:12.215Z"
      },
      {
        "duration": 0,
        "start_time": "2025-01-10T13:17:12.216Z"
      },
      {
        "duration": 0,
        "start_time": "2025-01-10T13:17:12.217Z"
      },
      {
        "duration": 0,
        "start_time": "2025-01-10T13:17:12.219Z"
      },
      {
        "duration": 0,
        "start_time": "2025-01-10T13:17:12.220Z"
      },
      {
        "duration": 298,
        "start_time": "2025-01-10T13:19:38.667Z"
      },
      {
        "duration": 149,
        "start_time": "2025-01-10T13:20:21.836Z"
      },
      {
        "duration": 140,
        "start_time": "2025-01-10T13:21:15.770Z"
      },
      {
        "duration": 157,
        "start_time": "2025-01-10T13:21:52.068Z"
      },
      {
        "duration": 844,
        "start_time": "2025-01-10T13:24:39.083Z"
      },
      {
        "duration": 150,
        "start_time": "2025-01-10T13:24:39.928Z"
      },
      {
        "duration": 8,
        "start_time": "2025-01-10T13:24:40.080Z"
      },
      {
        "duration": 9,
        "start_time": "2025-01-10T13:24:40.092Z"
      },
      {
        "duration": 8,
        "start_time": "2025-01-10T13:24:40.103Z"
      },
      {
        "duration": 10,
        "start_time": "2025-01-10T13:24:40.112Z"
      },
      {
        "duration": 25,
        "start_time": "2025-01-10T13:24:40.124Z"
      },
      {
        "duration": 9,
        "start_time": "2025-01-10T13:24:40.150Z"
      },
      {
        "duration": 15,
        "start_time": "2025-01-10T13:24:40.160Z"
      },
      {
        "duration": 7,
        "start_time": "2025-01-10T13:24:40.177Z"
      },
      {
        "duration": 175,
        "start_time": "2025-01-10T13:24:40.185Z"
      },
      {
        "duration": 12,
        "start_time": "2025-01-10T13:24:40.362Z"
      },
      {
        "duration": 12,
        "start_time": "2025-01-10T13:24:40.376Z"
      },
      {
        "duration": 7,
        "start_time": "2025-01-10T13:24:40.389Z"
      },
      {
        "duration": 78,
        "start_time": "2025-01-10T13:24:40.397Z"
      },
      {
        "duration": 11,
        "start_time": "2025-01-10T13:24:40.477Z"
      },
      {
        "duration": 22,
        "start_time": "2025-01-10T13:24:40.489Z"
      },
      {
        "duration": 9,
        "start_time": "2025-01-10T13:24:40.512Z"
      },
      {
        "duration": 77,
        "start_time": "2025-01-10T13:24:40.543Z"
      },
      {
        "duration": 21,
        "start_time": "2025-01-10T13:24:40.622Z"
      },
      {
        "duration": 8,
        "start_time": "2025-01-10T13:24:40.644Z"
      },
      {
        "duration": 45,
        "start_time": "2025-01-10T13:24:40.655Z"
      },
      {
        "duration": 56,
        "start_time": "2025-01-10T13:24:40.701Z"
      },
      {
        "duration": 30,
        "start_time": "2025-01-10T13:24:40.759Z"
      },
      {
        "duration": 61,
        "start_time": "2025-01-10T13:24:40.791Z"
      },
      {
        "duration": 49,
        "start_time": "2025-01-10T13:24:40.855Z"
      },
      {
        "duration": 37,
        "start_time": "2025-01-10T13:24:40.906Z"
      },
      {
        "duration": 170,
        "start_time": "2025-01-10T13:24:40.946Z"
      },
      {
        "duration": 2,
        "start_time": "2025-01-10T13:24:41.118Z"
      },
      {
        "duration": 2,
        "start_time": "2025-01-10T13:24:41.122Z"
      },
      {
        "duration": 4,
        "start_time": "2025-01-10T13:24:41.142Z"
      },
      {
        "duration": 3,
        "start_time": "2025-01-10T13:24:41.148Z"
      },
      {
        "duration": 2,
        "start_time": "2025-01-10T13:24:41.153Z"
      },
      {
        "duration": 2,
        "start_time": "2025-01-10T13:24:41.158Z"
      },
      {
        "duration": 3,
        "start_time": "2025-01-10T13:24:41.161Z"
      },
      {
        "duration": 2,
        "start_time": "2025-01-10T13:24:41.166Z"
      },
      {
        "duration": 128,
        "start_time": "2025-01-10T13:25:24.859Z"
      },
      {
        "duration": 131,
        "start_time": "2025-01-10T13:25:35.207Z"
      },
      {
        "duration": 146,
        "start_time": "2025-01-10T13:25:41.031Z"
      },
      {
        "duration": 143,
        "start_time": "2025-01-10T13:26:09.245Z"
      },
      {
        "duration": 148,
        "start_time": "2025-01-10T13:26:54.338Z"
      },
      {
        "duration": 18,
        "start_time": "2025-01-10T13:32:46.030Z"
      },
      {
        "duration": 5,
        "start_time": "2025-01-10T13:33:26.566Z"
      },
      {
        "duration": 15,
        "start_time": "2025-01-10T13:40:45.936Z"
      },
      {
        "duration": 17,
        "start_time": "2025-01-10T13:41:08.844Z"
      },
      {
        "duration": 14,
        "start_time": "2025-01-10T13:42:36.400Z"
      },
      {
        "duration": 8,
        "start_time": "2025-01-10T13:50:39.696Z"
      },
      {
        "duration": 9,
        "start_time": "2025-01-10T13:52:11.461Z"
      },
      {
        "duration": 804,
        "start_time": "2025-01-10T14:00:19.025Z"
      },
      {
        "duration": 159,
        "start_time": "2025-01-10T14:00:19.831Z"
      },
      {
        "duration": 10,
        "start_time": "2025-01-10T14:00:19.992Z"
      },
      {
        "duration": 9,
        "start_time": "2025-01-10T14:00:20.004Z"
      },
      {
        "duration": 8,
        "start_time": "2025-01-10T14:00:20.014Z"
      },
      {
        "duration": 26,
        "start_time": "2025-01-10T14:00:20.023Z"
      },
      {
        "duration": 9,
        "start_time": "2025-01-10T14:00:20.051Z"
      },
      {
        "duration": 8,
        "start_time": "2025-01-10T14:00:20.061Z"
      },
      {
        "duration": 14,
        "start_time": "2025-01-10T14:00:20.071Z"
      },
      {
        "duration": 5,
        "start_time": "2025-01-10T14:00:20.088Z"
      },
      {
        "duration": 178,
        "start_time": "2025-01-10T14:00:20.095Z"
      },
      {
        "duration": 13,
        "start_time": "2025-01-10T14:00:20.275Z"
      },
      {
        "duration": 12,
        "start_time": "2025-01-10T14:00:20.289Z"
      },
      {
        "duration": 7,
        "start_time": "2025-01-10T14:00:20.302Z"
      },
      {
        "duration": 79,
        "start_time": "2025-01-10T14:00:20.311Z"
      },
      {
        "duration": 8,
        "start_time": "2025-01-10T14:00:20.392Z"
      },
      {
        "duration": 14,
        "start_time": "2025-01-10T14:00:20.401Z"
      },
      {
        "duration": 27,
        "start_time": "2025-01-10T14:00:20.417Z"
      },
      {
        "duration": 84,
        "start_time": "2025-01-10T14:00:20.445Z"
      },
      {
        "duration": 20,
        "start_time": "2025-01-10T14:00:20.530Z"
      },
      {
        "duration": 8,
        "start_time": "2025-01-10T14:00:20.552Z"
      },
      {
        "duration": 45,
        "start_time": "2025-01-10T14:00:20.561Z"
      },
      {
        "duration": 71,
        "start_time": "2025-01-10T14:00:20.607Z"
      },
      {
        "duration": 31,
        "start_time": "2025-01-10T14:00:20.680Z"
      },
      {
        "duration": 54,
        "start_time": "2025-01-10T14:00:20.712Z"
      },
      {
        "duration": 47,
        "start_time": "2025-01-10T14:00:20.768Z"
      },
      {
        "duration": 38,
        "start_time": "2025-01-10T14:00:20.817Z"
      },
      {
        "duration": 154,
        "start_time": "2025-01-10T14:00:20.858Z"
      },
      {
        "duration": 6,
        "start_time": "2025-01-10T14:00:21.014Z"
      },
      {
        "duration": 0,
        "start_time": "2025-01-10T14:00:21.021Z"
      },
      {
        "duration": 0,
        "start_time": "2025-01-10T14:00:21.023Z"
      },
      {
        "duration": 0,
        "start_time": "2025-01-10T14:00:21.024Z"
      },
      {
        "duration": 0,
        "start_time": "2025-01-10T14:00:21.026Z"
      },
      {
        "duration": 0,
        "start_time": "2025-01-10T14:00:21.042Z"
      },
      {
        "duration": 0,
        "start_time": "2025-01-10T14:00:21.044Z"
      },
      {
        "duration": 0,
        "start_time": "2025-01-10T14:00:21.045Z"
      },
      {
        "duration": 291,
        "start_time": "2025-01-10T14:00:39.810Z"
      },
      {
        "duration": 34,
        "start_time": "2025-01-10T14:03:50.762Z"
      },
      {
        "duration": 253,
        "start_time": "2025-01-10T14:05:27.016Z"
      },
      {
        "duration": 35,
        "start_time": "2025-01-10T14:08:45.084Z"
      },
      {
        "duration": 251,
        "start_time": "2025-01-10T14:09:10.860Z"
      },
      {
        "duration": 701,
        "start_time": "2025-01-10T14:09:54.460Z"
      },
      {
        "duration": 182,
        "start_time": "2025-01-10T14:10:40.260Z"
      },
      {
        "duration": 413,
        "start_time": "2025-01-10T14:16:13.979Z"
      },
      {
        "duration": 6,
        "start_time": "2025-01-10T14:18:52.761Z"
      },
      {
        "duration": 398,
        "start_time": "2025-01-10T14:19:16.889Z"
      },
      {
        "duration": 157,
        "start_time": "2025-01-10T14:22:11.901Z"
      },
      {
        "duration": 137,
        "start_time": "2025-01-10T14:22:28.753Z"
      },
      {
        "duration": 137,
        "start_time": "2025-01-10T14:24:47.293Z"
      },
      {
        "duration": 128,
        "start_time": "2025-01-10T14:25:25.601Z"
      },
      {
        "duration": 122,
        "start_time": "2025-01-10T14:25:48.123Z"
      },
      {
        "duration": 9,
        "start_time": "2025-01-10T14:28:16.093Z"
      },
      {
        "duration": 119,
        "start_time": "2025-01-10T14:28:40.254Z"
      },
      {
        "duration": 137,
        "start_time": "2025-01-10T14:28:52.903Z"
      },
      {
        "duration": 119,
        "start_time": "2025-01-10T14:29:43.106Z"
      },
      {
        "duration": 95,
        "start_time": "2025-01-10T14:32:35.785Z"
      },
      {
        "duration": 851,
        "start_time": "2025-01-10T14:35:53.153Z"
      },
      {
        "duration": 162,
        "start_time": "2025-01-10T14:35:54.006Z"
      },
      {
        "duration": 9,
        "start_time": "2025-01-10T14:35:54.170Z"
      },
      {
        "duration": 9,
        "start_time": "2025-01-10T14:35:54.182Z"
      },
      {
        "duration": 7,
        "start_time": "2025-01-10T14:35:54.193Z"
      },
      {
        "duration": 10,
        "start_time": "2025-01-10T14:35:54.201Z"
      },
      {
        "duration": 37,
        "start_time": "2025-01-10T14:35:54.213Z"
      },
      {
        "duration": 8,
        "start_time": "2025-01-10T14:35:54.251Z"
      },
      {
        "duration": 15,
        "start_time": "2025-01-10T14:35:54.260Z"
      },
      {
        "duration": 7,
        "start_time": "2025-01-10T14:35:54.279Z"
      },
      {
        "duration": 172,
        "start_time": "2025-01-10T14:35:54.288Z"
      },
      {
        "duration": 12,
        "start_time": "2025-01-10T14:35:54.462Z"
      },
      {
        "duration": 12,
        "start_time": "2025-01-10T14:35:54.475Z"
      },
      {
        "duration": 8,
        "start_time": "2025-01-10T14:35:54.488Z"
      },
      {
        "duration": 81,
        "start_time": "2025-01-10T14:35:54.497Z"
      },
      {
        "duration": 8,
        "start_time": "2025-01-10T14:35:54.580Z"
      },
      {
        "duration": 13,
        "start_time": "2025-01-10T14:35:54.589Z"
      },
      {
        "duration": 8,
        "start_time": "2025-01-10T14:35:54.604Z"
      },
      {
        "duration": 102,
        "start_time": "2025-01-10T14:35:54.613Z"
      },
      {
        "duration": 11,
        "start_time": "2025-01-10T14:35:54.717Z"
      },
      {
        "duration": 18,
        "start_time": "2025-01-10T14:35:54.729Z"
      },
      {
        "duration": 45,
        "start_time": "2025-01-10T14:35:54.750Z"
      },
      {
        "duration": 57,
        "start_time": "2025-01-10T14:35:54.796Z"
      },
      {
        "duration": 31,
        "start_time": "2025-01-10T14:35:54.855Z"
      },
      {
        "duration": 55,
        "start_time": "2025-01-10T14:35:54.888Z"
      },
      {
        "duration": 51,
        "start_time": "2025-01-10T14:35:54.946Z"
      },
      {
        "duration": 21,
        "start_time": "2025-01-10T14:35:54.998Z"
      },
      {
        "duration": 158,
        "start_time": "2025-01-10T14:35:55.042Z"
      },
      {
        "duration": 835,
        "start_time": "2025-01-10T14:35:55.202Z"
      },
      {
        "duration": 0,
        "start_time": "2025-01-10T14:35:56.043Z"
      },
      {
        "duration": 0,
        "start_time": "2025-01-10T14:35:56.044Z"
      },
      {
        "duration": 0,
        "start_time": "2025-01-10T14:35:56.046Z"
      },
      {
        "duration": 0,
        "start_time": "2025-01-10T14:35:56.047Z"
      },
      {
        "duration": 0,
        "start_time": "2025-01-10T14:35:56.048Z"
      },
      {
        "duration": 0,
        "start_time": "2025-01-10T14:35:56.049Z"
      },
      {
        "duration": 0,
        "start_time": "2025-01-10T14:35:56.051Z"
      },
      {
        "duration": 8,
        "start_time": "2025-01-10T14:40:50.656Z"
      },
      {
        "duration": 417,
        "start_time": "2025-01-10T14:41:17.114Z"
      },
      {
        "duration": 153,
        "start_time": "2025-01-10T14:44:51.525Z"
      },
      {
        "duration": 7,
        "start_time": "2025-01-10T14:45:23.851Z"
      },
      {
        "duration": 222,
        "start_time": "2025-01-10T14:45:32.506Z"
      },
      {
        "duration": 261,
        "start_time": "2025-01-10T14:46:27.012Z"
      },
      {
        "duration": 342,
        "start_time": "2025-01-10T14:52:16.257Z"
      },
      {
        "duration": 799,
        "start_time": "2025-01-10T14:54:36.529Z"
      },
      {
        "duration": 160,
        "start_time": "2025-01-10T14:54:37.330Z"
      },
      {
        "duration": 10,
        "start_time": "2025-01-10T14:54:37.492Z"
      },
      {
        "duration": 9,
        "start_time": "2025-01-10T14:54:37.504Z"
      },
      {
        "duration": 8,
        "start_time": "2025-01-10T14:54:37.515Z"
      },
      {
        "duration": 22,
        "start_time": "2025-01-10T14:54:37.525Z"
      },
      {
        "duration": 9,
        "start_time": "2025-01-10T14:54:37.549Z"
      },
      {
        "duration": 8,
        "start_time": "2025-01-10T14:54:37.559Z"
      },
      {
        "duration": 16,
        "start_time": "2025-01-10T14:54:37.568Z"
      },
      {
        "duration": 6,
        "start_time": "2025-01-10T14:54:37.587Z"
      },
      {
        "duration": 199,
        "start_time": "2025-01-10T14:54:37.595Z"
      },
      {
        "duration": 12,
        "start_time": "2025-01-10T14:54:37.796Z"
      },
      {
        "duration": 12,
        "start_time": "2025-01-10T14:54:37.809Z"
      },
      {
        "duration": 26,
        "start_time": "2025-01-10T14:54:37.822Z"
      },
      {
        "duration": 58,
        "start_time": "2025-01-10T14:54:37.850Z"
      },
      {
        "duration": 8,
        "start_time": "2025-01-10T14:54:37.911Z"
      },
      {
        "duration": 28,
        "start_time": "2025-01-10T14:54:37.921Z"
      },
      {
        "duration": 10,
        "start_time": "2025-01-10T14:54:37.951Z"
      },
      {
        "duration": 93,
        "start_time": "2025-01-10T14:54:37.963Z"
      },
      {
        "duration": 11,
        "start_time": "2025-01-10T14:54:38.057Z"
      },
      {
        "duration": 7,
        "start_time": "2025-01-10T14:54:38.070Z"
      },
      {
        "duration": 66,
        "start_time": "2025-01-10T14:54:38.079Z"
      },
      {
        "duration": 38,
        "start_time": "2025-01-10T14:54:38.147Z"
      },
      {
        "duration": 32,
        "start_time": "2025-01-10T14:54:38.187Z"
      },
      {
        "duration": 58,
        "start_time": "2025-01-10T14:54:38.220Z"
      },
      {
        "duration": 66,
        "start_time": "2025-01-10T14:54:38.280Z"
      },
      {
        "duration": 21,
        "start_time": "2025-01-10T14:54:38.349Z"
      },
      {
        "duration": 155,
        "start_time": "2025-01-10T14:54:38.374Z"
      },
      {
        "duration": 667,
        "start_time": "2025-01-10T14:54:38.530Z"
      },
      {
        "duration": 0,
        "start_time": "2025-01-10T14:54:39.199Z"
      },
      {
        "duration": 0,
        "start_time": "2025-01-10T14:54:39.201Z"
      },
      {
        "duration": 0,
        "start_time": "2025-01-10T14:54:39.202Z"
      },
      {
        "duration": 0,
        "start_time": "2025-01-10T14:54:39.204Z"
      },
      {
        "duration": 0,
        "start_time": "2025-01-10T14:54:39.206Z"
      },
      {
        "duration": 0,
        "start_time": "2025-01-10T14:54:39.207Z"
      },
      {
        "duration": 0,
        "start_time": "2025-01-10T14:54:39.209Z"
      },
      {
        "duration": 434,
        "start_time": "2025-01-10T14:55:28.886Z"
      },
      {
        "duration": 160,
        "start_time": "2025-01-10T14:57:21.515Z"
      },
      {
        "duration": 160,
        "start_time": "2025-01-10T14:57:54.487Z"
      },
      {
        "duration": 137,
        "start_time": "2025-01-10T14:59:39.620Z"
      },
      {
        "duration": 136,
        "start_time": "2025-01-10T15:00:37.007Z"
      },
      {
        "duration": 866,
        "start_time": "2025-01-10T15:02:28.580Z"
      },
      {
        "duration": 152,
        "start_time": "2025-01-10T15:02:29.448Z"
      },
      {
        "duration": 9,
        "start_time": "2025-01-10T15:02:29.601Z"
      },
      {
        "duration": 9,
        "start_time": "2025-01-10T15:02:29.613Z"
      },
      {
        "duration": 19,
        "start_time": "2025-01-10T15:02:29.624Z"
      },
      {
        "duration": 10,
        "start_time": "2025-01-10T15:02:29.645Z"
      },
      {
        "duration": 11,
        "start_time": "2025-01-10T15:02:29.656Z"
      },
      {
        "duration": 7,
        "start_time": "2025-01-10T15:02:29.669Z"
      },
      {
        "duration": 14,
        "start_time": "2025-01-10T15:02:29.678Z"
      },
      {
        "duration": 7,
        "start_time": "2025-01-10T15:02:29.695Z"
      },
      {
        "duration": 185,
        "start_time": "2025-01-10T15:02:29.703Z"
      },
      {
        "duration": 13,
        "start_time": "2025-01-10T15:02:29.890Z"
      },
      {
        "duration": 11,
        "start_time": "2025-01-10T15:02:29.905Z"
      },
      {
        "duration": 30,
        "start_time": "2025-01-10T15:02:29.918Z"
      },
      {
        "duration": 55,
        "start_time": "2025-01-10T15:02:29.950Z"
      },
      {
        "duration": 8,
        "start_time": "2025-01-10T15:02:30.007Z"
      },
      {
        "duration": 34,
        "start_time": "2025-01-10T15:02:30.017Z"
      },
      {
        "duration": 9,
        "start_time": "2025-01-10T15:02:30.053Z"
      },
      {
        "duration": 87,
        "start_time": "2025-01-10T15:02:30.063Z"
      },
      {
        "duration": 10,
        "start_time": "2025-01-10T15:02:30.152Z"
      },
      {
        "duration": 6,
        "start_time": "2025-01-10T15:02:30.163Z"
      },
      {
        "duration": 45,
        "start_time": "2025-01-10T15:02:30.171Z"
      },
      {
        "duration": 59,
        "start_time": "2025-01-10T15:02:30.218Z"
      },
      {
        "duration": 32,
        "start_time": "2025-01-10T15:02:30.279Z"
      },
      {
        "duration": 56,
        "start_time": "2025-01-10T15:02:30.312Z"
      },
      {
        "duration": 51,
        "start_time": "2025-01-10T15:02:30.370Z"
      },
      {
        "duration": 39,
        "start_time": "2025-01-10T15:02:30.422Z"
      },
      {
        "duration": 171,
        "start_time": "2025-01-10T15:02:30.466Z"
      },
      {
        "duration": 176,
        "start_time": "2025-01-10T15:02:30.639Z"
      },
      {
        "duration": 4,
        "start_time": "2025-01-10T15:02:30.817Z"
      },
      {
        "duration": 0,
        "start_time": "2025-01-10T15:02:30.822Z"
      },
      {
        "duration": 0,
        "start_time": "2025-01-10T15:02:30.824Z"
      },
      {
        "duration": 0,
        "start_time": "2025-01-10T15:02:30.825Z"
      },
      {
        "duration": 0,
        "start_time": "2025-01-10T15:02:30.844Z"
      },
      {
        "duration": 0,
        "start_time": "2025-01-10T15:02:30.845Z"
      },
      {
        "duration": 0,
        "start_time": "2025-01-10T15:02:30.846Z"
      },
      {
        "duration": 1330,
        "start_time": "2025-01-10T15:03:23.634Z"
      },
      {
        "duration": 355,
        "start_time": "2025-01-10T15:03:39.360Z"
      },
      {
        "duration": 217,
        "start_time": "2025-01-10T15:03:58.658Z"
      },
      {
        "duration": 157,
        "start_time": "2025-01-10T15:04:12.001Z"
      },
      {
        "duration": 142,
        "start_time": "2025-01-10T15:04:27.577Z"
      },
      {
        "duration": 152,
        "start_time": "2025-01-10T15:05:17.775Z"
      },
      {
        "duration": 294,
        "start_time": "2025-01-10T15:06:10.860Z"
      },
      {
        "duration": 468,
        "start_time": "2025-01-10T15:09:16.249Z"
      },
      {
        "duration": 1458,
        "start_time": "2025-01-10T15:09:57.631Z"
      },
      {
        "duration": 159,
        "start_time": "2025-01-10T15:15:59.557Z"
      },
      {
        "duration": 612,
        "start_time": "2025-01-10T15:17:36.899Z"
      },
      {
        "duration": 71,
        "start_time": "2025-01-10T15:23:24.546Z"
      },
      {
        "duration": 55,
        "start_time": "2025-01-10T15:23:37.026Z"
      },
      {
        "duration": 164,
        "start_time": "2025-01-10T15:23:48.846Z"
      },
      {
        "duration": 827,
        "start_time": "2025-01-10T15:25:46.042Z"
      },
      {
        "duration": 158,
        "start_time": "2025-01-10T15:25:46.871Z"
      },
      {
        "duration": 10,
        "start_time": "2025-01-10T15:25:47.030Z"
      },
      {
        "duration": 9,
        "start_time": "2025-01-10T15:25:47.042Z"
      },
      {
        "duration": 8,
        "start_time": "2025-01-10T15:25:47.054Z"
      },
      {
        "duration": 10,
        "start_time": "2025-01-10T15:25:47.063Z"
      },
      {
        "duration": 8,
        "start_time": "2025-01-10T15:25:47.075Z"
      },
      {
        "duration": 7,
        "start_time": "2025-01-10T15:25:47.085Z"
      },
      {
        "duration": 14,
        "start_time": "2025-01-10T15:25:47.094Z"
      },
      {
        "duration": 7,
        "start_time": "2025-01-10T15:25:47.144Z"
      },
      {
        "duration": 160,
        "start_time": "2025-01-10T15:25:47.153Z"
      },
      {
        "duration": 12,
        "start_time": "2025-01-10T15:25:47.315Z"
      },
      {
        "duration": 23,
        "start_time": "2025-01-10T15:25:47.329Z"
      },
      {
        "duration": 7,
        "start_time": "2025-01-10T15:25:47.356Z"
      },
      {
        "duration": 58,
        "start_time": "2025-01-10T15:25:47.365Z"
      },
      {
        "duration": 8,
        "start_time": "2025-01-10T15:25:47.443Z"
      },
      {
        "duration": 13,
        "start_time": "2025-01-10T15:25:47.453Z"
      },
      {
        "duration": 9,
        "start_time": "2025-01-10T15:25:47.467Z"
      },
      {
        "duration": 96,
        "start_time": "2025-01-10T15:25:47.477Z"
      },
      {
        "duration": 11,
        "start_time": "2025-01-10T15:25:47.575Z"
      },
      {
        "duration": 6,
        "start_time": "2025-01-10T15:25:47.587Z"
      },
      {
        "duration": 67,
        "start_time": "2025-01-10T15:25:47.595Z"
      },
      {
        "duration": 37,
        "start_time": "2025-01-10T15:25:47.663Z"
      },
      {
        "duration": 44,
        "start_time": "2025-01-10T15:25:47.701Z"
      },
      {
        "duration": 41,
        "start_time": "2025-01-10T15:25:47.747Z"
      },
      {
        "duration": 67,
        "start_time": "2025-01-10T15:25:47.789Z"
      },
      {
        "duration": 20,
        "start_time": "2025-01-10T15:25:47.858Z"
      },
      {
        "duration": 172,
        "start_time": "2025-01-10T15:25:47.879Z"
      },
      {
        "duration": 170,
        "start_time": "2025-01-10T15:25:48.053Z"
      },
      {
        "duration": 1488,
        "start_time": "2025-01-10T15:25:48.225Z"
      },
      {
        "duration": 3,
        "start_time": "2025-01-10T15:25:49.715Z"
      },
      {
        "duration": 2,
        "start_time": "2025-01-10T15:25:49.720Z"
      },
      {
        "duration": 3,
        "start_time": "2025-01-10T15:25:49.723Z"
      },
      {
        "duration": 2,
        "start_time": "2025-01-10T15:25:49.744Z"
      },
      {
        "duration": 3,
        "start_time": "2025-01-10T15:25:49.748Z"
      },
      {
        "duration": 3,
        "start_time": "2025-01-10T15:25:49.752Z"
      },
      {
        "duration": 221,
        "start_time": "2025-01-10T15:27:29.512Z"
      },
      {
        "duration": 119,
        "start_time": "2025-01-10T15:27:51.458Z"
      },
      {
        "duration": 118,
        "start_time": "2025-01-10T15:28:25.339Z"
      },
      {
        "duration": 140,
        "start_time": "2025-01-10T15:30:41.056Z"
      },
      {
        "duration": 5,
        "start_time": "2025-01-10T15:32:47.130Z"
      },
      {
        "duration": 310,
        "start_time": "2025-01-10T15:32:59.559Z"
      },
      {
        "duration": 219,
        "start_time": "2025-01-10T15:35:29.202Z"
      },
      {
        "duration": 200,
        "start_time": "2025-01-10T15:36:51.777Z"
      },
      {
        "duration": 241,
        "start_time": "2025-01-10T15:39:44.120Z"
      },
      {
        "duration": 530,
        "start_time": "2025-01-10T15:41:23.786Z"
      },
      {
        "duration": 478,
        "start_time": "2025-01-10T15:41:59.496Z"
      },
      {
        "duration": 415,
        "start_time": "2025-01-10T15:42:25.037Z"
      },
      {
        "duration": 374,
        "start_time": "2025-01-10T15:42:35.496Z"
      },
      {
        "duration": 420,
        "start_time": "2025-01-10T15:42:46.658Z"
      },
      {
        "duration": 205,
        "start_time": "2025-01-10T15:43:34.104Z"
      },
      {
        "duration": 157,
        "start_time": "2025-01-10T19:33:57.575Z"
      },
      {
        "duration": 2528,
        "start_time": "2025-01-10T19:34:07.343Z"
      },
      {
        "duration": 206,
        "start_time": "2025-01-10T19:34:09.874Z"
      },
      {
        "duration": 11,
        "start_time": "2025-01-10T19:34:10.082Z"
      },
      {
        "duration": 11,
        "start_time": "2025-01-10T19:34:10.096Z"
      },
      {
        "duration": 10,
        "start_time": "2025-01-10T19:34:10.109Z"
      },
      {
        "duration": 10,
        "start_time": "2025-01-10T19:34:10.121Z"
      },
      {
        "duration": 9,
        "start_time": "2025-01-10T19:34:10.133Z"
      },
      {
        "duration": 7,
        "start_time": "2025-01-10T19:34:10.144Z"
      },
      {
        "duration": 15,
        "start_time": "2025-01-10T19:34:10.152Z"
      },
      {
        "duration": 39,
        "start_time": "2025-01-10T19:34:10.169Z"
      },
      {
        "duration": 153,
        "start_time": "2025-01-10T19:34:10.210Z"
      },
      {
        "duration": 12,
        "start_time": "2025-01-10T19:34:10.364Z"
      },
      {
        "duration": 10,
        "start_time": "2025-01-10T19:34:10.378Z"
      },
      {
        "duration": 22,
        "start_time": "2025-01-10T19:34:10.390Z"
      },
      {
        "duration": 57,
        "start_time": "2025-01-10T19:34:10.414Z"
      },
      {
        "duration": 9,
        "start_time": "2025-01-10T19:34:10.472Z"
      },
      {
        "duration": 14,
        "start_time": "2025-01-10T19:34:10.505Z"
      },
      {
        "duration": 8,
        "start_time": "2025-01-10T19:34:10.520Z"
      },
      {
        "duration": 91,
        "start_time": "2025-01-10T19:34:10.530Z"
      },
      {
        "duration": 10,
        "start_time": "2025-01-10T19:34:10.623Z"
      },
      {
        "duration": 7,
        "start_time": "2025-01-10T19:34:10.634Z"
      },
      {
        "duration": 66,
        "start_time": "2025-01-10T19:34:10.643Z"
      },
      {
        "duration": 37,
        "start_time": "2025-01-10T19:34:10.711Z"
      },
      {
        "duration": 31,
        "start_time": "2025-01-10T19:34:10.750Z"
      },
      {
        "duration": 56,
        "start_time": "2025-01-10T19:34:10.785Z"
      },
      {
        "duration": 62,
        "start_time": "2025-01-10T19:34:10.843Z"
      },
      {
        "duration": 22,
        "start_time": "2025-01-10T19:34:10.906Z"
      },
      {
        "duration": 154,
        "start_time": "2025-01-10T19:34:10.932Z"
      },
      {
        "duration": 208,
        "start_time": "2025-01-10T19:34:11.087Z"
      },
      {
        "duration": 220,
        "start_time": "2025-01-10T19:34:11.297Z"
      },
      {
        "duration": 2,
        "start_time": "2025-01-10T19:34:11.520Z"
      },
      {
        "duration": 2,
        "start_time": "2025-01-10T19:34:11.524Z"
      },
      {
        "duration": 2,
        "start_time": "2025-01-10T19:34:11.528Z"
      },
      {
        "duration": 3,
        "start_time": "2025-01-10T19:34:11.532Z"
      },
      {
        "duration": 2,
        "start_time": "2025-01-10T19:34:11.537Z"
      },
      {
        "duration": 3,
        "start_time": "2025-01-10T19:34:11.541Z"
      },
      {
        "duration": 302,
        "start_time": "2025-01-10T19:34:54.946Z"
      },
      {
        "duration": 5,
        "start_time": "2025-01-10T19:44:29.553Z"
      },
      {
        "duration": 7,
        "start_time": "2025-01-10T19:45:11.978Z"
      },
      {
        "duration": 11,
        "start_time": "2025-01-10T19:45:37.383Z"
      },
      {
        "duration": 8,
        "start_time": "2025-01-10T19:45:55.313Z"
      },
      {
        "duration": 8,
        "start_time": "2025-01-10T19:46:16.695Z"
      },
      {
        "duration": 2,
        "start_time": "2025-01-10T19:46:18.868Z"
      },
      {
        "duration": 8,
        "start_time": "2025-01-10T19:48:46.631Z"
      },
      {
        "duration": 136,
        "start_time": "2025-01-10T19:49:48.178Z"
      },
      {
        "duration": 498,
        "start_time": "2025-01-10T19:50:56.037Z"
      },
      {
        "duration": 7,
        "start_time": "2025-01-10T19:51:22.272Z"
      },
      {
        "duration": 8,
        "start_time": "2025-01-10T19:51:33.542Z"
      },
      {
        "duration": 100,
        "start_time": "2025-01-10T19:52:29.046Z"
      },
      {
        "duration": 4,
        "start_time": "2025-01-10T19:53:53.224Z"
      },
      {
        "duration": 89,
        "start_time": "2025-01-10T19:54:00.605Z"
      },
      {
        "duration": 142,
        "start_time": "2025-01-10T19:54:55.418Z"
      },
      {
        "duration": 13,
        "start_time": "2025-01-10T19:55:15.862Z"
      },
      {
        "duration": 136,
        "start_time": "2025-01-10T19:56:19.362Z"
      },
      {
        "duration": 509,
        "start_time": "2025-01-10T19:56:55.087Z"
      },
      {
        "duration": 148,
        "start_time": "2025-01-10T19:57:02.793Z"
      },
      {
        "duration": 133,
        "start_time": "2025-01-10T19:57:16.511Z"
      },
      {
        "duration": 74,
        "start_time": "2025-01-10T19:57:23.502Z"
      },
      {
        "duration": 206,
        "start_time": "2025-01-10T19:57:34.946Z"
      },
      {
        "duration": 77,
        "start_time": "2025-01-10T19:57:48.129Z"
      },
      {
        "duration": 75,
        "start_time": "2025-01-10T19:57:53.656Z"
      },
      {
        "duration": 135,
        "start_time": "2025-01-10T19:58:11.317Z"
      },
      {
        "duration": 320,
        "start_time": "2025-01-10T19:58:33.423Z"
      },
      {
        "duration": 47,
        "start_time": "2025-01-10T20:28:27.673Z"
      },
      {
        "duration": 37,
        "start_time": "2025-01-10T20:28:47.052Z"
      },
      {
        "duration": 42,
        "start_time": "2025-01-10T20:29:38.434Z"
      },
      {
        "duration": 171,
        "start_time": "2025-01-10T20:30:01.005Z"
      },
      {
        "duration": 185,
        "start_time": "2025-01-10T20:30:19.872Z"
      },
      {
        "duration": 159,
        "start_time": "2025-01-10T20:30:45.549Z"
      },
      {
        "duration": 784,
        "start_time": "2025-01-10T20:31:05.511Z"
      },
      {
        "duration": 151,
        "start_time": "2025-01-10T20:31:06.297Z"
      },
      {
        "duration": 10,
        "start_time": "2025-01-10T20:31:06.450Z"
      },
      {
        "duration": 10,
        "start_time": "2025-01-10T20:31:06.463Z"
      },
      {
        "duration": 8,
        "start_time": "2025-01-10T20:31:06.474Z"
      },
      {
        "duration": 28,
        "start_time": "2025-01-10T20:31:06.483Z"
      },
      {
        "duration": 11,
        "start_time": "2025-01-10T20:31:06.513Z"
      },
      {
        "duration": 10,
        "start_time": "2025-01-10T20:31:06.526Z"
      },
      {
        "duration": 16,
        "start_time": "2025-01-10T20:31:06.538Z"
      },
      {
        "duration": 6,
        "start_time": "2025-01-10T20:31:06.557Z"
      },
      {
        "duration": 180,
        "start_time": "2025-01-10T20:31:06.565Z"
      },
      {
        "duration": 12,
        "start_time": "2025-01-10T20:31:06.747Z"
      },
      {
        "duration": 12,
        "start_time": "2025-01-10T20:31:06.760Z"
      },
      {
        "duration": 8,
        "start_time": "2025-01-10T20:31:06.773Z"
      },
      {
        "duration": 56,
        "start_time": "2025-01-10T20:31:06.806Z"
      },
      {
        "duration": 11,
        "start_time": "2025-01-10T20:31:06.864Z"
      },
      {
        "duration": 29,
        "start_time": "2025-01-10T20:31:06.878Z"
      },
      {
        "duration": 8,
        "start_time": "2025-01-10T20:31:06.909Z"
      },
      {
        "duration": 100,
        "start_time": "2025-01-10T20:31:06.919Z"
      },
      {
        "duration": 10,
        "start_time": "2025-01-10T20:31:07.021Z"
      },
      {
        "duration": 6,
        "start_time": "2025-01-10T20:31:07.034Z"
      },
      {
        "duration": 44,
        "start_time": "2025-01-10T20:31:07.042Z"
      },
      {
        "duration": 39,
        "start_time": "2025-01-10T20:31:07.105Z"
      },
      {
        "duration": 32,
        "start_time": "2025-01-10T20:31:07.146Z"
      },
      {
        "duration": 57,
        "start_time": "2025-01-10T20:31:07.179Z"
      },
      {
        "duration": 47,
        "start_time": "2025-01-10T20:31:07.238Z"
      },
      {
        "duration": 36,
        "start_time": "2025-01-10T20:31:07.287Z"
      },
      {
        "duration": 151,
        "start_time": "2025-01-10T20:31:07.328Z"
      },
      {
        "duration": 175,
        "start_time": "2025-01-10T20:31:07.482Z"
      },
      {
        "duration": 261,
        "start_time": "2025-01-10T20:31:07.659Z"
      },
      {
        "duration": 8,
        "start_time": "2025-01-10T20:31:07.922Z"
      },
      {
        "duration": 242,
        "start_time": "2025-01-10T20:31:07.932Z"
      },
      {
        "duration": 163,
        "start_time": "2025-01-10T20:31:08.176Z"
      },
      {
        "duration": 2,
        "start_time": "2025-01-10T20:31:08.341Z"
      },
      {
        "duration": 3,
        "start_time": "2025-01-10T20:31:08.345Z"
      },
      {
        "duration": 3,
        "start_time": "2025-01-10T20:31:08.349Z"
      },
      {
        "duration": 206,
        "start_time": "2025-01-10T20:33:16.270Z"
      },
      {
        "duration": 223,
        "start_time": "2025-01-10T20:33:58.850Z"
      },
      {
        "duration": 284,
        "start_time": "2025-01-10T20:34:34.838Z"
      },
      {
        "duration": 251,
        "start_time": "2025-01-10T20:34:58.909Z"
      },
      {
        "duration": 253,
        "start_time": "2025-01-10T20:35:18.183Z"
      },
      {
        "duration": 305,
        "start_time": "2025-01-10T20:36:07.712Z"
      },
      {
        "duration": 250,
        "start_time": "2025-01-10T20:36:25.081Z"
      },
      {
        "duration": 385,
        "start_time": "2025-01-10T20:36:33.833Z"
      },
      {
        "duration": 218,
        "start_time": "2025-01-10T20:36:57.366Z"
      },
      {
        "duration": 208,
        "start_time": "2025-01-10T20:37:17.851Z"
      },
      {
        "duration": 198,
        "start_time": "2025-01-10T20:40:50.381Z"
      },
      {
        "duration": 219,
        "start_time": "2025-01-10T20:41:33.602Z"
      },
      {
        "duration": 308,
        "start_time": "2025-01-10T20:41:45.141Z"
      },
      {
        "duration": 255,
        "start_time": "2025-01-10T20:42:07.139Z"
      },
      {
        "duration": 8,
        "start_time": "2025-01-10T20:44:09.035Z"
      },
      {
        "duration": 85,
        "start_time": "2025-01-10T20:45:42.692Z"
      },
      {
        "duration": 220,
        "start_time": "2025-01-10T20:46:36.147Z"
      },
      {
        "duration": 154,
        "start_time": "2025-01-10T20:48:21.000Z"
      },
      {
        "duration": 162,
        "start_time": "2025-01-10T21:18:08.414Z"
      },
      {
        "duration": 327,
        "start_time": "2025-01-10T21:34:04.165Z"
      },
      {
        "duration": 204,
        "start_time": "2025-01-10T21:34:19.817Z"
      },
      {
        "duration": 214,
        "start_time": "2025-01-10T21:34:34.022Z"
      },
      {
        "duration": 164,
        "start_time": "2025-01-10T21:39:46.008Z"
      },
      {
        "duration": 150,
        "start_time": "2025-01-10T22:12:08.517Z"
      },
      {
        "duration": 258,
        "start_time": "2025-01-10T22:17:44.359Z"
      },
      {
        "duration": 926,
        "start_time": "2025-01-10T22:28:30.002Z"
      },
      {
        "duration": 197,
        "start_time": "2025-01-10T22:29:41.236Z"
      },
      {
        "duration": 187,
        "start_time": "2025-01-10T22:30:21.962Z"
      },
      {
        "duration": 276,
        "start_time": "2025-01-10T22:30:22.458Z"
      },
      {
        "duration": 188,
        "start_time": "2025-01-10T22:30:22.977Z"
      },
      {
        "duration": 898,
        "start_time": "2025-01-10T22:57:42.536Z"
      },
      {
        "duration": 201,
        "start_time": "2025-01-10T22:57:43.437Z"
      },
      {
        "duration": 9,
        "start_time": "2025-01-10T22:57:43.640Z"
      },
      {
        "duration": 10,
        "start_time": "2025-01-10T22:57:43.651Z"
      },
      {
        "duration": 8,
        "start_time": "2025-01-10T22:57:43.663Z"
      },
      {
        "duration": 11,
        "start_time": "2025-01-10T22:57:43.672Z"
      },
      {
        "duration": 9,
        "start_time": "2025-01-10T22:57:43.684Z"
      },
      {
        "duration": 17,
        "start_time": "2025-01-10T22:57:43.694Z"
      },
      {
        "duration": 25,
        "start_time": "2025-01-10T22:57:43.713Z"
      },
      {
        "duration": 7,
        "start_time": "2025-01-10T22:57:43.740Z"
      },
      {
        "duration": 197,
        "start_time": "2025-01-10T22:57:43.749Z"
      },
      {
        "duration": 12,
        "start_time": "2025-01-10T22:57:43.948Z"
      },
      {
        "duration": 12,
        "start_time": "2025-01-10T22:57:43.962Z"
      },
      {
        "duration": 34,
        "start_time": "2025-01-10T22:57:43.978Z"
      },
      {
        "duration": 70,
        "start_time": "2025-01-10T22:57:44.013Z"
      },
      {
        "duration": 8,
        "start_time": "2025-01-10T22:57:44.085Z"
      },
      {
        "duration": 22,
        "start_time": "2025-01-10T22:57:44.095Z"
      },
      {
        "duration": 16,
        "start_time": "2025-01-10T22:57:44.119Z"
      },
      {
        "duration": 102,
        "start_time": "2025-01-10T22:57:44.137Z"
      },
      {
        "duration": 10,
        "start_time": "2025-01-10T22:57:44.241Z"
      },
      {
        "duration": 6,
        "start_time": "2025-01-10T22:57:44.253Z"
      },
      {
        "duration": 63,
        "start_time": "2025-01-10T22:57:44.261Z"
      },
      {
        "duration": 47,
        "start_time": "2025-01-10T22:57:44.326Z"
      },
      {
        "duration": 62,
        "start_time": "2025-01-10T22:57:44.375Z"
      },
      {
        "duration": 40,
        "start_time": "2025-01-10T22:57:44.439Z"
      },
      {
        "duration": 70,
        "start_time": "2025-01-10T22:57:44.481Z"
      },
      {
        "duration": 20,
        "start_time": "2025-01-10T22:57:44.553Z"
      },
      {
        "duration": 184,
        "start_time": "2025-01-10T22:57:44.575Z"
      },
      {
        "duration": 216,
        "start_time": "2025-01-10T22:57:44.760Z"
      },
      {
        "duration": 320,
        "start_time": "2025-01-10T22:57:44.978Z"
      },
      {
        "duration": 28,
        "start_time": "2025-01-10T22:57:45.300Z"
      },
      {
        "duration": 242,
        "start_time": "2025-01-10T22:57:45.332Z"
      },
      {
        "duration": 185,
        "start_time": "2025-01-10T22:57:45.576Z"
      },
      {
        "duration": 308,
        "start_time": "2025-01-10T22:57:45.763Z"
      },
      {
        "duration": 190,
        "start_time": "2025-01-10T22:57:46.074Z"
      },
      {
        "duration": 190,
        "start_time": "2025-01-10T22:57:46.266Z"
      },
      {
        "duration": 328,
        "start_time": "2025-01-10T22:57:46.458Z"
      },
      {
        "duration": 194,
        "start_time": "2025-01-10T22:57:46.788Z"
      },
      {
        "duration": 193,
        "start_time": "2025-01-10T22:57:46.984Z"
      },
      {
        "duration": 269,
        "start_time": "2025-01-10T22:57:47.178Z"
      },
      {
        "duration": 188,
        "start_time": "2025-01-10T22:57:47.452Z"
      },
      {
        "duration": 2,
        "start_time": "2025-01-10T22:57:47.642Z"
      },
      {
        "duration": 3,
        "start_time": "2025-01-10T22:57:47.645Z"
      },
      {
        "duration": 4,
        "start_time": "2025-01-10T23:07:57.452Z"
      },
      {
        "duration": 350,
        "start_time": "2025-01-10T23:18:15.214Z"
      },
      {
        "duration": 3,
        "start_time": "2025-01-10T23:18:56.883Z"
      },
      {
        "duration": 4,
        "start_time": "2025-01-10T23:19:20.771Z"
      },
      {
        "duration": 8,
        "start_time": "2025-01-10T23:23:15.424Z"
      },
      {
        "duration": 4,
        "start_time": "2025-01-10T23:25:24.951Z"
      },
      {
        "duration": 4,
        "start_time": "2025-01-10T23:29:20.194Z"
      },
      {
        "duration": 516,
        "start_time": "2025-01-10T23:34:22.481Z"
      },
      {
        "duration": 66,
        "start_time": "2025-01-10T23:34:53.765Z"
      },
      {
        "duration": 45,
        "start_time": "2025-01-10T23:35:37.846Z"
      },
      {
        "duration": 32,
        "start_time": "2025-01-10T23:41:48.467Z"
      },
      {
        "duration": 26,
        "start_time": "2025-01-10T23:47:57.856Z"
      },
      {
        "duration": 20,
        "start_time": "2025-01-10T23:48:27.381Z"
      },
      {
        "duration": 44,
        "start_time": "2025-01-10T23:48:40.688Z"
      },
      {
        "duration": 13,
        "start_time": "2025-01-10T23:52:05.671Z"
      },
      {
        "duration": 894,
        "start_time": "2025-01-11T00:08:11.281Z"
      },
      {
        "duration": 191,
        "start_time": "2025-01-11T00:08:12.177Z"
      },
      {
        "duration": 10,
        "start_time": "2025-01-11T00:08:12.370Z"
      },
      {
        "duration": 8,
        "start_time": "2025-01-11T00:08:12.383Z"
      },
      {
        "duration": 8,
        "start_time": "2025-01-11T00:08:12.393Z"
      },
      {
        "duration": 42,
        "start_time": "2025-01-11T00:08:12.403Z"
      },
      {
        "duration": 16,
        "start_time": "2025-01-11T00:08:12.454Z"
      },
      {
        "duration": 8,
        "start_time": "2025-01-11T00:08:12.471Z"
      },
      {
        "duration": 14,
        "start_time": "2025-01-11T00:08:12.481Z"
      },
      {
        "duration": 13,
        "start_time": "2025-01-11T00:08:12.499Z"
      },
      {
        "duration": 183,
        "start_time": "2025-01-11T00:08:12.514Z"
      },
      {
        "duration": 18,
        "start_time": "2025-01-11T00:08:12.699Z"
      },
      {
        "duration": 20,
        "start_time": "2025-01-11T00:08:12.729Z"
      },
      {
        "duration": 8,
        "start_time": "2025-01-11T00:08:12.751Z"
      },
      {
        "duration": 71,
        "start_time": "2025-01-11T00:08:12.761Z"
      },
      {
        "duration": 11,
        "start_time": "2025-01-11T00:08:12.834Z"
      },
      {
        "duration": 17,
        "start_time": "2025-01-11T00:08:12.847Z"
      },
      {
        "duration": 8,
        "start_time": "2025-01-11T00:08:12.866Z"
      },
      {
        "duration": 114,
        "start_time": "2025-01-11T00:08:12.875Z"
      },
      {
        "duration": 29,
        "start_time": "2025-01-11T00:08:12.991Z"
      },
      {
        "duration": 14,
        "start_time": "2025-01-11T00:08:13.029Z"
      },
      {
        "duration": 43,
        "start_time": "2025-01-11T00:08:13.046Z"
      },
      {
        "duration": 51,
        "start_time": "2025-01-11T00:08:13.092Z"
      },
      {
        "duration": 38,
        "start_time": "2025-01-11T00:08:13.145Z"
      },
      {
        "duration": 74,
        "start_time": "2025-01-11T00:08:13.185Z"
      },
      {
        "duration": 73,
        "start_time": "2025-01-11T00:08:13.261Z"
      },
      {
        "duration": 22,
        "start_time": "2025-01-11T00:08:13.338Z"
      },
      {
        "duration": 185,
        "start_time": "2025-01-11T00:08:13.365Z"
      },
      {
        "duration": 198,
        "start_time": "2025-01-11T00:08:13.552Z"
      },
      {
        "duration": 309,
        "start_time": "2025-01-11T00:08:13.752Z"
      },
      {
        "duration": 9,
        "start_time": "2025-01-11T00:08:14.063Z"
      },
      {
        "duration": 269,
        "start_time": "2025-01-11T00:08:14.074Z"
      },
      {
        "duration": 191,
        "start_time": "2025-01-11T00:08:14.345Z"
      },
      {
        "duration": 302,
        "start_time": "2025-01-11T00:08:14.538Z"
      },
      {
        "duration": 191,
        "start_time": "2025-01-11T00:08:14.843Z"
      },
      {
        "duration": 191,
        "start_time": "2025-01-11T00:08:15.038Z"
      },
      {
        "duration": 335,
        "start_time": "2025-01-11T00:08:15.231Z"
      },
      {
        "duration": 190,
        "start_time": "2025-01-11T00:08:15.568Z"
      },
      {
        "duration": 187,
        "start_time": "2025-01-11T00:08:15.759Z"
      },
      {
        "duration": 280,
        "start_time": "2025-01-11T00:08:15.948Z"
      },
      {
        "duration": 206,
        "start_time": "2025-01-11T00:08:16.233Z"
      },
      {
        "duration": 5,
        "start_time": "2025-01-11T00:08:16.441Z"
      },
      {
        "duration": 12,
        "start_time": "2025-01-11T00:08:16.449Z"
      },
      {
        "duration": 191,
        "start_time": "2025-01-11T00:12:15.196Z"
      },
      {
        "duration": 173,
        "start_time": "2025-01-11T22:49:51.611Z"
      },
      {
        "duration": 2946,
        "start_time": "2025-01-11T22:50:03.252Z"
      },
      {
        "duration": 230,
        "start_time": "2025-01-11T22:50:06.201Z"
      },
      {
        "duration": 11,
        "start_time": "2025-01-11T22:50:06.433Z"
      },
      {
        "duration": 10,
        "start_time": "2025-01-11T22:50:06.446Z"
      },
      {
        "duration": 8,
        "start_time": "2025-01-11T22:50:06.459Z"
      },
      {
        "duration": 11,
        "start_time": "2025-01-11T22:50:06.469Z"
      },
      {
        "duration": 9,
        "start_time": "2025-01-11T22:50:06.482Z"
      },
      {
        "duration": 9,
        "start_time": "2025-01-11T22:50:06.492Z"
      },
      {
        "duration": 19,
        "start_time": "2025-01-11T22:50:06.502Z"
      },
      {
        "duration": 15,
        "start_time": "2025-01-11T22:50:06.524Z"
      },
      {
        "duration": 222,
        "start_time": "2025-01-11T22:50:06.541Z"
      },
      {
        "duration": 15,
        "start_time": "2025-01-11T22:50:06.771Z"
      },
      {
        "duration": 13,
        "start_time": "2025-01-11T22:50:06.787Z"
      },
      {
        "duration": 10,
        "start_time": "2025-01-11T22:50:06.801Z"
      },
      {
        "duration": 76,
        "start_time": "2025-01-11T22:50:06.812Z"
      },
      {
        "duration": 9,
        "start_time": "2025-01-11T22:50:06.890Z"
      },
      {
        "duration": 15,
        "start_time": "2025-01-11T22:50:06.900Z"
      },
      {
        "duration": 10,
        "start_time": "2025-01-11T22:50:06.916Z"
      },
      {
        "duration": 103,
        "start_time": "2025-01-11T22:50:06.927Z"
      },
      {
        "duration": 11,
        "start_time": "2025-01-11T22:50:07.031Z"
      },
      {
        "duration": 7,
        "start_time": "2025-01-11T22:50:07.044Z"
      },
      {
        "duration": 63,
        "start_time": "2025-01-11T22:50:07.070Z"
      },
      {
        "duration": 61,
        "start_time": "2025-01-11T22:50:07.135Z"
      },
      {
        "duration": 34,
        "start_time": "2025-01-11T22:50:07.198Z"
      },
      {
        "duration": 47,
        "start_time": "2025-01-11T22:50:07.236Z"
      },
      {
        "duration": 61,
        "start_time": "2025-01-11T22:50:07.285Z"
      },
      {
        "duration": 34,
        "start_time": "2025-01-11T22:50:07.349Z"
      },
      {
        "duration": 185,
        "start_time": "2025-01-11T22:50:07.387Z"
      },
      {
        "duration": 182,
        "start_time": "2025-01-11T22:50:07.577Z"
      },
      {
        "duration": 275,
        "start_time": "2025-01-11T22:50:07.763Z"
      },
      {
        "duration": 9,
        "start_time": "2025-01-11T22:50:08.040Z"
      },
      {
        "duration": 260,
        "start_time": "2025-01-11T22:50:08.051Z"
      },
      {
        "duration": 179,
        "start_time": "2025-01-11T22:50:08.314Z"
      },
      {
        "duration": 265,
        "start_time": "2025-01-11T22:50:08.495Z"
      },
      {
        "duration": 161,
        "start_time": "2025-01-11T22:50:08.762Z"
      },
      {
        "duration": 172,
        "start_time": "2025-01-11T22:50:08.926Z"
      },
      {
        "duration": 302,
        "start_time": "2025-01-11T22:50:09.099Z"
      },
      {
        "duration": 167,
        "start_time": "2025-01-11T22:50:09.403Z"
      },
      {
        "duration": 171,
        "start_time": "2025-01-11T22:50:09.572Z"
      },
      {
        "duration": 241,
        "start_time": "2025-01-11T22:50:09.745Z"
      },
      {
        "duration": 167,
        "start_time": "2025-01-11T22:50:09.988Z"
      },
      {
        "duration": 4,
        "start_time": "2025-01-11T22:50:10.169Z"
      },
      {
        "duration": 211,
        "start_time": "2025-01-11T22:50:10.175Z"
      },
      {
        "duration": 5,
        "start_time": "2025-01-11T22:53:47.164Z"
      },
      {
        "duration": 806,
        "start_time": "2025-01-11T23:03:43.141Z"
      },
      {
        "duration": 156,
        "start_time": "2025-01-11T23:03:43.949Z"
      },
      {
        "duration": 9,
        "start_time": "2025-01-11T23:03:44.107Z"
      },
      {
        "duration": 9,
        "start_time": "2025-01-11T23:03:44.118Z"
      },
      {
        "duration": 8,
        "start_time": "2025-01-11T23:03:44.130Z"
      },
      {
        "duration": 12,
        "start_time": "2025-01-11T23:03:44.140Z"
      },
      {
        "duration": 9,
        "start_time": "2025-01-11T23:03:44.170Z"
      },
      {
        "duration": 9,
        "start_time": "2025-01-11T23:03:44.181Z"
      },
      {
        "duration": 16,
        "start_time": "2025-01-11T23:03:44.192Z"
      },
      {
        "duration": 8,
        "start_time": "2025-01-11T23:03:44.209Z"
      },
      {
        "duration": 182,
        "start_time": "2025-01-11T23:03:44.218Z"
      },
      {
        "duration": 12,
        "start_time": "2025-01-11T23:03:44.402Z"
      },
      {
        "duration": 13,
        "start_time": "2025-01-11T23:03:44.416Z"
      },
      {
        "duration": 8,
        "start_time": "2025-01-11T23:03:44.434Z"
      },
      {
        "duration": 83,
        "start_time": "2025-01-11T23:03:44.443Z"
      },
      {
        "duration": 9,
        "start_time": "2025-01-11T23:03:44.528Z"
      },
      {
        "duration": 15,
        "start_time": "2025-01-11T23:03:44.538Z"
      },
      {
        "duration": 8,
        "start_time": "2025-01-11T23:03:44.572Z"
      },
      {
        "duration": 75,
        "start_time": "2025-01-11T23:03:44.582Z"
      },
      {
        "duration": 13,
        "start_time": "2025-01-11T23:03:44.670Z"
      },
      {
        "duration": 9,
        "start_time": "2025-01-11T23:03:44.684Z"
      },
      {
        "duration": 57,
        "start_time": "2025-01-11T23:03:44.694Z"
      },
      {
        "duration": 49,
        "start_time": "2025-01-11T23:03:44.771Z"
      },
      {
        "duration": 52,
        "start_time": "2025-01-11T23:03:44.821Z"
      },
      {
        "duration": 38,
        "start_time": "2025-01-11T23:03:44.875Z"
      },
      {
        "duration": 64,
        "start_time": "2025-01-11T23:03:44.915Z"
      },
      {
        "duration": 25,
        "start_time": "2025-01-11T23:03:44.980Z"
      },
      {
        "duration": 151,
        "start_time": "2025-01-11T23:03:45.008Z"
      },
      {
        "duration": 193,
        "start_time": "2025-01-11T23:03:45.161Z"
      },
      {
        "duration": 277,
        "start_time": "2025-01-11T23:03:45.356Z"
      },
      {
        "duration": 10,
        "start_time": "2025-01-11T23:03:45.635Z"
      },
      {
        "duration": 226,
        "start_time": "2025-01-11T23:03:45.646Z"
      },
      {
        "duration": 163,
        "start_time": "2025-01-11T23:03:45.875Z"
      },
      {
        "duration": 265,
        "start_time": "2025-01-11T23:03:46.040Z"
      },
      {
        "duration": 202,
        "start_time": "2025-01-11T23:03:46.308Z"
      },
      {
        "duration": 199,
        "start_time": "2025-01-11T23:03:46.512Z"
      },
      {
        "duration": 308,
        "start_time": "2025-01-11T23:03:46.713Z"
      },
      {
        "duration": 183,
        "start_time": "2025-01-11T23:03:47.023Z"
      },
      {
        "duration": 176,
        "start_time": "2025-01-11T23:03:47.208Z"
      },
      {
        "duration": 284,
        "start_time": "2025-01-11T23:03:47.386Z"
      },
      {
        "duration": 172,
        "start_time": "2025-01-11T23:03:47.676Z"
      },
      {
        "duration": 6,
        "start_time": "2025-01-11T23:03:47.852Z"
      },
      {
        "duration": 174,
        "start_time": "2025-01-11T23:03:47.860Z"
      }
    ],
    "colab": {
      "provenance": [],
      "include_colab_link": true
    },
    "kernelspec": {
      "display_name": "ambiente_general",
      "language": "python",
      "name": "python3"
    },
    "language_info": {
      "codemirror_mode": {
        "name": "ipython",
        "version": 3
      },
      "file_extension": ".py",
      "mimetype": "text/x-python",
      "name": "python",
      "nbconvert_exporter": "python",
      "pygments_lexer": "ipython3",
      "version": "3.13.3"
    },
    "toc": {
      "base_numbering": 1,
      "nav_menu": {},
      "number_sections": true,
      "sideBar": true,
      "skip_h1_title": false,
      "title_cell": "Table of Contents",
      "title_sidebar": "Contents",
      "toc_cell": false,
      "toc_position": {
        "height": "calc(100% - 180px)",
        "left": "10px",
        "top": "150px",
        "width": "270px"
      },
      "toc_section_display": true,
      "toc_window_display": true
    }
  },
  "nbformat": 4,
  "nbformat_minor": 0
}